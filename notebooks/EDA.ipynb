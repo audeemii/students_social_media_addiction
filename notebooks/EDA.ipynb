{
 "cells": [
  {
   "cell_type": "markdown",
   "id": "66bed022",
   "metadata": {},
   "source": [
    "# Sprint 7\n",
    "\n",
    "Este notebook contiene toda la información sobre el proyecto. Contiene las instrucciones detalladas para completar el proyecto indicadas <a href=\"https://tripleten.com/trainer/data-scientist/lesson/c779060b-b834-47b3-ac73-7fc21b61558b/\">aquí</a>, la explicación, exploración y análisis de los datos, así como la presentación de conclusiones de comentarios sobre el proyecto.\n",
    "\n",
    "## Instrucciones para completar el proyecto\n",
    "\n",
    "### Paso 1. Configuración\n",
    "\n",
    "1. Crea una cuenta en github.com. Si ya tienes una cuenta o creaste una mientras avanzabas en el capítulo Git y GitHub, puedes omitir este paso. ✅\n",
    "\n",
    "1. Crea un nuevo repositorio git con un archivo README.md y un archivo .gitignore (hay que elegir la plantilla de Python). Si necesitas repasar, consulta esta lección. ✅\n",
    "\n",
    "1. Si no lo has hecho, crea una cuenta en render.com. <a href=\"https://tripleten.com/trainer/data-analyst/lesson/c434dc0f-799f-4cfd-a06c-61b49db65fa3/\">En esta lección</a> se analizaron las aplicaciones web y de renderizado. Al crear una cuenta de Render, elige la opción \"Github\" y sigue los pasos de registro. Esto es exactamente lo que necesitas para vincular tu cuenta de Render a tu cuenta de GitHub. ✅\n",
    "\n",
    "1. Este proyecto implica realizar un análisis exploratorio de datos. Para lograrlo, necesitarás tener instalados los paquetes pandas y plotly-express. Anteriormente analizamos plotly en esta lección. plotly-express está diseñado con valores predeterminados razonables y opciones configurables para tipos de gráficos comunes, lo cual lo convierte en un excelente punto de partida para principiantes en comparación con solo plotly. Si eres principiante en esto, no te preocupes, ¡te guiaremos a través del proceso! ✅\n",
    "\n",
    "    Además, necesitarás el paquete streamlit para desarrollar una aplicación web.\n",
    "\n",
    "    Crea un nuevo entorno virtual y asígnale un nombre significativo que esté relacionado con el conjunto de datos con el que trabajarás, por ejemplo, podrías llamarlo vehicles_env.\n",
    "    Asegúrate de haber instalado al menos los siguientes paquetes en el entorno: <span style=\"font-family:Courier New\">pandas</span>, <span style=\"font-family:Courier New\">plotly_express</span> y <span style=\"font-family:Courier New\">streamlit</span>. ✅ Nombre del entorno *_ssma_env_*.\n",
    "\n",
    "\n",
    "    1. Si tienes dificultades para encontrarlos, estos son los comandos para instalar las librerías: ✅\n",
    "\n",
    "        - Para plotly-express, echa un vistazo a <a href=\"https://anaconda.org/plotly/plotly_express\">esta página de documentación</a>.\n",
    "        - <a href=\"https://anaconda.org/anaconda/pandas\">Esta es la página de doc</a> para pandas donde encontrarás el comando para ejecutar.\n",
    "        - Por último, <a href=\"https://anaconda.org/conda-forge/streamlit\">esta es una página para streamlit</a>.\n",
    "        - Además, necesitarás instalar una librería adicional (<span style=\"font-family:Courier New\">nbformat</span>) para habilitar plotly express. Instálala mediante:<p style=\"font-family:Courier New\">conda install -n myenv nbformat</p> \n",
    "\n",
    "1. Clona el repositorio de tu proyecto desde GitHub y ábrelo como un proyecto en VS Code. Este será el directorio de tu proyecto. Configura el intérprete de Python como el utilizado por el entorno virtual que creaste anteriormente. ✅\n",
    "\n",
    "1. Crea el archivo requirements.txt y añade tres librerías ahí sin especificar las versiones: ✅\n",
    "    <p style=\"font-family:Courier New\">pandas</p>\n",
    "    <p style=\"font-family:Courier New\">plotly_express</p>\n",
    "    <p style=\"font-family:Courier New\">streamlit</p>\n",
    "\n",
    "### Paso 2. Descarga del archivo de datos\n",
    "\n",
    "1. Descarga el conjunto de datos de anuncios de coches (vehicles_us.csv) o encuentra tu propio dataset en formato CSV. ✅\n",
    "\n",
    "1. Coloca el conjunto de datos en el directorio del proyecto. ✅\n",
    "\n",
    "### Paso 3. Análisis exploratorio de datos\n",
    "\n",
    "1. Crea un directorio llamado notebooks en el directorio de tu proyecto. ✅\n",
    "\n",
    "1. Crea un Jupyter notebook llamado EDA.ipynb en VS Code y guárdalo en el directorio notebooks de tu proyecto. Recuerda que .ipynb es una extensión de archivo para Jupyter Notebooks. ✅\n",
    "\n",
    "1. Abre el Jupyter notebook EDA.ipynb y experimenta con <a href=\"https://plotly.com/python/plotly-express/\">plotly-express</a> para crear visualizaciones para el análisis exploratorio básico del conjunto de datos dentro del notebook. ✅\n",
    "\n",
    "### Paso 4. Desarrollo del cuadro de mandos de la aplicación web\n",
    "\n",
    "1. Crea un archivo <span style=\"font-family:Courier New\">app.py</span> en la raíz del directorio de tu proyecto. Para crear un archivo .py, haz clic en \"New File\" (Nuevo archivo) en VS Code y guárdalo en el directorio del proyecto con el nombre deseado y la extensión .py.\n",
    "\n",
    "1. Importa <span style=\"font-family:Courier New\">streamlit</span> como <span style=\"font-family:Courier New\">st</span>, <span style=\"font-family:Courier New\">pandas</span> como <span style=\"font-family:Courier New\">pd</span> y <span style=\"font-family:Courier New\">plotly_express</span> como <span style=\"font-family:Courier New\">px</span> al principio del archivo.\n",
    "\n",
    "1. Lee el archivo CSV del conjunto de datos en un DataFrame. El código será el mismo que tenías en el Jupyter Notebook al explorar el conjunto de datos.\n",
    "\n",
    "1. Ahora, vamos a crear el contenido de nuestra aplicación basada en Streamlit. Esto es lo que queremos que incluyas:\n",
    "\n",
    "    - Al menos un encabezado (puedes utilizar <span style=\"font-family:Courier New\">st.header()</span> para hacerlo. En la <a href=\"https://tripleten.com/trainer/data-analyst/lesson/c434dc0f-799f-4cfd-a06c-61b49db65fa3/\">lección de aplicaciones web</a> te mostramos cómo crear un encabezado).\n",
    "    - Crea un botón que, al hacer clic en él, construya un histograma plotly-express. Para hacerlo, considera utilizar las funciones <span style=\"font-family:Courier New\">st.write()</span> y <span style=\"font-family:Courier New\">st.plotly_chart()</span>.\n",
    "\n",
    "1. Asegúrate de actualizar el archivo README cuando hayas terminado. Este debe incluir una breve descripción del proyecto, donde se explique para qué sirve la aplicación web y qué tipo de funcionalidad proporciona.\n",
    "\n",
    "1. Recuerda confirmar y empujar todos los cambios a tu repositorio cuando hayas terminado tu trabajo.\n",
    "\n",
    "Notas a considerar:\n",
    "\n",
    "- Mientras desarrollas tu aplicación añadiendo un nuevo componente de Streamlit, puedes ejecutar el comando streamlit run app.py desde la terminal para ver el resultado.\n",
    "\n",
    "- Es una buena práctica confirmar y enviar tu trabajo a un repositorio remoto en GitHub a medida que vas alcanzando ciertos objetivos en el desarrollo de la aplicación (por ejemplo, añades un componente que funciona y la aplicación se ejecuta sin errores). ¡Así que no te olvides de escribir un mensaje de confirmación significativo!\n",
    "\n",
    "### Paso 5. Despliegue de la versión final de la aplicación en Render\n",
    "\n",
    "1. Accede a tu cuenta en render.com y crea un nuevo servicio web.\n",
    "\n",
    "1. Crea un nuevo servicio web enlazado a tu repositorio de Github.\n",
    "\n",
    "1. Configura el nuevo servicio web Render añadiendo un Build Command que instale todo lo necesario para iniciar tu app, incluyendo streamlit y todos los paquetes de requirements.txt. Utiliza el siguiente comando:<p style=\"font-family:Courier New\">pip install --upgrade pip && pip install -r requirements.txt</p>\n",
    "\n",
    "1. Añade a tu Start Command: streamlit run app.py. Debería verse así:<p style=\"font-family:Courier New\">streamlit run app.py</p>\n",
    "\n",
    "1. Despliega en Render y espera a que el build se ejecute con éxito.\n",
    "\n",
    "1. Comprueba que tu aplicación sea accesible a través de la siguiente URL.\n",
    "\n",
    "    Si actualizas tu repositorio de GitHub, para implementar la versión más reciente en Render, haz clic en \"Manual Deploy\" → \"Latest Commit\" (Implementación manual → Última confirmación).\n",
    "\n",
    "### Paso 6. Enviar proyecto\n",
    "\n",
    "Deberás enviar un enlace a tu repositorio de GitHub. Recuerda dejar Público el repositorio. Si queda privado no podremos verlo.\n",
    "\n",
    "## Análisis exploratorio de datos"
   ]
  },
  {
   "cell_type": "code",
   "execution_count": 1,
   "id": "bd7d86fc",
   "metadata": {},
   "outputs": [],
   "source": [
    "import pandas as pd\n",
    "import plotly.express as px"
   ]
  },
  {
   "cell_type": "markdown",
   "id": "e7843f4c",
   "metadata": {},
   "source": [
    "### Paso 2. Descarga del archivo de datos: Students' Social Media Addiction\n",
    "\n",
    "#### <a href=\"https://www.kaggle.com/datasets/adilshamim8/social-media-addiction-vs-relationships\">About Dataset</a>\n",
    "\n",
    "##### Overview\n",
    "The Student Social Media & Relationships dataset contains anonymized records of students’ social‐media behaviors and related life outcomes. It spans multiple countries and academic levels, focusing on key dimensions such as usage intensity, platform preferences, and relationship dynamics. Each row represents one student’s survey response, offering a cross‐sectional snapshot suitable for statistical analysis and machine‐learning applications.\n",
    "\n",
    "##### Scope & Coverage\n",
    "- Population: Students aged 16–25 enrolled in high school, undergraduate, or graduate programs.\n",
    "- Geography: Multi‐country coverage (e.g., Bangladesh, India, USA, UK, Canada, Australia, Germany, Brazil, Japan, South Korea).\n",
    "- Timeframe: Data collected via a one‐time online survey administered in Q1 2025.\n",
    "- Volume: Configurable sample sizes (e.g., 100, 500, 1,000 records) based on research needs.\n",
    "\n",
    "##### Key variables\n",
    "\n",
    "<table>\n",
    "    <thead>\n",
    "        <tr>\n",
    "            <th>Variable</th>\n",
    "            <th>Type</th>\n",
    "            <th>Description</th>\n",
    "        </tr>\n",
    "    </thead>\n",
    "    <tbody>\n",
    "        <tr>\n",
    "            <td>Student_ID</td>\n",
    "            <td>Integer</td>\n",
    "            <td>Unique respondent identifier</td>\n",
    "        </tr>\n",
    "        <tr>\n",
    "            <td>Age</td>\n",
    "            <td>Integer</td>\n",
    "            <td>Age in years</td>\n",
    "        </tr>\n",
    "        <tr>\n",
    "            <td>Gender</td>\n",
    "            <td>Categorical</td>\n",
    "            <td>“Male” or “Female”</td>\n",
    "        </tr>\n",
    "        <tr>\n",
    "            <td>Academic_Level</td>\n",
    "            <td>Categorical</td>\n",
    "            <td>High School / Undergraduate / Graduate</td>\n",
    "        </tr>\n",
    "        <tr>\n",
    "            <td>Country</td>\n",
    "            <td>Categorical</td>\n",
    "            <td>Country of residence</td>\n",
    "        </tr>\n",
    "        <tr>\n",
    "            <td>Avg_Daily_Usage_Hours</td>\n",
    "            <td>Float</td>\n",
    "            <td>Average hours per day on social media</td>\n",
    "        </tr>\n",
    "        <tr>\n",
    "            <td>Most_Used_Platform</td>\n",
    "            <td>Categorical</td>\n",
    "            <td>Instagram, Facebook, TikTok, etc.</td>\n",
    "        </tr>\n",
    "        <tr>\n",
    "            <td>Affects_Academic_Performance</td>\n",
    "            <td>Boolean</td>\n",
    "            <td>Self‐reported impact on academics (Yes/No)</td>\n",
    "        </tr>\n",
    "        <tr>\n",
    "            <td>Sleep_Hours_Per_Night</td>\n",
    "            <td>Float</td>\n",
    "            <td>Average nightly sleep hours</td>\n",
    "        </tr>\n",
    "        <tr>\n",
    "            <td>Mental_Health_Score</td>\n",
    "            <td>Integer</td>\n",
    "            <td>Self‐rated mental health (1 = poor to 10 = excellent)</td>\n",
    "        </tr>\n",
    "        <tr>\n",
    "            <td>Relationship_Status</td>\n",
    "            <td>Categorical</td>\n",
    "            <td>Single / In Relationship / Complicated</td>\n",
    "        </tr>\n",
    "        <tr>\n",
    "            <td>Relationship_Status</td>\n",
    "            <td>Categorical</td>\n",
    "            <td>Single / In Relationship / Complicated</td>\n",
    "        </tr>\n",
    "        <tr>\n",
    "            <td>Conflicts_Over_Social_Media</td>\n",
    "            <td>Integer</td>\n",
    "            <td>Number of relationship conflicts due to social media</td>\n",
    "        </tr>\n",
    "        <tr>\n",
    "            <td>Addicted_Score</td>\n",
    "            <td>Integer</td>\n",
    "            <td>Social Media Addiction Score (1 = low to 10 = high)</td>\n",
    "        </tr>\n",
    "    </tbody>\n",
    "<table>"
   ]
  },
  {
   "cell_type": "code",
   "execution_count": 2,
   "id": "41aaf117",
   "metadata": {},
   "outputs": [],
   "source": [
    "## Carga el dataset en la misma carpeta\n",
    "df = pd.read_csv('../students_social_media_addiction.csv')\n",
    "\n",
    "## Pasa todos los strings a minusculas (columnas y datos)\n",
    "df.columns = df.columns.str.lower()\n",
    "\n",
    "df['gender'] = df['gender'].str.lower()\n",
    "df['academic_level'] = df['academic_level'].str.lower()\n",
    "df['country'] = df['country'].str.lower()\n",
    "df['most_used_platform'] = df['most_used_platform'].str.lower()\n",
    "df['affects_academic_performance'] = df['affects_academic_performance'].str.lower()\n",
    "df['relationship_status'] = df['relationship_status'].str.lower()\n",
    "\n",
    "## Cambia tipo de datos de 'student_id' a 'str'\n",
    "df['student_id'] = df['student_id'].astype('str')\n",
    "\n",
    "## Renombra algunas columnas por versiones mas cortas\n",
    "colums_name = {\n",
    "    'avg_daily_usage_hours':'daily_usage',\n",
    "    'most_used_platform':'platform',\n",
    "    'affects_academic_performance':'performance',\n",
    "    'sleep_hours_per_night':'spleep_hours',\n",
    "    'mental_health_score':'mental_health',\n",
    "    'relationship_status':'rel_status',\n",
    "    'conflicts_over_social_media':'conflicts'\n",
    "    }\n",
    "df = df.rename( columns=colums_name )"
   ]
  },
  {
   "cell_type": "code",
   "execution_count": 3,
   "id": "57ca299a",
   "metadata": {},
   "outputs": [
    {
     "name": "stdout",
     "output_type": "stream",
     "text": [
      "<class 'pandas.core.frame.DataFrame'>\n",
      "RangeIndex: 705 entries, 0 to 704\n",
      "Data columns (total 13 columns):\n",
      " #   Column          Non-Null Count  Dtype  \n",
      "---  ------          --------------  -----  \n",
      " 0   student_id      705 non-null    object \n",
      " 1   age             705 non-null    int64  \n",
      " 2   gender          705 non-null    object \n",
      " 3   academic_level  705 non-null    object \n",
      " 4   country         705 non-null    object \n",
      " 5   daily_usage     705 non-null    float64\n",
      " 6   platform        705 non-null    object \n",
      " 7   performance     705 non-null    object \n",
      " 8   spleep_hours    705 non-null    float64\n",
      " 9   mental_health   705 non-null    int64  \n",
      " 10  rel_status      705 non-null    object \n",
      " 11  conflicts       705 non-null    int64  \n",
      " 12  addicted_score  705 non-null    int64  \n",
      "dtypes: float64(2), int64(4), object(7)\n",
      "memory usage: 71.7+ KB\n"
     ]
    }
   ],
   "source": [
    "df.info()"
   ]
  },
  {
   "cell_type": "markdown",
   "id": "cad08524",
   "metadata": {},
   "source": [
    "Hay un total de 705 entradas. No hay ninguna columna con valores nulos y como se sabe directamente de la fuente, tampoco hay valores duplicados. Solo es necesario cambiar el tipo de dato de 'student_id' a str."
   ]
  },
  {
   "cell_type": "code",
   "execution_count": 4,
   "id": "0984b55a",
   "metadata": {},
   "outputs": [
    {
     "data": {
      "text/html": [
       "<div>\n",
       "<style scoped>\n",
       "    .dataframe tbody tr th:only-of-type {\n",
       "        vertical-align: middle;\n",
       "    }\n",
       "\n",
       "    .dataframe tbody tr th {\n",
       "        vertical-align: top;\n",
       "    }\n",
       "\n",
       "    .dataframe thead th {\n",
       "        text-align: right;\n",
       "    }\n",
       "</style>\n",
       "<table border=\"1\" class=\"dataframe\">\n",
       "  <thead>\n",
       "    <tr style=\"text-align: right;\">\n",
       "      <th></th>\n",
       "      <th>student_id</th>\n",
       "      <th>age</th>\n",
       "      <th>gender</th>\n",
       "      <th>academic_level</th>\n",
       "      <th>country</th>\n",
       "      <th>daily_usage</th>\n",
       "      <th>platform</th>\n",
       "      <th>performance</th>\n",
       "      <th>spleep_hours</th>\n",
       "      <th>mental_health</th>\n",
       "      <th>rel_status</th>\n",
       "      <th>conflicts</th>\n",
       "      <th>addicted_score</th>\n",
       "    </tr>\n",
       "  </thead>\n",
       "  <tbody>\n",
       "    <tr>\n",
       "      <th>104</th>\n",
       "      <td>105</td>\n",
       "      <td>22</td>\n",
       "      <td>male</td>\n",
       "      <td>graduate</td>\n",
       "      <td>afghanistan</td>\n",
       "      <td>2.9</td>\n",
       "      <td>linkedin</td>\n",
       "      <td>no</td>\n",
       "      <td>7.0</td>\n",
       "      <td>7</td>\n",
       "      <td>complicated</td>\n",
       "      <td>2</td>\n",
       "      <td>5</td>\n",
       "    </tr>\n",
       "    <tr>\n",
       "      <th>160</th>\n",
       "      <td>161</td>\n",
       "      <td>19</td>\n",
       "      <td>female</td>\n",
       "      <td>undergraduate</td>\n",
       "      <td>bangladesh</td>\n",
       "      <td>5.3</td>\n",
       "      <td>instagram</td>\n",
       "      <td>yes</td>\n",
       "      <td>6.1</td>\n",
       "      <td>5</td>\n",
       "      <td>single</td>\n",
       "      <td>3</td>\n",
       "      <td>7</td>\n",
       "    </tr>\n",
       "    <tr>\n",
       "      <th>632</th>\n",
       "      <td>633</td>\n",
       "      <td>23</td>\n",
       "      <td>female</td>\n",
       "      <td>graduate</td>\n",
       "      <td>italy</td>\n",
       "      <td>4.8</td>\n",
       "      <td>twitter</td>\n",
       "      <td>no</td>\n",
       "      <td>7.1</td>\n",
       "      <td>7</td>\n",
       "      <td>in relationship</td>\n",
       "      <td>2</td>\n",
       "      <td>5</td>\n",
       "    </tr>\n",
       "    <tr>\n",
       "      <th>6</th>\n",
       "      <td>7</td>\n",
       "      <td>23</td>\n",
       "      <td>male</td>\n",
       "      <td>graduate</td>\n",
       "      <td>germany</td>\n",
       "      <td>1.5</td>\n",
       "      <td>linkedin</td>\n",
       "      <td>no</td>\n",
       "      <td>8.0</td>\n",
       "      <td>9</td>\n",
       "      <td>single</td>\n",
       "      <td>0</td>\n",
       "      <td>2</td>\n",
       "    </tr>\n",
       "    <tr>\n",
       "      <th>323</th>\n",
       "      <td>324</td>\n",
       "      <td>22</td>\n",
       "      <td>male</td>\n",
       "      <td>graduate</td>\n",
       "      <td>india</td>\n",
       "      <td>5.8</td>\n",
       "      <td>whatsapp</td>\n",
       "      <td>yes</td>\n",
       "      <td>6.5</td>\n",
       "      <td>5</td>\n",
       "      <td>in relationship</td>\n",
       "      <td>4</td>\n",
       "      <td>8</td>\n",
       "    </tr>\n",
       "  </tbody>\n",
       "</table>\n",
       "</div>"
      ],
      "text/plain": [
       "    student_id  age  gender academic_level      country  daily_usage  \\\n",
       "104        105   22    male       graduate  afghanistan          2.9   \n",
       "160        161   19  female  undergraduate   bangladesh          5.3   \n",
       "632        633   23  female       graduate        italy          4.8   \n",
       "6            7   23    male       graduate      germany          1.5   \n",
       "323        324   22    male       graduate        india          5.8   \n",
       "\n",
       "      platform performance  spleep_hours  mental_health       rel_status  \\\n",
       "104   linkedin          no           7.0              7      complicated   \n",
       "160  instagram         yes           6.1              5           single   \n",
       "632    twitter          no           7.1              7  in relationship   \n",
       "6     linkedin          no           8.0              9           single   \n",
       "323   whatsapp         yes           6.5              5  in relationship   \n",
       "\n",
       "     conflicts  addicted_score  \n",
       "104          2               5  \n",
       "160          3               7  \n",
       "632          2               5  \n",
       "6            0               2  \n",
       "323          4               8  "
      ]
     },
     "execution_count": 4,
     "metadata": {},
     "output_type": "execute_result"
    }
   ],
   "source": [
    "df.sample(5)"
   ]
  },
  {
   "cell_type": "code",
   "execution_count": 5,
   "id": "166f0d5c",
   "metadata": {},
   "outputs": [
    {
     "data": {
      "text/html": [
       "<div>\n",
       "<style scoped>\n",
       "    .dataframe tbody tr th:only-of-type {\n",
       "        vertical-align: middle;\n",
       "    }\n",
       "\n",
       "    .dataframe tbody tr th {\n",
       "        vertical-align: top;\n",
       "    }\n",
       "\n",
       "    .dataframe thead th {\n",
       "        text-align: right;\n",
       "    }\n",
       "</style>\n",
       "<table border=\"1\" class=\"dataframe\">\n",
       "  <thead>\n",
       "    <tr style=\"text-align: right;\">\n",
       "      <th></th>\n",
       "      <th>student_id</th>\n",
       "      <th>age</th>\n",
       "      <th>gender</th>\n",
       "      <th>academic_level</th>\n",
       "      <th>country</th>\n",
       "      <th>daily_usage</th>\n",
       "      <th>platform</th>\n",
       "      <th>performance</th>\n",
       "      <th>spleep_hours</th>\n",
       "      <th>mental_health</th>\n",
       "      <th>rel_status</th>\n",
       "      <th>conflicts</th>\n",
       "      <th>addicted_score</th>\n",
       "    </tr>\n",
       "  </thead>\n",
       "  <tbody>\n",
       "    <tr>\n",
       "      <th>count</th>\n",
       "      <td>705</td>\n",
       "      <td>705.000000</td>\n",
       "      <td>705</td>\n",
       "      <td>705</td>\n",
       "      <td>705</td>\n",
       "      <td>705.000000</td>\n",
       "      <td>705</td>\n",
       "      <td>705</td>\n",
       "      <td>705.000000</td>\n",
       "      <td>705.000000</td>\n",
       "      <td>705</td>\n",
       "      <td>705.000000</td>\n",
       "      <td>705.000000</td>\n",
       "    </tr>\n",
       "    <tr>\n",
       "      <th>unique</th>\n",
       "      <td>705</td>\n",
       "      <td>NaN</td>\n",
       "      <td>2</td>\n",
       "      <td>3</td>\n",
       "      <td>110</td>\n",
       "      <td>NaN</td>\n",
       "      <td>12</td>\n",
       "      <td>2</td>\n",
       "      <td>NaN</td>\n",
       "      <td>NaN</td>\n",
       "      <td>3</td>\n",
       "      <td>NaN</td>\n",
       "      <td>NaN</td>\n",
       "    </tr>\n",
       "    <tr>\n",
       "      <th>top</th>\n",
       "      <td>1</td>\n",
       "      <td>NaN</td>\n",
       "      <td>female</td>\n",
       "      <td>undergraduate</td>\n",
       "      <td>india</td>\n",
       "      <td>NaN</td>\n",
       "      <td>instagram</td>\n",
       "      <td>yes</td>\n",
       "      <td>NaN</td>\n",
       "      <td>NaN</td>\n",
       "      <td>single</td>\n",
       "      <td>NaN</td>\n",
       "      <td>NaN</td>\n",
       "    </tr>\n",
       "    <tr>\n",
       "      <th>freq</th>\n",
       "      <td>1</td>\n",
       "      <td>NaN</td>\n",
       "      <td>353</td>\n",
       "      <td>353</td>\n",
       "      <td>53</td>\n",
       "      <td>NaN</td>\n",
       "      <td>249</td>\n",
       "      <td>453</td>\n",
       "      <td>NaN</td>\n",
       "      <td>NaN</td>\n",
       "      <td>384</td>\n",
       "      <td>NaN</td>\n",
       "      <td>NaN</td>\n",
       "    </tr>\n",
       "    <tr>\n",
       "      <th>mean</th>\n",
       "      <td>NaN</td>\n",
       "      <td>20.659574</td>\n",
       "      <td>NaN</td>\n",
       "      <td>NaN</td>\n",
       "      <td>NaN</td>\n",
       "      <td>4.918723</td>\n",
       "      <td>NaN</td>\n",
       "      <td>NaN</td>\n",
       "      <td>6.868936</td>\n",
       "      <td>6.226950</td>\n",
       "      <td>NaN</td>\n",
       "      <td>2.849645</td>\n",
       "      <td>6.436879</td>\n",
       "    </tr>\n",
       "    <tr>\n",
       "      <th>std</th>\n",
       "      <td>NaN</td>\n",
       "      <td>1.399217</td>\n",
       "      <td>NaN</td>\n",
       "      <td>NaN</td>\n",
       "      <td>NaN</td>\n",
       "      <td>1.257395</td>\n",
       "      <td>NaN</td>\n",
       "      <td>NaN</td>\n",
       "      <td>1.126848</td>\n",
       "      <td>1.105055</td>\n",
       "      <td>NaN</td>\n",
       "      <td>0.957968</td>\n",
       "      <td>1.587165</td>\n",
       "    </tr>\n",
       "    <tr>\n",
       "      <th>min</th>\n",
       "      <td>NaN</td>\n",
       "      <td>18.000000</td>\n",
       "      <td>NaN</td>\n",
       "      <td>NaN</td>\n",
       "      <td>NaN</td>\n",
       "      <td>1.500000</td>\n",
       "      <td>NaN</td>\n",
       "      <td>NaN</td>\n",
       "      <td>3.800000</td>\n",
       "      <td>4.000000</td>\n",
       "      <td>NaN</td>\n",
       "      <td>0.000000</td>\n",
       "      <td>2.000000</td>\n",
       "    </tr>\n",
       "    <tr>\n",
       "      <th>25%</th>\n",
       "      <td>NaN</td>\n",
       "      <td>19.000000</td>\n",
       "      <td>NaN</td>\n",
       "      <td>NaN</td>\n",
       "      <td>NaN</td>\n",
       "      <td>4.100000</td>\n",
       "      <td>NaN</td>\n",
       "      <td>NaN</td>\n",
       "      <td>6.000000</td>\n",
       "      <td>5.000000</td>\n",
       "      <td>NaN</td>\n",
       "      <td>2.000000</td>\n",
       "      <td>5.000000</td>\n",
       "    </tr>\n",
       "    <tr>\n",
       "      <th>50%</th>\n",
       "      <td>NaN</td>\n",
       "      <td>21.000000</td>\n",
       "      <td>NaN</td>\n",
       "      <td>NaN</td>\n",
       "      <td>NaN</td>\n",
       "      <td>4.800000</td>\n",
       "      <td>NaN</td>\n",
       "      <td>NaN</td>\n",
       "      <td>6.900000</td>\n",
       "      <td>6.000000</td>\n",
       "      <td>NaN</td>\n",
       "      <td>3.000000</td>\n",
       "      <td>7.000000</td>\n",
       "    </tr>\n",
       "    <tr>\n",
       "      <th>75%</th>\n",
       "      <td>NaN</td>\n",
       "      <td>22.000000</td>\n",
       "      <td>NaN</td>\n",
       "      <td>NaN</td>\n",
       "      <td>NaN</td>\n",
       "      <td>5.800000</td>\n",
       "      <td>NaN</td>\n",
       "      <td>NaN</td>\n",
       "      <td>7.700000</td>\n",
       "      <td>7.000000</td>\n",
       "      <td>NaN</td>\n",
       "      <td>4.000000</td>\n",
       "      <td>8.000000</td>\n",
       "    </tr>\n",
       "    <tr>\n",
       "      <th>max</th>\n",
       "      <td>NaN</td>\n",
       "      <td>24.000000</td>\n",
       "      <td>NaN</td>\n",
       "      <td>NaN</td>\n",
       "      <td>NaN</td>\n",
       "      <td>8.500000</td>\n",
       "      <td>NaN</td>\n",
       "      <td>NaN</td>\n",
       "      <td>9.600000</td>\n",
       "      <td>9.000000</td>\n",
       "      <td>NaN</td>\n",
       "      <td>5.000000</td>\n",
       "      <td>9.000000</td>\n",
       "    </tr>\n",
       "  </tbody>\n",
       "</table>\n",
       "</div>"
      ],
      "text/plain": [
       "       student_id         age  gender academic_level country  daily_usage  \\\n",
       "count         705  705.000000     705            705     705   705.000000   \n",
       "unique        705         NaN       2              3     110          NaN   \n",
       "top             1         NaN  female  undergraduate   india          NaN   \n",
       "freq            1         NaN     353            353      53          NaN   \n",
       "mean          NaN   20.659574     NaN            NaN     NaN     4.918723   \n",
       "std           NaN    1.399217     NaN            NaN     NaN     1.257395   \n",
       "min           NaN   18.000000     NaN            NaN     NaN     1.500000   \n",
       "25%           NaN   19.000000     NaN            NaN     NaN     4.100000   \n",
       "50%           NaN   21.000000     NaN            NaN     NaN     4.800000   \n",
       "75%           NaN   22.000000     NaN            NaN     NaN     5.800000   \n",
       "max           NaN   24.000000     NaN            NaN     NaN     8.500000   \n",
       "\n",
       "         platform performance  spleep_hours  mental_health rel_status  \\\n",
       "count         705         705    705.000000     705.000000        705   \n",
       "unique         12           2           NaN            NaN          3   \n",
       "top     instagram         yes           NaN            NaN     single   \n",
       "freq          249         453           NaN            NaN        384   \n",
       "mean          NaN         NaN      6.868936       6.226950        NaN   \n",
       "std           NaN         NaN      1.126848       1.105055        NaN   \n",
       "min           NaN         NaN      3.800000       4.000000        NaN   \n",
       "25%           NaN         NaN      6.000000       5.000000        NaN   \n",
       "50%           NaN         NaN      6.900000       6.000000        NaN   \n",
       "75%           NaN         NaN      7.700000       7.000000        NaN   \n",
       "max           NaN         NaN      9.600000       9.000000        NaN   \n",
       "\n",
       "         conflicts  addicted_score  \n",
       "count   705.000000      705.000000  \n",
       "unique         NaN             NaN  \n",
       "top            NaN             NaN  \n",
       "freq           NaN             NaN  \n",
       "mean      2.849645        6.436879  \n",
       "std       0.957968        1.587165  \n",
       "min       0.000000        2.000000  \n",
       "25%       2.000000        5.000000  \n",
       "50%       3.000000        7.000000  \n",
       "75%       4.000000        8.000000  \n",
       "max       5.000000        9.000000  "
      ]
     },
     "execution_count": 5,
     "metadata": {},
     "output_type": "execute_result"
    }
   ],
   "source": [
    "df.describe(include='all')"
   ]
  },
  {
   "cell_type": "markdown",
   "id": "e9323f8b",
   "metadata": {},
   "source": [
    "- La edad comprende. de 18 a 24 años. La edad promedio es 20.6 años.\n",
    "\n",
    "- Hay casi el mismo número de registros de hombres que de mujeres.\n",
    "\n",
    "- La mayoría no están graduados.\n",
    "\n",
    "- El país con mas registros es india representando un 16% de usuarios de un total de 110 paises.\n",
    "\n",
    "- El promedio de uso de redes sociales es de 4.9 horas con una desviación de 1.3 horas de un rango total de 1.5 a 8.5 horas.\n",
    "\n",
    "- La plataforma más usada es instagram representando un 35% de preferencias de un total de 12 plataformas.\n",
    "\n",
    "- El 64% de los usuarios considera que afecta en su desempeño académico.\n",
    "\n",
    "- El promedio de horas de sueño es de 6.9 horas con una desviación de 1.1 horas de un rango total de entre 3.8 a 9.6 horas.\n",
    "\n",
    "- El promedio de usuarios considera que su salud mental es regular, digamos, ni buena ni mala, pero más buena que mala.\n",
    "\n",
    "- Más de la mitad de los usuarios son solteros.\n",
    "\n",
    "- En promedio los usuarios han tenido un total de 2.8 conflictos sociales generados por redes sociales.\n",
    "\n",
    "- El promedio de estudiantes considera que está enganchado a las redes sociales, pero no lo consideran una adicción grave."
   ]
  },
  {
   "cell_type": "code",
   "execution_count": 6,
   "id": "2219a097",
   "metadata": {},
   "outputs": [
    {
     "data": {
      "application/vnd.plotly.v1+json": {
       "config": {
        "plotlyServerURL": "https://plot.ly"
       },
       "data": [
        {
         "bingroup": "x",
         "hovertemplate": "gender=female<br>age=%{x}<br>count=%{y}<extra></extra>",
         "legendgroup": "female",
         "marker": {
          "color": "#636efa",
          "pattern": {
           "shape": ""
          }
         },
         "name": "female",
         "orientation": "v",
         "showlegend": true,
         "type": "histogram",
         "x": {
          "bdata": "ExQTFBUUEhQTFBcUExQTFBcUExQTFBcUExQTFBcUExIVExQVFBUWEhMWFRcSExQTFhUXEhMUExUWExQTFRYVFBUUFRQVFBUUFRQVFBUUFRQTFBMUExQTFBMUExQTFBMUExQTFBMUExQTFBMUExQTFBMUExQTFBMUExQTFBMUExQTFBMUExQTFBMUExQTFBMUExQTFBMUExQTFBMUExQTFBMUExQTFBMUExQTFBMUExQTFBMUExQTFBMUExQTFBMUExQTFBMUExQTFBMUExQTFBMUExQTFBMUExQTFBMUExQTFBMUExQTFBMUExQTFBMUExQTFBMUExQTFBMUExQTFBMUExQTFBMUExQTFBMUExQTFBMUExQTFBMUExQTFBMVFBMVFBMVFBMVFBcWGBcWGBcWGBcWGBcWGBcWGBcWGBcWGBcUFRMUFRMUFRMUFRMUFRMUFRMUFRMUFRMUFRMUFRM=",
          "dtype": "i1"
         },
         "xaxis": "x",
         "yaxis": "y"
        },
        {
         "bingroup": "x",
         "hovertemplate": "gender=male<br>age=%{x}<br>count=%{y}<extra></extra>",
         "legendgroup": "male",
         "marker": {
          "color": "#EF553B",
          "pattern": {
           "shape": ""
          }
         },
         "name": "male",
         "orientation": "v",
         "showlegend": true,
         "type": "histogram",
         "x": {
          "bdata": "FhIVFxITFhUYFRITFhUYFRITFhUYFRITFhUYFRITFhQXFBYSExcTFBUUEhMUFhUXEhQTFBYVFxQTFBUWFBMUExYTFhMWExYTFhMWExYTFhMVFhUWFRYVFhUWFRYVFhUWFRYVFhUWFRYVFhUWFRYVFhUWFRYVFhUWFRYVFhUWFRYVFhUWFRYVFhUWFRYVFhUWFRYVFhUWFRYVFhUWFRYVFhUWFRYVFhUWFRYVFhUWFRYVFhUWFRYVFhUWFRYVFhUWFRYVFhUWFRYVFhUWFRYVFhUWFRYVFhUWFRYVFhUWFRYVFhUWFRYVFhUWFRYVFhUWFRYVFhUWFRYVFhUWFRYVFhUWFRYVFhUWFRYVFhUWFRYVFhUWFRYVFhUWFRYVFxYYFhcYFhcYFhcYFRQTFRQTFRQTFRQTFRQTFRQTFRQTFRQTFRYXGBYXGBYXGBYXGBYXGBYXGBYXGBYXGBYXGBYXGA==",
          "dtype": "i1"
         },
         "xaxis": "x",
         "yaxis": "y"
        }
       ],
       "layout": {
        "barmode": "relative",
        "legend": {
         "title": {
          "text": "gender"
         },
         "tracegroupgap": 0
        },
        "margin": {
         "t": 60
        },
        "template": {
         "data": {
          "bar": [
           {
            "error_x": {
             "color": "#2a3f5f"
            },
            "error_y": {
             "color": "#2a3f5f"
            },
            "marker": {
             "line": {
              "color": "#E5ECF6",
              "width": 0.5
             },
             "pattern": {
              "fillmode": "overlay",
              "size": 10,
              "solidity": 0.2
             }
            },
            "type": "bar"
           }
          ],
          "barpolar": [
           {
            "marker": {
             "line": {
              "color": "#E5ECF6",
              "width": 0.5
             },
             "pattern": {
              "fillmode": "overlay",
              "size": 10,
              "solidity": 0.2
             }
            },
            "type": "barpolar"
           }
          ],
          "carpet": [
           {
            "aaxis": {
             "endlinecolor": "#2a3f5f",
             "gridcolor": "white",
             "linecolor": "white",
             "minorgridcolor": "white",
             "startlinecolor": "#2a3f5f"
            },
            "baxis": {
             "endlinecolor": "#2a3f5f",
             "gridcolor": "white",
             "linecolor": "white",
             "minorgridcolor": "white",
             "startlinecolor": "#2a3f5f"
            },
            "type": "carpet"
           }
          ],
          "choropleth": [
           {
            "colorbar": {
             "outlinewidth": 0,
             "ticks": ""
            },
            "type": "choropleth"
           }
          ],
          "contour": [
           {
            "colorbar": {
             "outlinewidth": 0,
             "ticks": ""
            },
            "colorscale": [
             [
              0,
              "#0d0887"
             ],
             [
              0.1111111111111111,
              "#46039f"
             ],
             [
              0.2222222222222222,
              "#7201a8"
             ],
             [
              0.3333333333333333,
              "#9c179e"
             ],
             [
              0.4444444444444444,
              "#bd3786"
             ],
             [
              0.5555555555555556,
              "#d8576b"
             ],
             [
              0.6666666666666666,
              "#ed7953"
             ],
             [
              0.7777777777777778,
              "#fb9f3a"
             ],
             [
              0.8888888888888888,
              "#fdca26"
             ],
             [
              1,
              "#f0f921"
             ]
            ],
            "type": "contour"
           }
          ],
          "contourcarpet": [
           {
            "colorbar": {
             "outlinewidth": 0,
             "ticks": ""
            },
            "type": "contourcarpet"
           }
          ],
          "heatmap": [
           {
            "colorbar": {
             "outlinewidth": 0,
             "ticks": ""
            },
            "colorscale": [
             [
              0,
              "#0d0887"
             ],
             [
              0.1111111111111111,
              "#46039f"
             ],
             [
              0.2222222222222222,
              "#7201a8"
             ],
             [
              0.3333333333333333,
              "#9c179e"
             ],
             [
              0.4444444444444444,
              "#bd3786"
             ],
             [
              0.5555555555555556,
              "#d8576b"
             ],
             [
              0.6666666666666666,
              "#ed7953"
             ],
             [
              0.7777777777777778,
              "#fb9f3a"
             ],
             [
              0.8888888888888888,
              "#fdca26"
             ],
             [
              1,
              "#f0f921"
             ]
            ],
            "type": "heatmap"
           }
          ],
          "histogram": [
           {
            "marker": {
             "pattern": {
              "fillmode": "overlay",
              "size": 10,
              "solidity": 0.2
             }
            },
            "type": "histogram"
           }
          ],
          "histogram2d": [
           {
            "colorbar": {
             "outlinewidth": 0,
             "ticks": ""
            },
            "colorscale": [
             [
              0,
              "#0d0887"
             ],
             [
              0.1111111111111111,
              "#46039f"
             ],
             [
              0.2222222222222222,
              "#7201a8"
             ],
             [
              0.3333333333333333,
              "#9c179e"
             ],
             [
              0.4444444444444444,
              "#bd3786"
             ],
             [
              0.5555555555555556,
              "#d8576b"
             ],
             [
              0.6666666666666666,
              "#ed7953"
             ],
             [
              0.7777777777777778,
              "#fb9f3a"
             ],
             [
              0.8888888888888888,
              "#fdca26"
             ],
             [
              1,
              "#f0f921"
             ]
            ],
            "type": "histogram2d"
           }
          ],
          "histogram2dcontour": [
           {
            "colorbar": {
             "outlinewidth": 0,
             "ticks": ""
            },
            "colorscale": [
             [
              0,
              "#0d0887"
             ],
             [
              0.1111111111111111,
              "#46039f"
             ],
             [
              0.2222222222222222,
              "#7201a8"
             ],
             [
              0.3333333333333333,
              "#9c179e"
             ],
             [
              0.4444444444444444,
              "#bd3786"
             ],
             [
              0.5555555555555556,
              "#d8576b"
             ],
             [
              0.6666666666666666,
              "#ed7953"
             ],
             [
              0.7777777777777778,
              "#fb9f3a"
             ],
             [
              0.8888888888888888,
              "#fdca26"
             ],
             [
              1,
              "#f0f921"
             ]
            ],
            "type": "histogram2dcontour"
           }
          ],
          "mesh3d": [
           {
            "colorbar": {
             "outlinewidth": 0,
             "ticks": ""
            },
            "type": "mesh3d"
           }
          ],
          "parcoords": [
           {
            "line": {
             "colorbar": {
              "outlinewidth": 0,
              "ticks": ""
             }
            },
            "type": "parcoords"
           }
          ],
          "pie": [
           {
            "automargin": true,
            "type": "pie"
           }
          ],
          "scatter": [
           {
            "fillpattern": {
             "fillmode": "overlay",
             "size": 10,
             "solidity": 0.2
            },
            "type": "scatter"
           }
          ],
          "scatter3d": [
           {
            "line": {
             "colorbar": {
              "outlinewidth": 0,
              "ticks": ""
             }
            },
            "marker": {
             "colorbar": {
              "outlinewidth": 0,
              "ticks": ""
             }
            },
            "type": "scatter3d"
           }
          ],
          "scattercarpet": [
           {
            "marker": {
             "colorbar": {
              "outlinewidth": 0,
              "ticks": ""
             }
            },
            "type": "scattercarpet"
           }
          ],
          "scattergeo": [
           {
            "marker": {
             "colorbar": {
              "outlinewidth": 0,
              "ticks": ""
             }
            },
            "type": "scattergeo"
           }
          ],
          "scattergl": [
           {
            "marker": {
             "colorbar": {
              "outlinewidth": 0,
              "ticks": ""
             }
            },
            "type": "scattergl"
           }
          ],
          "scattermap": [
           {
            "marker": {
             "colorbar": {
              "outlinewidth": 0,
              "ticks": ""
             }
            },
            "type": "scattermap"
           }
          ],
          "scattermapbox": [
           {
            "marker": {
             "colorbar": {
              "outlinewidth": 0,
              "ticks": ""
             }
            },
            "type": "scattermapbox"
           }
          ],
          "scatterpolar": [
           {
            "marker": {
             "colorbar": {
              "outlinewidth": 0,
              "ticks": ""
             }
            },
            "type": "scatterpolar"
           }
          ],
          "scatterpolargl": [
           {
            "marker": {
             "colorbar": {
              "outlinewidth": 0,
              "ticks": ""
             }
            },
            "type": "scatterpolargl"
           }
          ],
          "scatterternary": [
           {
            "marker": {
             "colorbar": {
              "outlinewidth": 0,
              "ticks": ""
             }
            },
            "type": "scatterternary"
           }
          ],
          "surface": [
           {
            "colorbar": {
             "outlinewidth": 0,
             "ticks": ""
            },
            "colorscale": [
             [
              0,
              "#0d0887"
             ],
             [
              0.1111111111111111,
              "#46039f"
             ],
             [
              0.2222222222222222,
              "#7201a8"
             ],
             [
              0.3333333333333333,
              "#9c179e"
             ],
             [
              0.4444444444444444,
              "#bd3786"
             ],
             [
              0.5555555555555556,
              "#d8576b"
             ],
             [
              0.6666666666666666,
              "#ed7953"
             ],
             [
              0.7777777777777778,
              "#fb9f3a"
             ],
             [
              0.8888888888888888,
              "#fdca26"
             ],
             [
              1,
              "#f0f921"
             ]
            ],
            "type": "surface"
           }
          ],
          "table": [
           {
            "cells": {
             "fill": {
              "color": "#EBF0F8"
             },
             "line": {
              "color": "white"
             }
            },
            "header": {
             "fill": {
              "color": "#C8D4E3"
             },
             "line": {
              "color": "white"
             }
            },
            "type": "table"
           }
          ]
         },
         "layout": {
          "annotationdefaults": {
           "arrowcolor": "#2a3f5f",
           "arrowhead": 0,
           "arrowwidth": 1
          },
          "autotypenumbers": "strict",
          "coloraxis": {
           "colorbar": {
            "outlinewidth": 0,
            "ticks": ""
           }
          },
          "colorscale": {
           "diverging": [
            [
             0,
             "#8e0152"
            ],
            [
             0.1,
             "#c51b7d"
            ],
            [
             0.2,
             "#de77ae"
            ],
            [
             0.3,
             "#f1b6da"
            ],
            [
             0.4,
             "#fde0ef"
            ],
            [
             0.5,
             "#f7f7f7"
            ],
            [
             0.6,
             "#e6f5d0"
            ],
            [
             0.7,
             "#b8e186"
            ],
            [
             0.8,
             "#7fbc41"
            ],
            [
             0.9,
             "#4d9221"
            ],
            [
             1,
             "#276419"
            ]
           ],
           "sequential": [
            [
             0,
             "#0d0887"
            ],
            [
             0.1111111111111111,
             "#46039f"
            ],
            [
             0.2222222222222222,
             "#7201a8"
            ],
            [
             0.3333333333333333,
             "#9c179e"
            ],
            [
             0.4444444444444444,
             "#bd3786"
            ],
            [
             0.5555555555555556,
             "#d8576b"
            ],
            [
             0.6666666666666666,
             "#ed7953"
            ],
            [
             0.7777777777777778,
             "#fb9f3a"
            ],
            [
             0.8888888888888888,
             "#fdca26"
            ],
            [
             1,
             "#f0f921"
            ]
           ],
           "sequentialminus": [
            [
             0,
             "#0d0887"
            ],
            [
             0.1111111111111111,
             "#46039f"
            ],
            [
             0.2222222222222222,
             "#7201a8"
            ],
            [
             0.3333333333333333,
             "#9c179e"
            ],
            [
             0.4444444444444444,
             "#bd3786"
            ],
            [
             0.5555555555555556,
             "#d8576b"
            ],
            [
             0.6666666666666666,
             "#ed7953"
            ],
            [
             0.7777777777777778,
             "#fb9f3a"
            ],
            [
             0.8888888888888888,
             "#fdca26"
            ],
            [
             1,
             "#f0f921"
            ]
           ]
          },
          "colorway": [
           "#636efa",
           "#EF553B",
           "#00cc96",
           "#ab63fa",
           "#FFA15A",
           "#19d3f3",
           "#FF6692",
           "#B6E880",
           "#FF97FF",
           "#FECB52"
          ],
          "font": {
           "color": "#2a3f5f"
          },
          "geo": {
           "bgcolor": "white",
           "lakecolor": "white",
           "landcolor": "#E5ECF6",
           "showlakes": true,
           "showland": true,
           "subunitcolor": "white"
          },
          "hoverlabel": {
           "align": "left"
          },
          "hovermode": "closest",
          "mapbox": {
           "style": "light"
          },
          "paper_bgcolor": "white",
          "plot_bgcolor": "#E5ECF6",
          "polar": {
           "angularaxis": {
            "gridcolor": "white",
            "linecolor": "white",
            "ticks": ""
           },
           "bgcolor": "#E5ECF6",
           "radialaxis": {
            "gridcolor": "white",
            "linecolor": "white",
            "ticks": ""
           }
          },
          "scene": {
           "xaxis": {
            "backgroundcolor": "#E5ECF6",
            "gridcolor": "white",
            "gridwidth": 2,
            "linecolor": "white",
            "showbackground": true,
            "ticks": "",
            "zerolinecolor": "white"
           },
           "yaxis": {
            "backgroundcolor": "#E5ECF6",
            "gridcolor": "white",
            "gridwidth": 2,
            "linecolor": "white",
            "showbackground": true,
            "ticks": "",
            "zerolinecolor": "white"
           },
           "zaxis": {
            "backgroundcolor": "#E5ECF6",
            "gridcolor": "white",
            "gridwidth": 2,
            "linecolor": "white",
            "showbackground": true,
            "ticks": "",
            "zerolinecolor": "white"
           }
          },
          "shapedefaults": {
           "line": {
            "color": "#2a3f5f"
           }
          },
          "ternary": {
           "aaxis": {
            "gridcolor": "white",
            "linecolor": "white",
            "ticks": ""
           },
           "baxis": {
            "gridcolor": "white",
            "linecolor": "white",
            "ticks": ""
           },
           "bgcolor": "#E5ECF6",
           "caxis": {
            "gridcolor": "white",
            "linecolor": "white",
            "ticks": ""
           }
          },
          "title": {
           "x": 0.05
          },
          "xaxis": {
           "automargin": true,
           "gridcolor": "white",
           "linecolor": "white",
           "ticks": "",
           "title": {
            "standoff": 15
           },
           "zerolinecolor": "white",
           "zerolinewidth": 2
          },
          "yaxis": {
           "automargin": true,
           "gridcolor": "white",
           "linecolor": "white",
           "ticks": "",
           "title": {
            "standoff": 15
           },
           "zerolinecolor": "white",
           "zerolinewidth": 2
          }
         }
        },
        "xaxis": {
         "anchor": "y",
         "domain": [
          0,
          1
         ],
         "title": {
          "text": "age"
         }
        },
        "yaxis": {
         "anchor": "x",
         "domain": [
          0,
          1
         ],
         "title": {
          "text": "count"
         }
        }
       }
      }
     },
     "metadata": {},
     "output_type": "display_data"
    }
   ],
   "source": [
    "## histograma de edades y generos\n",
    "fig = px.histogram(df, x=\"age\", color='gender')\n",
    "\n",
    "fig.show()"
   ]
  },
  {
   "cell_type": "markdown",
   "id": "47c8d88b",
   "metadata": {},
   "source": [
    "- La mayoría de los usuarios tienen entre 19 y 22 años. Esto corresponde con el hecho de que el estudio se hizo sobre estudiantes de universidad que en promedio ingresan a los 18 años y concluyen 4 años después.\n",
    "\n",
    "- La mayoría de las mujeres encuestadas tienen entre 19 y 20 años, mientras que de hombres tienen entre 21 y 22 años."
   ]
  },
  {
   "cell_type": "code",
   "execution_count": 7,
   "id": "33b01510",
   "metadata": {},
   "outputs": [
    {
     "name": "stdout",
     "output_type": "stream",
     "text": [
      "Top 5 plataformas:\n",
      "platform\n",
      "instagram    249\n",
      "tiktok       154\n",
      "facebook     123\n",
      "whatsapp      54\n",
      "twitter       30\n",
      "Name: platform, dtype: int64\n"
     ]
    },
    {
     "data": {
      "application/vnd.plotly.v1+json": {
       "config": {
        "plotlyServerURL": "https://plot.ly"
       },
       "data": [
        {
         "bingroup": "x",
         "hovertemplate": "platform=instagram<br>age=%{x}<br>count=%{y}<extra></extra>",
         "legendgroup": "instagram",
         "marker": {
          "color": "#636efa",
          "pattern": {
           "shape": ""
          }
         },
         "name": "instagram",
         "orientation": "v",
         "showlegend": true,
         "type": "histogram",
         "x": {
          "bdata": "ExMVEhMTExMTExMTExMTExUUFBIVEhQUEhMUFhMUExUWFRQVFBUUFRQVFBUUFRQVFBUUExYUFRMWFBUTFhQVExYUFRMWFBUTFBUVFhMUFRUWExQVFRYTFBUVFhMUFRUWExQVFRYTFBMUExUTFRMUExQTExUTFRMUExQTExUTFRMUExQTExUTFRMUExQTExUTFRMUExQTExUTFRMUExQTExUTFRMUExQTExUTFRMUExQTExUTFRMUExQUFhQVFBUTFBQVExMUFhQVExMUFhQVFBUUFxQVFBMYFRMXExcWFRYXExcTFBUWFRQTFRYVFBgXExcTFRQYFBMX",
          "dtype": "i1"
         },
         "xaxis": "x",
         "yaxis": "y"
        },
        {
         "bingroup": "x",
         "hovertemplate": "platform=twitter<br>age=%{x}<br>count=%{y}<extra></extra>",
         "legendgroup": "twitter",
         "marker": {
          "color": "#EF553B",
          "pattern": {
           "shape": ""
          }
         },
         "name": "twitter",
         "orientation": "v",
         "showlegend": true,
         "type": "histogram",
         "x": {
          "bdata": "FhcTExYWFRgYGBYUFxMUFxUUExgXFhgVFBMVFxYY",
          "dtype": "i1"
         },
         "xaxis": "x2",
         "yaxis": "y2"
        },
        {
         "bingroup": "x",
         "hovertemplate": "platform=tiktok<br>age=%{x}<br>count=%{y}<extra></extra>",
         "legendgroup": "tiktok",
         "marker": {
          "color": "#00cc96",
          "pattern": {
           "shape": ""
          }
         },
         "name": "tiktok",
         "orientation": "v",
         "showlegend": true,
         "type": "histogram",
         "x": {
          "bdata": "FBIUFBIUFBIUFBIUFBIUFBMTExMTExMVExUUFhMTExMTExMTExMUFRMWFBUTFhQVExYUFRMWFBUTFhUTFRMVExUTFRMVExUUFBYWFBQUFhYUFBQWFhQUFBYWFBQUFhYUFBQWFhQUFBYWFBQUFhYUFBQWFhMTFBYTFBQWExQUFhMTGBUYFRcWFBcVGBgYExcXFBMVFRQWFhMVFA==",
          "dtype": "i1"
         },
         "xaxis": "x3",
         "yaxis": "y3"
        },
        {
         "bingroup": "x",
         "hovertemplate": "platform=facebook<br>age=%{x}<br>count=%{y}<extra></extra>",
         "legendgroup": "facebook",
         "marker": {
          "color": "#ab63fa",
          "pattern": {
           "shape": ""
          }
         },
         "name": "facebook",
         "orientation": "v",
         "showlegend": true,
         "type": "histogram",
         "x": {
          "bdata": "FRUWFRYVFhUWFRYUFhQTFRQUFhYWFhYWFhYVExYUFRMWFBUTFhQVExYUFRMWFBYUFRYUFRYUFRYUFRYUFRYUFRYVFhUWFRYVFhUWFRYVFhUWFRYWFRYWFRUWFRUWFhYYFxcUFBQVExQUFRYVFxgWGBgXFhQWGBcXFhgT",
          "dtype": "i1"
         },
         "xaxis": "x4",
         "yaxis": "y4"
        },
        {
         "bingroup": "x",
         "hovertemplate": "platform=whatsapp<br>age=%{x}<br>count=%{y}<extra></extra>",
         "legendgroup": "whatsapp",
         "marker": {
          "color": "#FFA15A",
          "pattern": {
           "shape": ""
          }
         },
         "name": "whatsapp",
         "orientation": "v",
         "showlegend": true,
         "type": "histogram",
         "x": {
          "bdata": "FhYVFRYWFRUWFhUVFhYVFRYWFRUWFhUVFhYVFRYWFRUWFhUVExUTFhQTFRMWFBMVExYUExUT",
          "dtype": "i1"
         },
         "xaxis": "x5",
         "yaxis": "y5"
        }
       ],
       "layout": {
        "annotations": [
         {
          "font": {},
          "showarrow": false,
          "text": "platform=instagram",
          "x": 0.09200000000000001,
          "xanchor": "center",
          "xref": "paper",
          "y": 1,
          "yanchor": "bottom",
          "yref": "paper"
         },
         {
          "font": {},
          "showarrow": false,
          "text": "platform=twitter",
          "x": 0.29600000000000004,
          "xanchor": "center",
          "xref": "paper",
          "y": 1,
          "yanchor": "bottom",
          "yref": "paper"
         },
         {
          "font": {},
          "showarrow": false,
          "text": "platform=tiktok",
          "x": 0.5,
          "xanchor": "center",
          "xref": "paper",
          "y": 1,
          "yanchor": "bottom",
          "yref": "paper"
         },
         {
          "font": {},
          "showarrow": false,
          "text": "platform=facebook",
          "x": 0.7040000000000002,
          "xanchor": "center",
          "xref": "paper",
          "y": 1,
          "yanchor": "bottom",
          "yref": "paper"
         },
         {
          "font": {},
          "showarrow": false,
          "text": "platform=whatsapp",
          "x": 0.908,
          "xanchor": "center",
          "xref": "paper",
          "y": 1,
          "yanchor": "bottom",
          "yref": "paper"
         }
        ],
        "barmode": "relative",
        "legend": {
         "title": {
          "text": "platform"
         },
         "tracegroupgap": 0
        },
        "template": {
         "data": {
          "bar": [
           {
            "error_x": {
             "color": "#2a3f5f"
            },
            "error_y": {
             "color": "#2a3f5f"
            },
            "marker": {
             "line": {
              "color": "#E5ECF6",
              "width": 0.5
             },
             "pattern": {
              "fillmode": "overlay",
              "size": 10,
              "solidity": 0.2
             }
            },
            "type": "bar"
           }
          ],
          "barpolar": [
           {
            "marker": {
             "line": {
              "color": "#E5ECF6",
              "width": 0.5
             },
             "pattern": {
              "fillmode": "overlay",
              "size": 10,
              "solidity": 0.2
             }
            },
            "type": "barpolar"
           }
          ],
          "carpet": [
           {
            "aaxis": {
             "endlinecolor": "#2a3f5f",
             "gridcolor": "white",
             "linecolor": "white",
             "minorgridcolor": "white",
             "startlinecolor": "#2a3f5f"
            },
            "baxis": {
             "endlinecolor": "#2a3f5f",
             "gridcolor": "white",
             "linecolor": "white",
             "minorgridcolor": "white",
             "startlinecolor": "#2a3f5f"
            },
            "type": "carpet"
           }
          ],
          "choropleth": [
           {
            "colorbar": {
             "outlinewidth": 0,
             "ticks": ""
            },
            "type": "choropleth"
           }
          ],
          "contour": [
           {
            "colorbar": {
             "outlinewidth": 0,
             "ticks": ""
            },
            "colorscale": [
             [
              0,
              "#0d0887"
             ],
             [
              0.1111111111111111,
              "#46039f"
             ],
             [
              0.2222222222222222,
              "#7201a8"
             ],
             [
              0.3333333333333333,
              "#9c179e"
             ],
             [
              0.4444444444444444,
              "#bd3786"
             ],
             [
              0.5555555555555556,
              "#d8576b"
             ],
             [
              0.6666666666666666,
              "#ed7953"
             ],
             [
              0.7777777777777778,
              "#fb9f3a"
             ],
             [
              0.8888888888888888,
              "#fdca26"
             ],
             [
              1,
              "#f0f921"
             ]
            ],
            "type": "contour"
           }
          ],
          "contourcarpet": [
           {
            "colorbar": {
             "outlinewidth": 0,
             "ticks": ""
            },
            "type": "contourcarpet"
           }
          ],
          "heatmap": [
           {
            "colorbar": {
             "outlinewidth": 0,
             "ticks": ""
            },
            "colorscale": [
             [
              0,
              "#0d0887"
             ],
             [
              0.1111111111111111,
              "#46039f"
             ],
             [
              0.2222222222222222,
              "#7201a8"
             ],
             [
              0.3333333333333333,
              "#9c179e"
             ],
             [
              0.4444444444444444,
              "#bd3786"
             ],
             [
              0.5555555555555556,
              "#d8576b"
             ],
             [
              0.6666666666666666,
              "#ed7953"
             ],
             [
              0.7777777777777778,
              "#fb9f3a"
             ],
             [
              0.8888888888888888,
              "#fdca26"
             ],
             [
              1,
              "#f0f921"
             ]
            ],
            "type": "heatmap"
           }
          ],
          "histogram": [
           {
            "marker": {
             "pattern": {
              "fillmode": "overlay",
              "size": 10,
              "solidity": 0.2
             }
            },
            "type": "histogram"
           }
          ],
          "histogram2d": [
           {
            "colorbar": {
             "outlinewidth": 0,
             "ticks": ""
            },
            "colorscale": [
             [
              0,
              "#0d0887"
             ],
             [
              0.1111111111111111,
              "#46039f"
             ],
             [
              0.2222222222222222,
              "#7201a8"
             ],
             [
              0.3333333333333333,
              "#9c179e"
             ],
             [
              0.4444444444444444,
              "#bd3786"
             ],
             [
              0.5555555555555556,
              "#d8576b"
             ],
             [
              0.6666666666666666,
              "#ed7953"
             ],
             [
              0.7777777777777778,
              "#fb9f3a"
             ],
             [
              0.8888888888888888,
              "#fdca26"
             ],
             [
              1,
              "#f0f921"
             ]
            ],
            "type": "histogram2d"
           }
          ],
          "histogram2dcontour": [
           {
            "colorbar": {
             "outlinewidth": 0,
             "ticks": ""
            },
            "colorscale": [
             [
              0,
              "#0d0887"
             ],
             [
              0.1111111111111111,
              "#46039f"
             ],
             [
              0.2222222222222222,
              "#7201a8"
             ],
             [
              0.3333333333333333,
              "#9c179e"
             ],
             [
              0.4444444444444444,
              "#bd3786"
             ],
             [
              0.5555555555555556,
              "#d8576b"
             ],
             [
              0.6666666666666666,
              "#ed7953"
             ],
             [
              0.7777777777777778,
              "#fb9f3a"
             ],
             [
              0.8888888888888888,
              "#fdca26"
             ],
             [
              1,
              "#f0f921"
             ]
            ],
            "type": "histogram2dcontour"
           }
          ],
          "mesh3d": [
           {
            "colorbar": {
             "outlinewidth": 0,
             "ticks": ""
            },
            "type": "mesh3d"
           }
          ],
          "parcoords": [
           {
            "line": {
             "colorbar": {
              "outlinewidth": 0,
              "ticks": ""
             }
            },
            "type": "parcoords"
           }
          ],
          "pie": [
           {
            "automargin": true,
            "type": "pie"
           }
          ],
          "scatter": [
           {
            "fillpattern": {
             "fillmode": "overlay",
             "size": 10,
             "solidity": 0.2
            },
            "type": "scatter"
           }
          ],
          "scatter3d": [
           {
            "line": {
             "colorbar": {
              "outlinewidth": 0,
              "ticks": ""
             }
            },
            "marker": {
             "colorbar": {
              "outlinewidth": 0,
              "ticks": ""
             }
            },
            "type": "scatter3d"
           }
          ],
          "scattercarpet": [
           {
            "marker": {
             "colorbar": {
              "outlinewidth": 0,
              "ticks": ""
             }
            },
            "type": "scattercarpet"
           }
          ],
          "scattergeo": [
           {
            "marker": {
             "colorbar": {
              "outlinewidth": 0,
              "ticks": ""
             }
            },
            "type": "scattergeo"
           }
          ],
          "scattergl": [
           {
            "marker": {
             "colorbar": {
              "outlinewidth": 0,
              "ticks": ""
             }
            },
            "type": "scattergl"
           }
          ],
          "scattermap": [
           {
            "marker": {
             "colorbar": {
              "outlinewidth": 0,
              "ticks": ""
             }
            },
            "type": "scattermap"
           }
          ],
          "scattermapbox": [
           {
            "marker": {
             "colorbar": {
              "outlinewidth": 0,
              "ticks": ""
             }
            },
            "type": "scattermapbox"
           }
          ],
          "scatterpolar": [
           {
            "marker": {
             "colorbar": {
              "outlinewidth": 0,
              "ticks": ""
             }
            },
            "type": "scatterpolar"
           }
          ],
          "scatterpolargl": [
           {
            "marker": {
             "colorbar": {
              "outlinewidth": 0,
              "ticks": ""
             }
            },
            "type": "scatterpolargl"
           }
          ],
          "scatterternary": [
           {
            "marker": {
             "colorbar": {
              "outlinewidth": 0,
              "ticks": ""
             }
            },
            "type": "scatterternary"
           }
          ],
          "surface": [
           {
            "colorbar": {
             "outlinewidth": 0,
             "ticks": ""
            },
            "colorscale": [
             [
              0,
              "#0d0887"
             ],
             [
              0.1111111111111111,
              "#46039f"
             ],
             [
              0.2222222222222222,
              "#7201a8"
             ],
             [
              0.3333333333333333,
              "#9c179e"
             ],
             [
              0.4444444444444444,
              "#bd3786"
             ],
             [
              0.5555555555555556,
              "#d8576b"
             ],
             [
              0.6666666666666666,
              "#ed7953"
             ],
             [
              0.7777777777777778,
              "#fb9f3a"
             ],
             [
              0.8888888888888888,
              "#fdca26"
             ],
             [
              1,
              "#f0f921"
             ]
            ],
            "type": "surface"
           }
          ],
          "table": [
           {
            "cells": {
             "fill": {
              "color": "#EBF0F8"
             },
             "line": {
              "color": "white"
             }
            },
            "header": {
             "fill": {
              "color": "#C8D4E3"
             },
             "line": {
              "color": "white"
             }
            },
            "type": "table"
           }
          ]
         },
         "layout": {
          "annotationdefaults": {
           "arrowcolor": "#2a3f5f",
           "arrowhead": 0,
           "arrowwidth": 1
          },
          "autotypenumbers": "strict",
          "coloraxis": {
           "colorbar": {
            "outlinewidth": 0,
            "ticks": ""
           }
          },
          "colorscale": {
           "diverging": [
            [
             0,
             "#8e0152"
            ],
            [
             0.1,
             "#c51b7d"
            ],
            [
             0.2,
             "#de77ae"
            ],
            [
             0.3,
             "#f1b6da"
            ],
            [
             0.4,
             "#fde0ef"
            ],
            [
             0.5,
             "#f7f7f7"
            ],
            [
             0.6,
             "#e6f5d0"
            ],
            [
             0.7,
             "#b8e186"
            ],
            [
             0.8,
             "#7fbc41"
            ],
            [
             0.9,
             "#4d9221"
            ],
            [
             1,
             "#276419"
            ]
           ],
           "sequential": [
            [
             0,
             "#0d0887"
            ],
            [
             0.1111111111111111,
             "#46039f"
            ],
            [
             0.2222222222222222,
             "#7201a8"
            ],
            [
             0.3333333333333333,
             "#9c179e"
            ],
            [
             0.4444444444444444,
             "#bd3786"
            ],
            [
             0.5555555555555556,
             "#d8576b"
            ],
            [
             0.6666666666666666,
             "#ed7953"
            ],
            [
             0.7777777777777778,
             "#fb9f3a"
            ],
            [
             0.8888888888888888,
             "#fdca26"
            ],
            [
             1,
             "#f0f921"
            ]
           ],
           "sequentialminus": [
            [
             0,
             "#0d0887"
            ],
            [
             0.1111111111111111,
             "#46039f"
            ],
            [
             0.2222222222222222,
             "#7201a8"
            ],
            [
             0.3333333333333333,
             "#9c179e"
            ],
            [
             0.4444444444444444,
             "#bd3786"
            ],
            [
             0.5555555555555556,
             "#d8576b"
            ],
            [
             0.6666666666666666,
             "#ed7953"
            ],
            [
             0.7777777777777778,
             "#fb9f3a"
            ],
            [
             0.8888888888888888,
             "#fdca26"
            ],
            [
             1,
             "#f0f921"
            ]
           ]
          },
          "colorway": [
           "#636efa",
           "#EF553B",
           "#00cc96",
           "#ab63fa",
           "#FFA15A",
           "#19d3f3",
           "#FF6692",
           "#B6E880",
           "#FF97FF",
           "#FECB52"
          ],
          "font": {
           "color": "#2a3f5f"
          },
          "geo": {
           "bgcolor": "white",
           "lakecolor": "white",
           "landcolor": "#E5ECF6",
           "showlakes": true,
           "showland": true,
           "subunitcolor": "white"
          },
          "hoverlabel": {
           "align": "left"
          },
          "hovermode": "closest",
          "mapbox": {
           "style": "light"
          },
          "paper_bgcolor": "white",
          "plot_bgcolor": "#E5ECF6",
          "polar": {
           "angularaxis": {
            "gridcolor": "white",
            "linecolor": "white",
            "ticks": ""
           },
           "bgcolor": "#E5ECF6",
           "radialaxis": {
            "gridcolor": "white",
            "linecolor": "white",
            "ticks": ""
           }
          },
          "scene": {
           "xaxis": {
            "backgroundcolor": "#E5ECF6",
            "gridcolor": "white",
            "gridwidth": 2,
            "linecolor": "white",
            "showbackground": true,
            "ticks": "",
            "zerolinecolor": "white"
           },
           "yaxis": {
            "backgroundcolor": "#E5ECF6",
            "gridcolor": "white",
            "gridwidth": 2,
            "linecolor": "white",
            "showbackground": true,
            "ticks": "",
            "zerolinecolor": "white"
           },
           "zaxis": {
            "backgroundcolor": "#E5ECF6",
            "gridcolor": "white",
            "gridwidth": 2,
            "linecolor": "white",
            "showbackground": true,
            "ticks": "",
            "zerolinecolor": "white"
           }
          },
          "shapedefaults": {
           "line": {
            "color": "#2a3f5f"
           }
          },
          "ternary": {
           "aaxis": {
            "gridcolor": "white",
            "linecolor": "white",
            "ticks": ""
           },
           "baxis": {
            "gridcolor": "white",
            "linecolor": "white",
            "ticks": ""
           },
           "bgcolor": "#E5ECF6",
           "caxis": {
            "gridcolor": "white",
            "linecolor": "white",
            "ticks": ""
           }
          },
          "title": {
           "x": 0.05
          },
          "xaxis": {
           "automargin": true,
           "gridcolor": "white",
           "linecolor": "white",
           "ticks": "",
           "title": {
            "standoff": 15
           },
           "zerolinecolor": "white",
           "zerolinewidth": 2
          },
          "yaxis": {
           "automargin": true,
           "gridcolor": "white",
           "linecolor": "white",
           "ticks": "",
           "title": {
            "standoff": 15
           },
           "zerolinecolor": "white",
           "zerolinewidth": 2
          }
         }
        },
        "title": {
         "text": "Histograma de edades por plataforma"
        },
        "xaxis": {
         "anchor": "y",
         "domain": [
          0,
          0.18400000000000002
         ],
         "title": {
          "text": "age"
         }
        },
        "xaxis2": {
         "anchor": "y2",
         "domain": [
          0.20400000000000001,
          0.388
         ],
         "matches": "x",
         "title": {
          "text": "age"
         }
        },
        "xaxis3": {
         "anchor": "y3",
         "domain": [
          0.40800000000000003,
          0.5920000000000001
         ],
         "matches": "x",
         "title": {
          "text": "age"
         }
        },
        "xaxis4": {
         "anchor": "y4",
         "domain": [
          0.6120000000000001,
          0.7960000000000002
         ],
         "matches": "x",
         "title": {
          "text": "age"
         }
        },
        "xaxis5": {
         "anchor": "y5",
         "domain": [
          0.8160000000000001,
          1
         ],
         "matches": "x",
         "title": {
          "text": "age"
         }
        },
        "yaxis": {
         "anchor": "x",
         "domain": [
          0,
          1
         ],
         "title": {
          "text": "count"
         }
        },
        "yaxis2": {
         "anchor": "x2",
         "domain": [
          0,
          1
         ],
         "matches": "y",
         "showticklabels": false
        },
        "yaxis3": {
         "anchor": "x3",
         "domain": [
          0,
          1
         ],
         "matches": "y",
         "showticklabels": false
        },
        "yaxis4": {
         "anchor": "x4",
         "domain": [
          0,
          1
         ],
         "matches": "y",
         "showticklabels": false
        },
        "yaxis5": {
         "anchor": "x5",
         "domain": [
          0,
          1
         ],
         "matches": "y",
         "showticklabels": false
        }
       }
      }
     },
     "metadata": {},
     "output_type": "display_data"
    }
   ],
   "source": [
    "## histograma de edades por plataforma\n",
    "top_platform = df.groupby('platform')['platform'].count().sort_values(ascending=False)[:5]\n",
    "print('Top 5 plataformas:')\n",
    "print(top_platform)\n",
    "fig = px.histogram(df[ df['platform'].isin(top_platform.index) ], x=\"age\", color='platform', facet_col='platform',title='Histograma de edades por plataforma')\n",
    "\n",
    "fig.show()"
   ]
  },
  {
   "cell_type": "markdown",
   "id": "50679bc8",
   "metadata": {},
   "source": [
    "- Las plataformas más utilizadas son instagram, tiktok, facebook, whatsapp y twitter.\n",
    "\n",
    "- Puede notarse que hay preferencia de personas más jovenes por instagram y tiktok."
   ]
  },
  {
   "cell_type": "code",
   "execution_count": 8,
   "id": "2f8187ae",
   "metadata": {},
   "outputs": [
    {
     "name": "stdout",
     "output_type": "stream",
     "text": [
      "platform\n",
      "whatsapp     6.475926\n",
      "tiktok       5.346104\n",
      "instagram    4.872289\n",
      "twitter      4.870000\n",
      "facebook     4.507317\n",
      "Name: daily_usage, dtype: float64\n"
     ]
    },
    {
     "data": {
      "application/vnd.plotly.v1+json": {
       "config": {
        "plotlyServerURL": "https://plot.ly"
       },
       "data": [
        {
         "bingroup": "x",
         "hovertemplate": "platform=instagram<br>daily_usage=%{x}<br>count=%{y}<extra></extra>",
         "legendgroup": "instagram",
         "marker": {
          "color": "#636efa",
          "pattern": {
           "shape": ""
          }
         },
         "name": "instagram",
         "orientation": "v",
         "showlegend": true,
         "type": "histogram",
         "x": {
          "bdata": "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",
          "dtype": "f8"
         },
         "xaxis": "x",
         "yaxis": "y"
        },
        {
         "bingroup": "x",
         "hovertemplate": "platform=twitter<br>daily_usage=%{x}<br>count=%{y}<extra></extra>",
         "legendgroup": "twitter",
         "marker": {
          "color": "#EF553B",
          "pattern": {
           "shape": ""
          }
         },
         "name": "twitter",
         "orientation": "v",
         "showlegend": true,
         "type": "histogram",
         "x": {
          "bdata": "zczMzMzMAEBmZmZmZmYOQM3MzMzMzBJAAAAAAAAAEkDNzMzMzMwWQGZmZmZmZhRAMzMzMzMzEUCamZmZmZkXQDMzMzMzMxNAzczMzMzMEEBmZmZmZmYSQAAAAAAAABZAMzMzMzMzE0CamZmZmZkRQAAAAAAAABJAMzMzMzMzFUDNzMzMzMwYQDMzMzMzMxFAZmZmZmZmEkCamZmZmZkVQDMzMzMzMxlAmpmZmZmZEUAAAAAAAAASQDMzMzMzMxVAZmZmZmZmGEDNzMzMzMwQQGZmZmZmZhJAAAAAAAAAFkDNzMzMzMwYQDMzMzMzMxFA",
          "dtype": "f8"
         },
         "xaxis": "x2",
         "yaxis": "y2"
        },
        {
         "bingroup": "x",
         "hovertemplate": "platform=tiktok<br>daily_usage=%{x}<br>count=%{y}<extra></extra>",
         "legendgroup": "tiktok",
         "marker": {
          "color": "#00cc96",
          "pattern": {
           "shape": ""
          }
         },
         "name": "tiktok",
         "orientation": "v",
         "showlegend": true,
         "type": "histogram",
         "x": {
          "bdata": "AAAAAAAAGEAAAAAAAAAQQAAAAAAAABZAzczMzMzMEEAzMzMzMzMVQM3MzMzMzBZAmpmZmZmZEUCamZmZmZkVQGZmZmZmZhZAAAAAAAAAEkAAAAAAAAAWQAAAAAAAABZAzczMzMzMEkBmZmZmZmYWQJqZmZmZmRVAzczMzMzMEEDNzMzMzMwWQJqZmZmZmRNAAAAAAAAAFkAzMzMzMzMTQDMzMzMzMxVAzczMzMzMEkCamZmZmZkTQJqZmZmZmRVAMzMzMzMzE0AzMzMzMzMXQM3MzMzMzBRAzczMzMzMEkAzMzMzMzMVQM3MzMzMzBZAMzMzMzMzEUCamZmZmZkTQDMzMzMzMxVAMzMzMzMzD0AAAAAAAAASQJqZmZmZmRNAAAAAAAAADEBmZmZmZmYQQAAAAAAAABZAmpmZmZmZFUBmZmZmZmYWQDMzMzMzMxVAzczMzMzMFkDNzMzMzMwUQDMzMzMzMxdAZmZmZmZmFECamZmZmZkXQAAAAAAAABRAAAAAAAAAGECamZmZmZkTQGZmZmZmZhhAMzMzMzMzE0DNzMzMzMwYQM3MzMzMzBJAMzMzMzMzGUBmZmZmZmYSQJqZmZmZmRlAAAAAAAAAEkAzMzMzMzMXQAAAAAAAABxAzczMzMzMFkCamZmZmZkbQGZmZmZmZhZAZmZmZmZmGkDNzMzMzMwUQGZmZmZmZhpAMzMzMzMzFUAzMzMzMzMbQGZmZmZmZhRAAAAAAAAAHECamZmZmZkTQDMzMzMzMxtAZmZmZmZmFECamZmZmZkVQM3MzMzMzBRAzczMzMzMEkAAAAAAAAAcQJqZmZmZmRNAzczMzMzMFEAAAAAAAAAUQAAAAAAAABJAzczMzMzMHEDNzMzMzMwSQAAAAAAAABRAMzMzMzMzE0AzMzMzMzMRQJqZmZmZmR1AAAAAAAAAEkAzMzMzMzMTQGZmZmZmZhJAZmZmZmZmEEBmZmZmZmYeQDMzMzMzMxFAZmZmZmZmEkCamZmZmZkRQDMzMzMzMw9AMzMzMzMzH0BmZmZmZmYQQJqZmZmZmRFAzczMzMzMEECamZmZmZkNQAAAAAAAACBAMzMzMzMzD0DNzMzMzMwQQAAAAAAAABBAAAAAAAAADEBmZmZmZmYgQJqZmZmZmQ1AAAAAAAAAEEBmZmZmZmYOQGZmZmZmZgpAzczMzMzMIEAAAAAAAAAMQGZmZmZmZg5AzczMzMzMDEBmZmZmZmYUQJqZmZmZmQ1AzczMzMzMFEDNzMzMzMwSQDMzMzMzMxVAmpmZmZmZF0CamZmZmZkVQAAAAAAAABJAAAAAAAAAFkDNzMzMzMwWQGZmZmZmZhZAMzMzMzMzEUDNzMzMzMwWQAAAAAAAABZAMzMzMzMzG0AzMzMzMzMZQGZmZmZmZhpAmpmZmZmZG0CamZmZmZkTQDMzMzMzMxlAZmZmZmZmGkBmZmZmZmYYQDMzMzMzMxlAAAAAAAAAHEBmZmZmZmYWQGZmZmZmZhhAzczMzMzMHEDNzMzMzMwWQM3MzMzMzBhAZmZmZmZmHECamZmZmZkZQDMzMzMzMxNAmpmZmZmZGUBmZmZmZmYSQDMzMzMzMxdAMzMzMzMzGUAAAAAAAAAcQDMzMzMzMxlAzczMzMzMEkA=",
          "dtype": "f8"
         },
         "xaxis": "x3",
         "yaxis": "y3"
        },
        {
         "bingroup": "x",
         "hovertemplate": "platform=facebook<br>daily_usage=%{x}<br>count=%{y}<extra></extra>",
         "legendgroup": "facebook",
         "marker": {
          "color": "#ab63fa",
          "pattern": {
           "shape": ""
          }
         },
         "name": "facebook",
         "orientation": "v",
         "showlegend": true,
         "type": "histogram",
         "x": {
          "bdata": "AAAAAAAAEkAAAAAAAAAMQJqZmZmZmQlAzczMzMzMDEDNzMzMzMwIQJqZmZmZmQ1AZmZmZmZmCkDNzMzMzMwMQM3MzMzMzAhAmpmZmZmZCUAzMzMzMzMHQGZmZmZmZg5AMzMzMzMzB0DNzMzMzMwSQJqZmZmZmRNAAAAAAAAAGECamZmZmZkXQAAAAAAAABJAZmZmZmZmFEAAAAAAAAAWQGZmZmZmZhBAzczMzMzMEkBmZmZmZmYUQJqZmZmZmQ1AMzMzMzMzEUDNzMzMzMwSQDMzMzMzMxNAZmZmZmZmFEDNzMzMzMwUQAAAAAAAABRAZmZmZmZmFECamZmZmZkTQAAAAAAAABRAMzMzMzMzE0CamZmZmZkTQM3MzMzMzBJAMzMzMzMzE0BmZmZmZmYSQM3MzMzMzBJAAAAAAAAAEkBmZmZmZmYSQJqZmZmZmRFAAAAAAAAAEkAzMzMzMzMRQJqZmZmZmRFAzczMzMzMEEDNzMzMzMwQQM3MzMzMzBJAZmZmZmZmFkBmZmZmZmYQQDMzMzMzMxNAmpmZmZmZFUAAAAAAAAAQQDMzMzMzMxFAzczMzMzMFECamZmZmZkNQJqZmZmZmRFAAAAAAAAAFEAAAAAAAAAMQM3MzMzMzBBAMzMzMzMzE0BmZmZmZmYKQAAAAAAAABBAZmZmZmZmEkDNzMzMzMwIQGZmZmZmZhBAMzMzMzMzD0BmZmZmZmYOQJqZmZmZmQ1AzczMzMzMDEAAAAAAAAAMQDMzMzMzMwtAZmZmZmZmCkCamZmZmZkJQM3MzMzMzAhAAAAAAAAACEAzMzMzMzMHQGZmZmZmZgZAmpmZmZmZBUDNzMzMzMwEQAAAAAAAAARAMzMzMzMzA0BmZmZmZmYCQM3MzMzMzBBAZmZmZmZmEEAAAAAAAAASQAAAAAAAABBAmpmZmZmZEUAzMzMzMzMPQGZmZmZmZg5AzczMzMzMEECamZmZmZkNQM3MzMzMzAxAzczMzMzMHEAAAAAAAAAaQJqZmZmZmRNAmpmZmZmZGUAzMzMzMzMRQM3MzMzMzBhAmpmZmZmZGUAAAAAAAAASQGZmZmZmZhxAAAAAAAAAGkBmZmZmZmYSQAAAAAAAABpAAAAAAAAAEkCamZmZmZkZQM3MzMzMzBhAmpmZmZmZGUBmZmZmZmYSQDMzMzMzMxlAzczMzMzMEkAAAAAAAAAaQAAAAAAAABJAzczMzMzMEkBmZmZmZmYYQM3MzMzMzBxAzczMzMzMGEAzMzMzMzMTQAAAAAAAABpAAAAAAAAAEkAzMzMzMzMTQM3MzMzMzBhA",
          "dtype": "f8"
         },
         "xaxis": "x4",
         "yaxis": "y4"
        },
        {
         "bingroup": "x",
         "hovertemplate": "platform=whatsapp<br>daily_usage=%{x}<br>count=%{y}<extra></extra>",
         "legendgroup": "whatsapp",
         "marker": {
          "color": "#FFA15A",
          "pattern": {
           "shape": ""
          }
         },
         "name": "whatsapp",
         "orientation": "v",
         "showlegend": true,
         "type": "histogram",
         "x": {
          "bdata": "MzMzMzMzF0BmZmZmZmYWQJqZmZmZmRdAzczMzMzMFkAAAAAAAAAYQDMzMzMzMxdAZmZmZmZmGECamZmZmZkXQM3MzMzMzBhAAAAAAAAAGEAzMzMzMzMZQGZmZmZmZhhAmpmZmZmZGUDNzMzMzMwYQAAAAAAAABpAMzMzMzMzGUBmZmZmZmYaQJqZmZmZmRlAzczMzMzMGkAAAAAAAAAaQDMzMzMzMxtAZmZmZmZmGkCamZmZmZkbQM3MzMzMzBpAAAAAAAAAHEAzMzMzMzMbQGZmZmZmZhxAmpmZmZmZG0DNzMzMzMwcQAAAAAAAABxAMzMzMzMzHUBmZmZmZmYcQJqZmZmZmR1AzczMzMzMHEAAAAAAAAAeQDMzMzMzMx1AzczMzMzMGEAAAAAAAAAWQDMzMzMzMxtAZmZmZmZmFkCamZmZmZkbQAAAAAAAABhAzczMzMzMFkAAAAAAAAAcQDMzMzMzMxdAZmZmZmZmHEAzMzMzMzMXQJqZmZmZmRdAzczMzMzMHEAAAAAAAAAYQDMzMzMzMx1AZmZmZmZmFkBmZmZmZmYYQJqZmZmZmR1A",
          "dtype": "f8"
         },
         "xaxis": "x5",
         "yaxis": "y5"
        }
       ],
       "layout": {
        "annotations": [
         {
          "font": {},
          "showarrow": false,
          "text": "platform=instagram",
          "x": 0.09200000000000001,
          "xanchor": "center",
          "xref": "paper",
          "y": 1,
          "yanchor": "bottom",
          "yref": "paper"
         },
         {
          "font": {},
          "showarrow": false,
          "text": "platform=twitter",
          "x": 0.29600000000000004,
          "xanchor": "center",
          "xref": "paper",
          "y": 1,
          "yanchor": "bottom",
          "yref": "paper"
         },
         {
          "font": {},
          "showarrow": false,
          "text": "platform=tiktok",
          "x": 0.5,
          "xanchor": "center",
          "xref": "paper",
          "y": 1,
          "yanchor": "bottom",
          "yref": "paper"
         },
         {
          "font": {},
          "showarrow": false,
          "text": "platform=facebook",
          "x": 0.7040000000000002,
          "xanchor": "center",
          "xref": "paper",
          "y": 1,
          "yanchor": "bottom",
          "yref": "paper"
         },
         {
          "font": {},
          "showarrow": false,
          "text": "platform=whatsapp",
          "x": 0.908,
          "xanchor": "center",
          "xref": "paper",
          "y": 1,
          "yanchor": "bottom",
          "yref": "paper"
         }
        ],
        "barmode": "relative",
        "legend": {
         "title": {
          "text": "platform"
         },
         "tracegroupgap": 0
        },
        "template": {
         "data": {
          "bar": [
           {
            "error_x": {
             "color": "#2a3f5f"
            },
            "error_y": {
             "color": "#2a3f5f"
            },
            "marker": {
             "line": {
              "color": "#E5ECF6",
              "width": 0.5
             },
             "pattern": {
              "fillmode": "overlay",
              "size": 10,
              "solidity": 0.2
             }
            },
            "type": "bar"
           }
          ],
          "barpolar": [
           {
            "marker": {
             "line": {
              "color": "#E5ECF6",
              "width": 0.5
             },
             "pattern": {
              "fillmode": "overlay",
              "size": 10,
              "solidity": 0.2
             }
            },
            "type": "barpolar"
           }
          ],
          "carpet": [
           {
            "aaxis": {
             "endlinecolor": "#2a3f5f",
             "gridcolor": "white",
             "linecolor": "white",
             "minorgridcolor": "white",
             "startlinecolor": "#2a3f5f"
            },
            "baxis": {
             "endlinecolor": "#2a3f5f",
             "gridcolor": "white",
             "linecolor": "white",
             "minorgridcolor": "white",
             "startlinecolor": "#2a3f5f"
            },
            "type": "carpet"
           }
          ],
          "choropleth": [
           {
            "colorbar": {
             "outlinewidth": 0,
             "ticks": ""
            },
            "type": "choropleth"
           }
          ],
          "contour": [
           {
            "colorbar": {
             "outlinewidth": 0,
             "ticks": ""
            },
            "colorscale": [
             [
              0,
              "#0d0887"
             ],
             [
              0.1111111111111111,
              "#46039f"
             ],
             [
              0.2222222222222222,
              "#7201a8"
             ],
             [
              0.3333333333333333,
              "#9c179e"
             ],
             [
              0.4444444444444444,
              "#bd3786"
             ],
             [
              0.5555555555555556,
              "#d8576b"
             ],
             [
              0.6666666666666666,
              "#ed7953"
             ],
             [
              0.7777777777777778,
              "#fb9f3a"
             ],
             [
              0.8888888888888888,
              "#fdca26"
             ],
             [
              1,
              "#f0f921"
             ]
            ],
            "type": "contour"
           }
          ],
          "contourcarpet": [
           {
            "colorbar": {
             "outlinewidth": 0,
             "ticks": ""
            },
            "type": "contourcarpet"
           }
          ],
          "heatmap": [
           {
            "colorbar": {
             "outlinewidth": 0,
             "ticks": ""
            },
            "colorscale": [
             [
              0,
              "#0d0887"
             ],
             [
              0.1111111111111111,
              "#46039f"
             ],
             [
              0.2222222222222222,
              "#7201a8"
             ],
             [
              0.3333333333333333,
              "#9c179e"
             ],
             [
              0.4444444444444444,
              "#bd3786"
             ],
             [
              0.5555555555555556,
              "#d8576b"
             ],
             [
              0.6666666666666666,
              "#ed7953"
             ],
             [
              0.7777777777777778,
              "#fb9f3a"
             ],
             [
              0.8888888888888888,
              "#fdca26"
             ],
             [
              1,
              "#f0f921"
             ]
            ],
            "type": "heatmap"
           }
          ],
          "histogram": [
           {
            "marker": {
             "pattern": {
              "fillmode": "overlay",
              "size": 10,
              "solidity": 0.2
             }
            },
            "type": "histogram"
           }
          ],
          "histogram2d": [
           {
            "colorbar": {
             "outlinewidth": 0,
             "ticks": ""
            },
            "colorscale": [
             [
              0,
              "#0d0887"
             ],
             [
              0.1111111111111111,
              "#46039f"
             ],
             [
              0.2222222222222222,
              "#7201a8"
             ],
             [
              0.3333333333333333,
              "#9c179e"
             ],
             [
              0.4444444444444444,
              "#bd3786"
             ],
             [
              0.5555555555555556,
              "#d8576b"
             ],
             [
              0.6666666666666666,
              "#ed7953"
             ],
             [
              0.7777777777777778,
              "#fb9f3a"
             ],
             [
              0.8888888888888888,
              "#fdca26"
             ],
             [
              1,
              "#f0f921"
             ]
            ],
            "type": "histogram2d"
           }
          ],
          "histogram2dcontour": [
           {
            "colorbar": {
             "outlinewidth": 0,
             "ticks": ""
            },
            "colorscale": [
             [
              0,
              "#0d0887"
             ],
             [
              0.1111111111111111,
              "#46039f"
             ],
             [
              0.2222222222222222,
              "#7201a8"
             ],
             [
              0.3333333333333333,
              "#9c179e"
             ],
             [
              0.4444444444444444,
              "#bd3786"
             ],
             [
              0.5555555555555556,
              "#d8576b"
             ],
             [
              0.6666666666666666,
              "#ed7953"
             ],
             [
              0.7777777777777778,
              "#fb9f3a"
             ],
             [
              0.8888888888888888,
              "#fdca26"
             ],
             [
              1,
              "#f0f921"
             ]
            ],
            "type": "histogram2dcontour"
           }
          ],
          "mesh3d": [
           {
            "colorbar": {
             "outlinewidth": 0,
             "ticks": ""
            },
            "type": "mesh3d"
           }
          ],
          "parcoords": [
           {
            "line": {
             "colorbar": {
              "outlinewidth": 0,
              "ticks": ""
             }
            },
            "type": "parcoords"
           }
          ],
          "pie": [
           {
            "automargin": true,
            "type": "pie"
           }
          ],
          "scatter": [
           {
            "fillpattern": {
             "fillmode": "overlay",
             "size": 10,
             "solidity": 0.2
            },
            "type": "scatter"
           }
          ],
          "scatter3d": [
           {
            "line": {
             "colorbar": {
              "outlinewidth": 0,
              "ticks": ""
             }
            },
            "marker": {
             "colorbar": {
              "outlinewidth": 0,
              "ticks": ""
             }
            },
            "type": "scatter3d"
           }
          ],
          "scattercarpet": [
           {
            "marker": {
             "colorbar": {
              "outlinewidth": 0,
              "ticks": ""
             }
            },
            "type": "scattercarpet"
           }
          ],
          "scattergeo": [
           {
            "marker": {
             "colorbar": {
              "outlinewidth": 0,
              "ticks": ""
             }
            },
            "type": "scattergeo"
           }
          ],
          "scattergl": [
           {
            "marker": {
             "colorbar": {
              "outlinewidth": 0,
              "ticks": ""
             }
            },
            "type": "scattergl"
           }
          ],
          "scattermap": [
           {
            "marker": {
             "colorbar": {
              "outlinewidth": 0,
              "ticks": ""
             }
            },
            "type": "scattermap"
           }
          ],
          "scattermapbox": [
           {
            "marker": {
             "colorbar": {
              "outlinewidth": 0,
              "ticks": ""
             }
            },
            "type": "scattermapbox"
           }
          ],
          "scatterpolar": [
           {
            "marker": {
             "colorbar": {
              "outlinewidth": 0,
              "ticks": ""
             }
            },
            "type": "scatterpolar"
           }
          ],
          "scatterpolargl": [
           {
            "marker": {
             "colorbar": {
              "outlinewidth": 0,
              "ticks": ""
             }
            },
            "type": "scatterpolargl"
           }
          ],
          "scatterternary": [
           {
            "marker": {
             "colorbar": {
              "outlinewidth": 0,
              "ticks": ""
             }
            },
            "type": "scatterternary"
           }
          ],
          "surface": [
           {
            "colorbar": {
             "outlinewidth": 0,
             "ticks": ""
            },
            "colorscale": [
             [
              0,
              "#0d0887"
             ],
             [
              0.1111111111111111,
              "#46039f"
             ],
             [
              0.2222222222222222,
              "#7201a8"
             ],
             [
              0.3333333333333333,
              "#9c179e"
             ],
             [
              0.4444444444444444,
              "#bd3786"
             ],
             [
              0.5555555555555556,
              "#d8576b"
             ],
             [
              0.6666666666666666,
              "#ed7953"
             ],
             [
              0.7777777777777778,
              "#fb9f3a"
             ],
             [
              0.8888888888888888,
              "#fdca26"
             ],
             [
              1,
              "#f0f921"
             ]
            ],
            "type": "surface"
           }
          ],
          "table": [
           {
            "cells": {
             "fill": {
              "color": "#EBF0F8"
             },
             "line": {
              "color": "white"
             }
            },
            "header": {
             "fill": {
              "color": "#C8D4E3"
             },
             "line": {
              "color": "white"
             }
            },
            "type": "table"
           }
          ]
         },
         "layout": {
          "annotationdefaults": {
           "arrowcolor": "#2a3f5f",
           "arrowhead": 0,
           "arrowwidth": 1
          },
          "autotypenumbers": "strict",
          "coloraxis": {
           "colorbar": {
            "outlinewidth": 0,
            "ticks": ""
           }
          },
          "colorscale": {
           "diverging": [
            [
             0,
             "#8e0152"
            ],
            [
             0.1,
             "#c51b7d"
            ],
            [
             0.2,
             "#de77ae"
            ],
            [
             0.3,
             "#f1b6da"
            ],
            [
             0.4,
             "#fde0ef"
            ],
            [
             0.5,
             "#f7f7f7"
            ],
            [
             0.6,
             "#e6f5d0"
            ],
            [
             0.7,
             "#b8e186"
            ],
            [
             0.8,
             "#7fbc41"
            ],
            [
             0.9,
             "#4d9221"
            ],
            [
             1,
             "#276419"
            ]
           ],
           "sequential": [
            [
             0,
             "#0d0887"
            ],
            [
             0.1111111111111111,
             "#46039f"
            ],
            [
             0.2222222222222222,
             "#7201a8"
            ],
            [
             0.3333333333333333,
             "#9c179e"
            ],
            [
             0.4444444444444444,
             "#bd3786"
            ],
            [
             0.5555555555555556,
             "#d8576b"
            ],
            [
             0.6666666666666666,
             "#ed7953"
            ],
            [
             0.7777777777777778,
             "#fb9f3a"
            ],
            [
             0.8888888888888888,
             "#fdca26"
            ],
            [
             1,
             "#f0f921"
            ]
           ],
           "sequentialminus": [
            [
             0,
             "#0d0887"
            ],
            [
             0.1111111111111111,
             "#46039f"
            ],
            [
             0.2222222222222222,
             "#7201a8"
            ],
            [
             0.3333333333333333,
             "#9c179e"
            ],
            [
             0.4444444444444444,
             "#bd3786"
            ],
            [
             0.5555555555555556,
             "#d8576b"
            ],
            [
             0.6666666666666666,
             "#ed7953"
            ],
            [
             0.7777777777777778,
             "#fb9f3a"
            ],
            [
             0.8888888888888888,
             "#fdca26"
            ],
            [
             1,
             "#f0f921"
            ]
           ]
          },
          "colorway": [
           "#636efa",
           "#EF553B",
           "#00cc96",
           "#ab63fa",
           "#FFA15A",
           "#19d3f3",
           "#FF6692",
           "#B6E880",
           "#FF97FF",
           "#FECB52"
          ],
          "font": {
           "color": "#2a3f5f"
          },
          "geo": {
           "bgcolor": "white",
           "lakecolor": "white",
           "landcolor": "#E5ECF6",
           "showlakes": true,
           "showland": true,
           "subunitcolor": "white"
          },
          "hoverlabel": {
           "align": "left"
          },
          "hovermode": "closest",
          "mapbox": {
           "style": "light"
          },
          "paper_bgcolor": "white",
          "plot_bgcolor": "#E5ECF6",
          "polar": {
           "angularaxis": {
            "gridcolor": "white",
            "linecolor": "white",
            "ticks": ""
           },
           "bgcolor": "#E5ECF6",
           "radialaxis": {
            "gridcolor": "white",
            "linecolor": "white",
            "ticks": ""
           }
          },
          "scene": {
           "xaxis": {
            "backgroundcolor": "#E5ECF6",
            "gridcolor": "white",
            "gridwidth": 2,
            "linecolor": "white",
            "showbackground": true,
            "ticks": "",
            "zerolinecolor": "white"
           },
           "yaxis": {
            "backgroundcolor": "#E5ECF6",
            "gridcolor": "white",
            "gridwidth": 2,
            "linecolor": "white",
            "showbackground": true,
            "ticks": "",
            "zerolinecolor": "white"
           },
           "zaxis": {
            "backgroundcolor": "#E5ECF6",
            "gridcolor": "white",
            "gridwidth": 2,
            "linecolor": "white",
            "showbackground": true,
            "ticks": "",
            "zerolinecolor": "white"
           }
          },
          "shapedefaults": {
           "line": {
            "color": "#2a3f5f"
           }
          },
          "ternary": {
           "aaxis": {
            "gridcolor": "white",
            "linecolor": "white",
            "ticks": ""
           },
           "baxis": {
            "gridcolor": "white",
            "linecolor": "white",
            "ticks": ""
           },
           "bgcolor": "#E5ECF6",
           "caxis": {
            "gridcolor": "white",
            "linecolor": "white",
            "ticks": ""
           }
          },
          "title": {
           "x": 0.05
          },
          "xaxis": {
           "automargin": true,
           "gridcolor": "white",
           "linecolor": "white",
           "ticks": "",
           "title": {
            "standoff": 15
           },
           "zerolinecolor": "white",
           "zerolinewidth": 2
          },
          "yaxis": {
           "automargin": true,
           "gridcolor": "white",
           "linecolor": "white",
           "ticks": "",
           "title": {
            "standoff": 15
           },
           "zerolinecolor": "white",
           "zerolinewidth": 2
          }
         }
        },
        "title": {
         "text": "Histograma de uso diario por plataforma"
        },
        "xaxis": {
         "anchor": "y",
         "domain": [
          0,
          0.18400000000000002
         ],
         "title": {
          "text": "daily_usage"
         }
        },
        "xaxis2": {
         "anchor": "y2",
         "domain": [
          0.20400000000000001,
          0.388
         ],
         "matches": "x",
         "title": {
          "text": "daily_usage"
         }
        },
        "xaxis3": {
         "anchor": "y3",
         "domain": [
          0.40800000000000003,
          0.5920000000000001
         ],
         "matches": "x",
         "title": {
          "text": "daily_usage"
         }
        },
        "xaxis4": {
         "anchor": "y4",
         "domain": [
          0.6120000000000001,
          0.7960000000000002
         ],
         "matches": "x",
         "title": {
          "text": "daily_usage"
         }
        },
        "xaxis5": {
         "anchor": "y5",
         "domain": [
          0.8160000000000001,
          1
         ],
         "matches": "x",
         "title": {
          "text": "daily_usage"
         }
        },
        "yaxis": {
         "anchor": "x",
         "domain": [
          0,
          1
         ],
         "title": {
          "text": "count"
         }
        },
        "yaxis2": {
         "anchor": "x2",
         "domain": [
          0,
          1
         ],
         "matches": "y",
         "showticklabels": false
        },
        "yaxis3": {
         "anchor": "x3",
         "domain": [
          0,
          1
         ],
         "matches": "y",
         "showticklabels": false
        },
        "yaxis4": {
         "anchor": "x4",
         "domain": [
          0,
          1
         ],
         "matches": "y",
         "showticklabels": false
        },
        "yaxis5": {
         "anchor": "x5",
         "domain": [
          0,
          1
         ],
         "matches": "y",
         "showticklabels": false
        }
       }
      }
     },
     "metadata": {},
     "output_type": "display_data"
    }
   ],
   "source": [
    "print(df[ df['platform'].isin(top_platform.index) ].groupby('platform')['daily_usage'].mean().sort_values(ascending=False))\n",
    "\n",
    "## histograma de uso por plataforma\n",
    "fig = px.histogram(df[ df['platform'].isin(top_platform.index) ], x=\"daily_usage\", color='platform', facet_col='platform', title='Histograma de uso diario por plataforma')\n",
    "\n",
    "fig.show()"
   ]
  },
  {
   "cell_type": "markdown",
   "id": "6405cb29",
   "metadata": {},
   "source": [
    "- Sobre las plataformas más usadas, en promedio a whatsapp se le dedica más de 6 horas, a tiktok mas de 5 horas y al resto más de 4."
   ]
  },
  {
   "cell_type": "code",
   "execution_count": 9,
   "id": "65581a6e",
   "metadata": {},
   "outputs": [
    {
     "data": {
      "application/vnd.plotly.v1+json": {
       "config": {
        "plotlyServerURL": "https://plot.ly"
       },
       "data": [
        {
         "hovertemplate": "age=%{x}<br>daily_usage=%{y}<extra></extra>",
         "legendgroup": "",
         "marker": {
          "color": "#636efa",
          "symbol": "circle"
         },
         "mode": "markers",
         "name": "",
         "orientation": "v",
         "showlegend": false,
         "type": "scatter",
         "x": {
          "bdata": "ExYUEhUTFxQSFRMUFhIVFBgTFRQSFxMUFhMVFBgTFRQSFxMUFhMVFBgTFRQSFxMUFhMVFBgTFRQSFxMUFhMUEhcVFBMWFBIVExQXFRMWFBIVExQWEhUTFxQSFhMVFBcTEhYUFRMXFBIWExUUFxMUFRMWFBMVFBYTFBUTFhQVExQWFRMUFhUTFBYVExQWFRMUFhUTFBYVExQWFRMUFhUTFBMVFBYTFRQWExUUFhMVFBYTFRQWExUUFhMVFBYTFRQWExUUFhMVFBYTFRQWExUUFhMVFBYTFRQWExUUFhMVFBYTFRQWExUUFhMVFBYTFRQWExUUFhMVFBYTFRQWExUUFhMVFBYTFRQWExUUFhMVFBYTFRQWExUUFhMVFBYTFRQWExUUFhMVFBYTFRQWExUUFhMVFBYTFRQWExUUFhMVFBYTFRQWExUUFhMVFBYTFRQWExUUFhMVFBYTFRQWExUUFhMVFBYTFRQWExUUFhMVFBYTFRQWExUUFhMVFBYTFRQWExUUFhMVFBYTFRQWExUUFhMVFBYTFRQWExUUFhMVFBYTFRQWExUUFhMVFBYTFRQWExUUFhMVFBYTFRQWExUUFhMVFBYTFRQWExUUFhMVFBYTFRQWExUUFhMVFBYTFRQWExUUFhMVFBYTFRQWExUUFhMVFBYTFRQWExUUFhMVFBYTFRQWExUUFhMVFBYTFRQWExUUFhMVFBYTFRQWExUUFhMVFBYTFRQWExUUFhMVFBYTFRQWExUUFhMVFBcTFhUYFBYTFxUYFBYTFxUYFBYTFxUYFBUXFBYTGBUXFBYTGBUXFBYTGBUXFBYTGBUXFBYTGBUXFBYTGBUXFBYTGBUXFBYTGBUXFhQXFRgTFhQXFRgTFhQXFRgTFhQXFRgTFhQXFRgTFhQXFRgTFhQXFRgTFhQXFRgTFhQXFRgTFhQXFRgT",
          "dtype": "i1"
         },
         "xaxis": "x",
         "y": {
          "bdata": "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",
          "dtype": "f8"
         },
         "yaxis": "y"
        },
        {
         "hovertemplate": "<b>OLS trendline</b><br>daily_usage = -0.10216 * age + 7.0293<br>R<sup>2</sup>=0.012924<br><br>age=%{x}<br>daily_usage=%{y} <b>(trend)</b><extra></extra>",
         "legendgroup": "",
         "line": {
          "color": "grey"
         },
         "marker": {
          "color": "#636efa",
          "symbol": "circle"
         },
         "mode": "lines",
         "name": "",
         "showlegend": false,
         "type": "scatter",
         "x": {
          "bdata": "EhISEhISEhISEhISEhITExMTExMTExMTExMTExMTExMTExMTExMTExMTExMTExMTExMTExMTExMTExMTExMTExMTExMTExMTExMTExMTExMTExMTExMTExMTExMTExMTExMTExMTExMTExMTExMTExMTExMTExMTExMTExMTExMTExMTExMTExMTExMTExMTExMTExMTExMTExMTExMTExMTExMTExMTExMTExMTExMTFBQUFBQUFBQUFBQUFBQUFBQUFBQUFBQUFBQUFBQUFBQUFBQUFBQUFBQUFBQUFBQUFBQUFBQUFBQUFBQUFBQUFBQUFBQUFBQUFBQUFBQUFBQUFBQUFBQUFBQUFBQUFBQUFBQUFBQUFBQUFBQUFBQUFBQUFBQUFBQUFBQUFBQUFBQUFBQUFBQUFBQUFBQUFBQUFBQUFBQUFBQUFBQUFBQUFBQUFBQUFRUVFRUVFRUVFRUVFRUVFRUVFRUVFRUVFRUVFRUVFRUVFRUVFRUVFRUVFRUVFRUVFRUVFRUVFRUVFRUVFRUVFRUVFRUVFRUVFRUVFRUVFRUVFRUVFRUVFRUVFRUVFRUVFRUVFRUVFRUVFRUVFRUVFRUVFRUVFRUVFRUVFRUVFRUVFRUVFRUVFRUVFRUVFRUVFRUVFRUVFRUVFRUVFhYWFhYWFhYWFhYWFhYWFhYWFhYWFhYWFhYWFhYWFhYWFhYWFhYWFhYWFhYWFhYWFhYWFhYWFhYWFhYWFhYWFhYWFhYWFhYWFhYWFhYWFhYWFhYWFhYWFhYWFhYWFhYWFhYWFhYWFhYWFhYWFhYWFhYWFhYWFhYWFhYWFhYWFhYWFhYWFhYWFhYWFhYWFhYWFhYWFxcXFxcXFxcXFxcXFxcXFxcXFxcXFxcXFxcXFxcXFxcXFxgYGBgYGBgYGBgYGBgYGBgYGBgYGBgYGBgY",
          "dtype": "i1"
         },
         "xaxis": "x",
         "y": {
          "bdata": "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",
          "dtype": "f8"
         },
         "yaxis": "y"
        }
       ],
       "layout": {
        "legend": {
         "tracegroupgap": 0
        },
        "template": {
         "data": {
          "bar": [
           {
            "error_x": {
             "color": "#2a3f5f"
            },
            "error_y": {
             "color": "#2a3f5f"
            },
            "marker": {
             "line": {
              "color": "#E5ECF6",
              "width": 0.5
             },
             "pattern": {
              "fillmode": "overlay",
              "size": 10,
              "solidity": 0.2
             }
            },
            "type": "bar"
           }
          ],
          "barpolar": [
           {
            "marker": {
             "line": {
              "color": "#E5ECF6",
              "width": 0.5
             },
             "pattern": {
              "fillmode": "overlay",
              "size": 10,
              "solidity": 0.2
             }
            },
            "type": "barpolar"
           }
          ],
          "carpet": [
           {
            "aaxis": {
             "endlinecolor": "#2a3f5f",
             "gridcolor": "white",
             "linecolor": "white",
             "minorgridcolor": "white",
             "startlinecolor": "#2a3f5f"
            },
            "baxis": {
             "endlinecolor": "#2a3f5f",
             "gridcolor": "white",
             "linecolor": "white",
             "minorgridcolor": "white",
             "startlinecolor": "#2a3f5f"
            },
            "type": "carpet"
           }
          ],
          "choropleth": [
           {
            "colorbar": {
             "outlinewidth": 0,
             "ticks": ""
            },
            "type": "choropleth"
           }
          ],
          "contour": [
           {
            "colorbar": {
             "outlinewidth": 0,
             "ticks": ""
            },
            "colorscale": [
             [
              0,
              "#0d0887"
             ],
             [
              0.1111111111111111,
              "#46039f"
             ],
             [
              0.2222222222222222,
              "#7201a8"
             ],
             [
              0.3333333333333333,
              "#9c179e"
             ],
             [
              0.4444444444444444,
              "#bd3786"
             ],
             [
              0.5555555555555556,
              "#d8576b"
             ],
             [
              0.6666666666666666,
              "#ed7953"
             ],
             [
              0.7777777777777778,
              "#fb9f3a"
             ],
             [
              0.8888888888888888,
              "#fdca26"
             ],
             [
              1,
              "#f0f921"
             ]
            ],
            "type": "contour"
           }
          ],
          "contourcarpet": [
           {
            "colorbar": {
             "outlinewidth": 0,
             "ticks": ""
            },
            "type": "contourcarpet"
           }
          ],
          "heatmap": [
           {
            "colorbar": {
             "outlinewidth": 0,
             "ticks": ""
            },
            "colorscale": [
             [
              0,
              "#0d0887"
             ],
             [
              0.1111111111111111,
              "#46039f"
             ],
             [
              0.2222222222222222,
              "#7201a8"
             ],
             [
              0.3333333333333333,
              "#9c179e"
             ],
             [
              0.4444444444444444,
              "#bd3786"
             ],
             [
              0.5555555555555556,
              "#d8576b"
             ],
             [
              0.6666666666666666,
              "#ed7953"
             ],
             [
              0.7777777777777778,
              "#fb9f3a"
             ],
             [
              0.8888888888888888,
              "#fdca26"
             ],
             [
              1,
              "#f0f921"
             ]
            ],
            "type": "heatmap"
           }
          ],
          "histogram": [
           {
            "marker": {
             "pattern": {
              "fillmode": "overlay",
              "size": 10,
              "solidity": 0.2
             }
            },
            "type": "histogram"
           }
          ],
          "histogram2d": [
           {
            "colorbar": {
             "outlinewidth": 0,
             "ticks": ""
            },
            "colorscale": [
             [
              0,
              "#0d0887"
             ],
             [
              0.1111111111111111,
              "#46039f"
             ],
             [
              0.2222222222222222,
              "#7201a8"
             ],
             [
              0.3333333333333333,
              "#9c179e"
             ],
             [
              0.4444444444444444,
              "#bd3786"
             ],
             [
              0.5555555555555556,
              "#d8576b"
             ],
             [
              0.6666666666666666,
              "#ed7953"
             ],
             [
              0.7777777777777778,
              "#fb9f3a"
             ],
             [
              0.8888888888888888,
              "#fdca26"
             ],
             [
              1,
              "#f0f921"
             ]
            ],
            "type": "histogram2d"
           }
          ],
          "histogram2dcontour": [
           {
            "colorbar": {
             "outlinewidth": 0,
             "ticks": ""
            },
            "colorscale": [
             [
              0,
              "#0d0887"
             ],
             [
              0.1111111111111111,
              "#46039f"
             ],
             [
              0.2222222222222222,
              "#7201a8"
             ],
             [
              0.3333333333333333,
              "#9c179e"
             ],
             [
              0.4444444444444444,
              "#bd3786"
             ],
             [
              0.5555555555555556,
              "#d8576b"
             ],
             [
              0.6666666666666666,
              "#ed7953"
             ],
             [
              0.7777777777777778,
              "#fb9f3a"
             ],
             [
              0.8888888888888888,
              "#fdca26"
             ],
             [
              1,
              "#f0f921"
             ]
            ],
            "type": "histogram2dcontour"
           }
          ],
          "mesh3d": [
           {
            "colorbar": {
             "outlinewidth": 0,
             "ticks": ""
            },
            "type": "mesh3d"
           }
          ],
          "parcoords": [
           {
            "line": {
             "colorbar": {
              "outlinewidth": 0,
              "ticks": ""
             }
            },
            "type": "parcoords"
           }
          ],
          "pie": [
           {
            "automargin": true,
            "type": "pie"
           }
          ],
          "scatter": [
           {
            "fillpattern": {
             "fillmode": "overlay",
             "size": 10,
             "solidity": 0.2
            },
            "type": "scatter"
           }
          ],
          "scatter3d": [
           {
            "line": {
             "colorbar": {
              "outlinewidth": 0,
              "ticks": ""
             }
            },
            "marker": {
             "colorbar": {
              "outlinewidth": 0,
              "ticks": ""
             }
            },
            "type": "scatter3d"
           }
          ],
          "scattercarpet": [
           {
            "marker": {
             "colorbar": {
              "outlinewidth": 0,
              "ticks": ""
             }
            },
            "type": "scattercarpet"
           }
          ],
          "scattergeo": [
           {
            "marker": {
             "colorbar": {
              "outlinewidth": 0,
              "ticks": ""
             }
            },
            "type": "scattergeo"
           }
          ],
          "scattergl": [
           {
            "marker": {
             "colorbar": {
              "outlinewidth": 0,
              "ticks": ""
             }
            },
            "type": "scattergl"
           }
          ],
          "scattermap": [
           {
            "marker": {
             "colorbar": {
              "outlinewidth": 0,
              "ticks": ""
             }
            },
            "type": "scattermap"
           }
          ],
          "scattermapbox": [
           {
            "marker": {
             "colorbar": {
              "outlinewidth": 0,
              "ticks": ""
             }
            },
            "type": "scattermapbox"
           }
          ],
          "scatterpolar": [
           {
            "marker": {
             "colorbar": {
              "outlinewidth": 0,
              "ticks": ""
             }
            },
            "type": "scatterpolar"
           }
          ],
          "scatterpolargl": [
           {
            "marker": {
             "colorbar": {
              "outlinewidth": 0,
              "ticks": ""
             }
            },
            "type": "scatterpolargl"
           }
          ],
          "scatterternary": [
           {
            "marker": {
             "colorbar": {
              "outlinewidth": 0,
              "ticks": ""
             }
            },
            "type": "scatterternary"
           }
          ],
          "surface": [
           {
            "colorbar": {
             "outlinewidth": 0,
             "ticks": ""
            },
            "colorscale": [
             [
              0,
              "#0d0887"
             ],
             [
              0.1111111111111111,
              "#46039f"
             ],
             [
              0.2222222222222222,
              "#7201a8"
             ],
             [
              0.3333333333333333,
              "#9c179e"
             ],
             [
              0.4444444444444444,
              "#bd3786"
             ],
             [
              0.5555555555555556,
              "#d8576b"
             ],
             [
              0.6666666666666666,
              "#ed7953"
             ],
             [
              0.7777777777777778,
              "#fb9f3a"
             ],
             [
              0.8888888888888888,
              "#fdca26"
             ],
             [
              1,
              "#f0f921"
             ]
            ],
            "type": "surface"
           }
          ],
          "table": [
           {
            "cells": {
             "fill": {
              "color": "#EBF0F8"
             },
             "line": {
              "color": "white"
             }
            },
            "header": {
             "fill": {
              "color": "#C8D4E3"
             },
             "line": {
              "color": "white"
             }
            },
            "type": "table"
           }
          ]
         },
         "layout": {
          "annotationdefaults": {
           "arrowcolor": "#2a3f5f",
           "arrowhead": 0,
           "arrowwidth": 1
          },
          "autotypenumbers": "strict",
          "coloraxis": {
           "colorbar": {
            "outlinewidth": 0,
            "ticks": ""
           }
          },
          "colorscale": {
           "diverging": [
            [
             0,
             "#8e0152"
            ],
            [
             0.1,
             "#c51b7d"
            ],
            [
             0.2,
             "#de77ae"
            ],
            [
             0.3,
             "#f1b6da"
            ],
            [
             0.4,
             "#fde0ef"
            ],
            [
             0.5,
             "#f7f7f7"
            ],
            [
             0.6,
             "#e6f5d0"
            ],
            [
             0.7,
             "#b8e186"
            ],
            [
             0.8,
             "#7fbc41"
            ],
            [
             0.9,
             "#4d9221"
            ],
            [
             1,
             "#276419"
            ]
           ],
           "sequential": [
            [
             0,
             "#0d0887"
            ],
            [
             0.1111111111111111,
             "#46039f"
            ],
            [
             0.2222222222222222,
             "#7201a8"
            ],
            [
             0.3333333333333333,
             "#9c179e"
            ],
            [
             0.4444444444444444,
             "#bd3786"
            ],
            [
             0.5555555555555556,
             "#d8576b"
            ],
            [
             0.6666666666666666,
             "#ed7953"
            ],
            [
             0.7777777777777778,
             "#fb9f3a"
            ],
            [
             0.8888888888888888,
             "#fdca26"
            ],
            [
             1,
             "#f0f921"
            ]
           ],
           "sequentialminus": [
            [
             0,
             "#0d0887"
            ],
            [
             0.1111111111111111,
             "#46039f"
            ],
            [
             0.2222222222222222,
             "#7201a8"
            ],
            [
             0.3333333333333333,
             "#9c179e"
            ],
            [
             0.4444444444444444,
             "#bd3786"
            ],
            [
             0.5555555555555556,
             "#d8576b"
            ],
            [
             0.6666666666666666,
             "#ed7953"
            ],
            [
             0.7777777777777778,
             "#fb9f3a"
            ],
            [
             0.8888888888888888,
             "#fdca26"
            ],
            [
             1,
             "#f0f921"
            ]
           ]
          },
          "colorway": [
           "#636efa",
           "#EF553B",
           "#00cc96",
           "#ab63fa",
           "#FFA15A",
           "#19d3f3",
           "#FF6692",
           "#B6E880",
           "#FF97FF",
           "#FECB52"
          ],
          "font": {
           "color": "#2a3f5f"
          },
          "geo": {
           "bgcolor": "white",
           "lakecolor": "white",
           "landcolor": "#E5ECF6",
           "showlakes": true,
           "showland": true,
           "subunitcolor": "white"
          },
          "hoverlabel": {
           "align": "left"
          },
          "hovermode": "closest",
          "mapbox": {
           "style": "light"
          },
          "paper_bgcolor": "white",
          "plot_bgcolor": "#E5ECF6",
          "polar": {
           "angularaxis": {
            "gridcolor": "white",
            "linecolor": "white",
            "ticks": ""
           },
           "bgcolor": "#E5ECF6",
           "radialaxis": {
            "gridcolor": "white",
            "linecolor": "white",
            "ticks": ""
           }
          },
          "scene": {
           "xaxis": {
            "backgroundcolor": "#E5ECF6",
            "gridcolor": "white",
            "gridwidth": 2,
            "linecolor": "white",
            "showbackground": true,
            "ticks": "",
            "zerolinecolor": "white"
           },
           "yaxis": {
            "backgroundcolor": "#E5ECF6",
            "gridcolor": "white",
            "gridwidth": 2,
            "linecolor": "white",
            "showbackground": true,
            "ticks": "",
            "zerolinecolor": "white"
           },
           "zaxis": {
            "backgroundcolor": "#E5ECF6",
            "gridcolor": "white",
            "gridwidth": 2,
            "linecolor": "white",
            "showbackground": true,
            "ticks": "",
            "zerolinecolor": "white"
           }
          },
          "shapedefaults": {
           "line": {
            "color": "#2a3f5f"
           }
          },
          "ternary": {
           "aaxis": {
            "gridcolor": "white",
            "linecolor": "white",
            "ticks": ""
           },
           "baxis": {
            "gridcolor": "white",
            "linecolor": "white",
            "ticks": ""
           },
           "bgcolor": "#E5ECF6",
           "caxis": {
            "gridcolor": "white",
            "linecolor": "white",
            "ticks": ""
           }
          },
          "title": {
           "x": 0.05
          },
          "xaxis": {
           "automargin": true,
           "gridcolor": "white",
           "linecolor": "white",
           "ticks": "",
           "title": {
            "standoff": 15
           },
           "zerolinecolor": "white",
           "zerolinewidth": 2
          },
          "yaxis": {
           "automargin": true,
           "gridcolor": "white",
           "linecolor": "white",
           "ticks": "",
           "title": {
            "standoff": 15
           },
           "zerolinecolor": "white",
           "zerolinewidth": 2
          }
         }
        },
        "title": {
         "text": "Relación entre edad y uso diario de plataformas"
        },
        "xaxis": {
         "anchor": "y",
         "domain": [
          0,
          1
         ],
         "title": {
          "text": "age"
         }
        },
        "yaxis": {
         "anchor": "x",
         "domain": [
          0,
          1
         ],
         "title": {
          "text": "daily_usage"
         }
        }
       }
      }
     },
     "metadata": {},
     "output_type": "display_data"
    },
    {
     "name": "stdout",
     "output_type": "stream",
     "text": [
      "Correlación:  -0.11\n"
     ]
    }
   ],
   "source": [
    "## dispersión de edades y uso diario\n",
    "fig = px.scatter(df, x=\"age\", y='daily_usage', trendline=\"ols\", trendline_color_override=\"grey\", title='Relación entre edad y uso diario de plataformas')\n",
    "\n",
    "fig.show()\n",
    "\n",
    "## medida de correlación\n",
    "print('Correlación: ', round(df['age'].corr(df['daily_usage']), 2) )"
   ]
  },
  {
   "cell_type": "markdown",
   "id": "ea426b4a",
   "metadata": {},
   "source": [
    "- Aunque no es muy significativa, hay una correlación negativa entre la edad de los usuarios y el uso de redes sociales."
   ]
  },
  {
   "cell_type": "code",
   "execution_count": 10,
   "id": "95d4a476",
   "metadata": {},
   "outputs": [
    {
     "data": {
      "application/vnd.plotly.v1+json": {
       "config": {
        "plotlyServerURL": "https://plot.ly"
       },
       "data": [
        {
         "hovertemplate": "performance=yes<br>daily_usage=%{x}<br>addicted_score=%{y}<extra></extra>",
         "legendgroup": "yes",
         "marker": {
          "color": "#636efa",
          "symbol": "circle"
         },
         "mode": "markers",
         "name": "yes",
         "orientation": "v",
         "showlegend": true,
         "type": "scatter",
         "x": {
          "bdata": "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",
          "dtype": "f8"
         },
         "xaxis": "x",
         "y": {
          "bdata": "CAkHCQgHCAkHCAcIBwgJBwgHCAcICQcIBwgHCAkHCAcIBwgIBwkHCAcIBwgHCAcJBwgHCAcJBwgHCAcICQcIBwgHCAcIBwgHCAcIBwgHCAcIBwgHCAcIBwgHCAcIBwgHCAcIBwcIBwgHCAcIBwgHCAcIBwgHCAcIBwgHCAcIBwgHCAcIBwgHCAcIBwgJBwcGCQcIBgkHBwYJBwgGCQcHBgkHCAYJBwcGCQcIBgkHBwYJBwgGCQcHBgkHCAYJBwcGCAcJBwcHBggHCQcHBwYIBwkHBwcGCAcJBwcHBggHCQcHBwYIBwkHBwcGCAcJBwcHBggHCQcHBwYIBwkHBwcGCAcJBwcHBggHCQcHBwYIBwkHBwcGCAcJBwcHBggHCQcHBwYIBwkHBwcGCAcJBwcHBggHCQcHBwYIBwkHBwcGBwcICAYHBgcHCAgGBwYHBwgIBgcGBwcICAYHBgcHCAgGBwYHBwgIBgcGBwcICAYHCAkIBwgGCAgHCAgHCQgHCAcICAcICAcJCAcIBwgJBwgIBwkIBwgHCAkHCAgHCQgHCAcICQcICAcJCAcIBwgJBwgIBwkIBwgHCAkHCAgHCQgHCAcICQcI",
          "dtype": "i1"
         },
         "yaxis": "y"
        },
        {
         "hovertemplate": "performance=no<br>daily_usage=%{x}<br>addicted_score=%{y}<extra></extra>",
         "legendgroup": "no",
         "marker": {
          "color": "#EF553B",
          "symbol": "circle"
         },
         "mode": "markers",
         "name": "no",
         "orientation": "v",
         "showlegend": true,
         "type": "scatter",
         "x": {
          "bdata": "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",
          "dtype": "f8"
         },
         "xaxis": "x",
         "y": {
          "bdata": "AwQCBQQEBQMFBAUFAwUEBQYEBQQFBgQFBAUDBgQFBAUEBgQEBQYEBAQFBgQFBQUFBQUFBQUFBQUFBQUFBgUGBQYFBgUGBQYFBgUGBQYFBgUFBAMFBQQDBQUEAwUFBAMFBQQDBQUEAwUFBAMFBQQDBQUEAwUFBAMFBQQDBQUEAwUFBAQEBQQEBQQEBQQEBQQEBQQEBQQEBQQEBQQEBQQEBQQEBQQEBQQEBQQEBQQEBQQEBQQEBQQEBQUEBQUEBQUEBQUEBQUEBQUEBQUEBQQFBQUEBQUFBQUEBQUFBQUEBQUFBQUEBQUFBQUEBQUFBQUEBQUFBQUEBQUFBQUE",
          "dtype": "i1"
         },
         "yaxis": "y"
        }
       ],
       "layout": {
        "legend": {
         "title": {
          "text": "performance"
         },
         "tracegroupgap": 0
        },
        "template": {
         "data": {
          "bar": [
           {
            "error_x": {
             "color": "#2a3f5f"
            },
            "error_y": {
             "color": "#2a3f5f"
            },
            "marker": {
             "line": {
              "color": "#E5ECF6",
              "width": 0.5
             },
             "pattern": {
              "fillmode": "overlay",
              "size": 10,
              "solidity": 0.2
             }
            },
            "type": "bar"
           }
          ],
          "barpolar": [
           {
            "marker": {
             "line": {
              "color": "#E5ECF6",
              "width": 0.5
             },
             "pattern": {
              "fillmode": "overlay",
              "size": 10,
              "solidity": 0.2
             }
            },
            "type": "barpolar"
           }
          ],
          "carpet": [
           {
            "aaxis": {
             "endlinecolor": "#2a3f5f",
             "gridcolor": "white",
             "linecolor": "white",
             "minorgridcolor": "white",
             "startlinecolor": "#2a3f5f"
            },
            "baxis": {
             "endlinecolor": "#2a3f5f",
             "gridcolor": "white",
             "linecolor": "white",
             "minorgridcolor": "white",
             "startlinecolor": "#2a3f5f"
            },
            "type": "carpet"
           }
          ],
          "choropleth": [
           {
            "colorbar": {
             "outlinewidth": 0,
             "ticks": ""
            },
            "type": "choropleth"
           }
          ],
          "contour": [
           {
            "colorbar": {
             "outlinewidth": 0,
             "ticks": ""
            },
            "colorscale": [
             [
              0,
              "#0d0887"
             ],
             [
              0.1111111111111111,
              "#46039f"
             ],
             [
              0.2222222222222222,
              "#7201a8"
             ],
             [
              0.3333333333333333,
              "#9c179e"
             ],
             [
              0.4444444444444444,
              "#bd3786"
             ],
             [
              0.5555555555555556,
              "#d8576b"
             ],
             [
              0.6666666666666666,
              "#ed7953"
             ],
             [
              0.7777777777777778,
              "#fb9f3a"
             ],
             [
              0.8888888888888888,
              "#fdca26"
             ],
             [
              1,
              "#f0f921"
             ]
            ],
            "type": "contour"
           }
          ],
          "contourcarpet": [
           {
            "colorbar": {
             "outlinewidth": 0,
             "ticks": ""
            },
            "type": "contourcarpet"
           }
          ],
          "heatmap": [
           {
            "colorbar": {
             "outlinewidth": 0,
             "ticks": ""
            },
            "colorscale": [
             [
              0,
              "#0d0887"
             ],
             [
              0.1111111111111111,
              "#46039f"
             ],
             [
              0.2222222222222222,
              "#7201a8"
             ],
             [
              0.3333333333333333,
              "#9c179e"
             ],
             [
              0.4444444444444444,
              "#bd3786"
             ],
             [
              0.5555555555555556,
              "#d8576b"
             ],
             [
              0.6666666666666666,
              "#ed7953"
             ],
             [
              0.7777777777777778,
              "#fb9f3a"
             ],
             [
              0.8888888888888888,
              "#fdca26"
             ],
             [
              1,
              "#f0f921"
             ]
            ],
            "type": "heatmap"
           }
          ],
          "histogram": [
           {
            "marker": {
             "pattern": {
              "fillmode": "overlay",
              "size": 10,
              "solidity": 0.2
             }
            },
            "type": "histogram"
           }
          ],
          "histogram2d": [
           {
            "colorbar": {
             "outlinewidth": 0,
             "ticks": ""
            },
            "colorscale": [
             [
              0,
              "#0d0887"
             ],
             [
              0.1111111111111111,
              "#46039f"
             ],
             [
              0.2222222222222222,
              "#7201a8"
             ],
             [
              0.3333333333333333,
              "#9c179e"
             ],
             [
              0.4444444444444444,
              "#bd3786"
             ],
             [
              0.5555555555555556,
              "#d8576b"
             ],
             [
              0.6666666666666666,
              "#ed7953"
             ],
             [
              0.7777777777777778,
              "#fb9f3a"
             ],
             [
              0.8888888888888888,
              "#fdca26"
             ],
             [
              1,
              "#f0f921"
             ]
            ],
            "type": "histogram2d"
           }
          ],
          "histogram2dcontour": [
           {
            "colorbar": {
             "outlinewidth": 0,
             "ticks": ""
            },
            "colorscale": [
             [
              0,
              "#0d0887"
             ],
             [
              0.1111111111111111,
              "#46039f"
             ],
             [
              0.2222222222222222,
              "#7201a8"
             ],
             [
              0.3333333333333333,
              "#9c179e"
             ],
             [
              0.4444444444444444,
              "#bd3786"
             ],
             [
              0.5555555555555556,
              "#d8576b"
             ],
             [
              0.6666666666666666,
              "#ed7953"
             ],
             [
              0.7777777777777778,
              "#fb9f3a"
             ],
             [
              0.8888888888888888,
              "#fdca26"
             ],
             [
              1,
              "#f0f921"
             ]
            ],
            "type": "histogram2dcontour"
           }
          ],
          "mesh3d": [
           {
            "colorbar": {
             "outlinewidth": 0,
             "ticks": ""
            },
            "type": "mesh3d"
           }
          ],
          "parcoords": [
           {
            "line": {
             "colorbar": {
              "outlinewidth": 0,
              "ticks": ""
             }
            },
            "type": "parcoords"
           }
          ],
          "pie": [
           {
            "automargin": true,
            "type": "pie"
           }
          ],
          "scatter": [
           {
            "fillpattern": {
             "fillmode": "overlay",
             "size": 10,
             "solidity": 0.2
            },
            "type": "scatter"
           }
          ],
          "scatter3d": [
           {
            "line": {
             "colorbar": {
              "outlinewidth": 0,
              "ticks": ""
             }
            },
            "marker": {
             "colorbar": {
              "outlinewidth": 0,
              "ticks": ""
             }
            },
            "type": "scatter3d"
           }
          ],
          "scattercarpet": [
           {
            "marker": {
             "colorbar": {
              "outlinewidth": 0,
              "ticks": ""
             }
            },
            "type": "scattercarpet"
           }
          ],
          "scattergeo": [
           {
            "marker": {
             "colorbar": {
              "outlinewidth": 0,
              "ticks": ""
             }
            },
            "type": "scattergeo"
           }
          ],
          "scattergl": [
           {
            "marker": {
             "colorbar": {
              "outlinewidth": 0,
              "ticks": ""
             }
            },
            "type": "scattergl"
           }
          ],
          "scattermap": [
           {
            "marker": {
             "colorbar": {
              "outlinewidth": 0,
              "ticks": ""
             }
            },
            "type": "scattermap"
           }
          ],
          "scattermapbox": [
           {
            "marker": {
             "colorbar": {
              "outlinewidth": 0,
              "ticks": ""
             }
            },
            "type": "scattermapbox"
           }
          ],
          "scatterpolar": [
           {
            "marker": {
             "colorbar": {
              "outlinewidth": 0,
              "ticks": ""
             }
            },
            "type": "scatterpolar"
           }
          ],
          "scatterpolargl": [
           {
            "marker": {
             "colorbar": {
              "outlinewidth": 0,
              "ticks": ""
             }
            },
            "type": "scatterpolargl"
           }
          ],
          "scatterternary": [
           {
            "marker": {
             "colorbar": {
              "outlinewidth": 0,
              "ticks": ""
             }
            },
            "type": "scatterternary"
           }
          ],
          "surface": [
           {
            "colorbar": {
             "outlinewidth": 0,
             "ticks": ""
            },
            "colorscale": [
             [
              0,
              "#0d0887"
             ],
             [
              0.1111111111111111,
              "#46039f"
             ],
             [
              0.2222222222222222,
              "#7201a8"
             ],
             [
              0.3333333333333333,
              "#9c179e"
             ],
             [
              0.4444444444444444,
              "#bd3786"
             ],
             [
              0.5555555555555556,
              "#d8576b"
             ],
             [
              0.6666666666666666,
              "#ed7953"
             ],
             [
              0.7777777777777778,
              "#fb9f3a"
             ],
             [
              0.8888888888888888,
              "#fdca26"
             ],
             [
              1,
              "#f0f921"
             ]
            ],
            "type": "surface"
           }
          ],
          "table": [
           {
            "cells": {
             "fill": {
              "color": "#EBF0F8"
             },
             "line": {
              "color": "white"
             }
            },
            "header": {
             "fill": {
              "color": "#C8D4E3"
             },
             "line": {
              "color": "white"
             }
            },
            "type": "table"
           }
          ]
         },
         "layout": {
          "annotationdefaults": {
           "arrowcolor": "#2a3f5f",
           "arrowhead": 0,
           "arrowwidth": 1
          },
          "autotypenumbers": "strict",
          "coloraxis": {
           "colorbar": {
            "outlinewidth": 0,
            "ticks": ""
           }
          },
          "colorscale": {
           "diverging": [
            [
             0,
             "#8e0152"
            ],
            [
             0.1,
             "#c51b7d"
            ],
            [
             0.2,
             "#de77ae"
            ],
            [
             0.3,
             "#f1b6da"
            ],
            [
             0.4,
             "#fde0ef"
            ],
            [
             0.5,
             "#f7f7f7"
            ],
            [
             0.6,
             "#e6f5d0"
            ],
            [
             0.7,
             "#b8e186"
            ],
            [
             0.8,
             "#7fbc41"
            ],
            [
             0.9,
             "#4d9221"
            ],
            [
             1,
             "#276419"
            ]
           ],
           "sequential": [
            [
             0,
             "#0d0887"
            ],
            [
             0.1111111111111111,
             "#46039f"
            ],
            [
             0.2222222222222222,
             "#7201a8"
            ],
            [
             0.3333333333333333,
             "#9c179e"
            ],
            [
             0.4444444444444444,
             "#bd3786"
            ],
            [
             0.5555555555555556,
             "#d8576b"
            ],
            [
             0.6666666666666666,
             "#ed7953"
            ],
            [
             0.7777777777777778,
             "#fb9f3a"
            ],
            [
             0.8888888888888888,
             "#fdca26"
            ],
            [
             1,
             "#f0f921"
            ]
           ],
           "sequentialminus": [
            [
             0,
             "#0d0887"
            ],
            [
             0.1111111111111111,
             "#46039f"
            ],
            [
             0.2222222222222222,
             "#7201a8"
            ],
            [
             0.3333333333333333,
             "#9c179e"
            ],
            [
             0.4444444444444444,
             "#bd3786"
            ],
            [
             0.5555555555555556,
             "#d8576b"
            ],
            [
             0.6666666666666666,
             "#ed7953"
            ],
            [
             0.7777777777777778,
             "#fb9f3a"
            ],
            [
             0.8888888888888888,
             "#fdca26"
            ],
            [
             1,
             "#f0f921"
            ]
           ]
          },
          "colorway": [
           "#636efa",
           "#EF553B",
           "#00cc96",
           "#ab63fa",
           "#FFA15A",
           "#19d3f3",
           "#FF6692",
           "#B6E880",
           "#FF97FF",
           "#FECB52"
          ],
          "font": {
           "color": "#2a3f5f"
          },
          "geo": {
           "bgcolor": "white",
           "lakecolor": "white",
           "landcolor": "#E5ECF6",
           "showlakes": true,
           "showland": true,
           "subunitcolor": "white"
          },
          "hoverlabel": {
           "align": "left"
          },
          "hovermode": "closest",
          "mapbox": {
           "style": "light"
          },
          "paper_bgcolor": "white",
          "plot_bgcolor": "#E5ECF6",
          "polar": {
           "angularaxis": {
            "gridcolor": "white",
            "linecolor": "white",
            "ticks": ""
           },
           "bgcolor": "#E5ECF6",
           "radialaxis": {
            "gridcolor": "white",
            "linecolor": "white",
            "ticks": ""
           }
          },
          "scene": {
           "xaxis": {
            "backgroundcolor": "#E5ECF6",
            "gridcolor": "white",
            "gridwidth": 2,
            "linecolor": "white",
            "showbackground": true,
            "ticks": "",
            "zerolinecolor": "white"
           },
           "yaxis": {
            "backgroundcolor": "#E5ECF6",
            "gridcolor": "white",
            "gridwidth": 2,
            "linecolor": "white",
            "showbackground": true,
            "ticks": "",
            "zerolinecolor": "white"
           },
           "zaxis": {
            "backgroundcolor": "#E5ECF6",
            "gridcolor": "white",
            "gridwidth": 2,
            "linecolor": "white",
            "showbackground": true,
            "ticks": "",
            "zerolinecolor": "white"
           }
          },
          "shapedefaults": {
           "line": {
            "color": "#2a3f5f"
           }
          },
          "ternary": {
           "aaxis": {
            "gridcolor": "white",
            "linecolor": "white",
            "ticks": ""
           },
           "baxis": {
            "gridcolor": "white",
            "linecolor": "white",
            "ticks": ""
           },
           "bgcolor": "#E5ECF6",
           "caxis": {
            "gridcolor": "white",
            "linecolor": "white",
            "ticks": ""
           }
          },
          "title": {
           "x": 0.05
          },
          "xaxis": {
           "automargin": true,
           "gridcolor": "white",
           "linecolor": "white",
           "ticks": "",
           "title": {
            "standoff": 15
           },
           "zerolinecolor": "white",
           "zerolinewidth": 2
          },
          "yaxis": {
           "automargin": true,
           "gridcolor": "white",
           "linecolor": "white",
           "ticks": "",
           "title": {
            "standoff": 15
           },
           "zerolinecolor": "white",
           "zerolinewidth": 2
          }
         }
        },
        "title": {
         "text": "Relación entre uso diario y puntaje de adicción"
        },
        "xaxis": {
         "anchor": "y",
         "domain": [
          0,
          1
         ],
         "title": {
          "text": "daily_usage"
         }
        },
        "yaxis": {
         "anchor": "x",
         "domain": [
          0,
          1
         ],
         "title": {
          "text": "addicted_score"
         }
        }
       }
      }
     },
     "metadata": {},
     "output_type": "display_data"
    },
    {
     "name": "stdout",
     "output_type": "stream",
     "text": [
      "Correlación:  0.83\n"
     ]
    }
   ],
   "source": [
    "## dispersión de uso diario y puntaje de adicción\n",
    "fig = px.scatter(df, x=\"daily_usage\", y='addicted_score', color='performance', title='Relación entre uso diario y puntaje de adicción')\n",
    "\n",
    "fig.show()\n",
    "\n",
    "## Correlación\n",
    "print('Correlación: ', round(df['daily_usage'].corr(df['addicted_score']), 2) )"
   ]
  },
  {
   "cell_type": "markdown",
   "id": "3d9a7d53",
   "metadata": {},
   "source": [
    "- Existe una clara correlación entre el uso promedio diario de los estudiantes y el puntaje de adicción que se auto asignan.\n",
    "\n",
    "- Como existe una correlación, aunque baja, entre la edad y uso de plataformas, es de esperarse que exista una correlación entre edad y en nivel de adicción. Esto es, a mayor edad, los estudiantes se perciben menos enganchados a redes sociales. Sin embargo, no es una correlación particularmente alta. Esto se debe a que no cambia mucho el uso diario entre edades.\n",
    "\n",
    "- Los usuarios que perciben que el uso de redes sociales no ha afectado su desempeño escolar son aquellos que dedican menos horas a las mismas. Aquellos que perciben que han afectado su desempeño, son aquellos que dedican mucho mas horas."
   ]
  },
  {
   "cell_type": "code",
   "execution_count": 11,
   "id": "672fab60",
   "metadata": {},
   "outputs": [
    {
     "data": {
      "application/vnd.plotly.v1+json": {
       "config": {
        "plotlyServerURL": "https://plot.ly"
       },
       "data": [
        {
         "hovertemplate": "platform=instagram<br>daily_usage=%{x}<br>spleep_hours=%{y}<extra></extra>",
         "legendgroup": "instagram",
         "marker": {
          "color": "#636efa",
          "symbol": "circle"
         },
         "mode": "markers",
         "name": "instagram",
         "orientation": "v",
         "showlegend": true,
         "type": "scatter",
         "x": {
          "bdata": "zczMzMzMFEDNzMzMzMwcQGZmZmZmZgpAAAAAAAAAGkAAAAAAAAAUQJqZmZmZmRNAZmZmZmZmGECamZmZmZkXQM3MzMzMzBJAzczMzMzMGEAzMzMzMzMXQDMzMzMzMxNAMzMzMzMzGUDNzMzMzMwWQGZmZmZmZhJAZmZmZmZmFkAzMzMzMzMTQAAAAAAAABJAMzMzMzMzF0CamZmZmZkXQAAAAAAAABJAMzMzMzMzF0AAAAAAAAAWQGZmZmZmZhJAZmZmZmZmFkCamZmZmZkTQGZmZmZmZhhAAAAAAAAAFkAzMzMzMzMTQM3MzMzMzBZAmpmZmZmZFUBmZmZmZmYSQDMzMzMzMxdAzczMzMzMFECamZmZmZkRQGZmZmZmZhZAAAAAAAAAFEDNzMzMzMwQQJqZmZmZmRVAMzMzMzMzE0AAAAAAAAAQQM3MzMzMzBRAZmZmZmZmEkBmZmZmZmYOQAAAAAAAABRAmpmZmZmZEUDNzMzMzMwMQDMzMzMzMxNAzczMzMzMEEAzMzMzMzMLQGZmZmZmZhJAMzMzMzMzFUDNzMzMzMwSQJqZmZmZmRNAZmZmZmZmEkAzMzMzMzMTQAAAAAAAABJAzczMzMzMEkCamZmZmZkRQGZmZmZmZhJAMzMzMzMzEUAAAAAAAAASQM3MzMzMzBBAmpmZmZmZEUBmZmZmZmYQQDMzMzMzMxFAAAAAAAAAEEDNzMzMzMwQQDMzMzMzMw9AZmZmZmZmEEBmZmZmZmYOQAAAAAAAABpAAAAAAAAAEkAAAAAAAAAWQAAAAAAAABZAAAAAAAAAEEAzMzMzMzMbQGZmZmZmZhJAmpmZmZmZFUDNzMzMzMwWQDMzMzMzMw9AzczMzMzMGkCamZmZmZkRQDMzMzMzMxVAMzMzMzMzFUBmZmZmZmYOQJqZmZmZmRlAAAAAAAAAEkCamZmZmZkVQGZmZmZmZhRAzczMzMzMDEDNzMzMzMwaQDMzMzMzMxFAzczMzMzMFECamZmZmZkTQDMzMzMzMwtAmpmZmZmZG0BmZmZmZmYQQAAAAAAAABRAzczMzMzMEkCamZmZmZkJQGZmZmZmZhxAMzMzMzMzD0DNzMzMzMwUQAAAAAAAABRAAAAAAAAAEEAAAAAAAAAWQAAAAAAAABJAMzMzMzMzFUAzMzMzMzMTQGZmZmZmZg5AmpmZmZmZG0CamZmZmZkRQAAAAAAAABRAmpmZmZmZDUAzMzMzMzMVQDMzMzMzMxFAZmZmZmZmFEBmZmZmZmYSQM3MzMzMzAxAZmZmZmZmHEDNzMzMzMwQQDMzMzMzMxNAAAAAAAAADEBmZmZmZmYUQGZmZmZmZhBAmpmZmZmZE0CamZmZmZkRQDMzMzMzMwtAMzMzMzMzHUAAAAAAAAAQQGZmZmZmZhJAZmZmZmZmCkCamZmZmZkTQDMzMzMzMw9AzczMzMzMEkDNzMzMzMwQQJqZmZmZmQlAAAAAAAAAHkBmZmZmZmYOQJqZmZmZmRFAzczMzMzMCEDNzMzMzMwSQJqZmZmZmQ1AAAAAAAAAEkAAAAAAAAAQQAAAAAAAAAhAzczMzMzMHkDNzMzMzMwMQM3MzMzMzBBAMzMzMzMzB0AAAAAAAAASQAAAAAAAAAxAMzMzMzMzEUBmZmZmZmYOQGZmZmZmZgZAmpmZmZmZH0AzMzMzMzMLQAAAAAAAABBAmpmZmZmZBUAzMzMzMzMRQGZmZmZmZgpAZmZmZmZmEEDNzMzMzMwMQM3MzMzMzARAMzMzMzMzIECamZmZmZkJQGZmZmZmZg5AAAAAAAAABEBmZmZmZmYQQM3MzMzMzAhAMzMzMzMzD0AzMzMzMzMLQDMzMzMzMwNAmpmZmZmZIEAAAAAAAAAIQM3MzMzMzAxAZmZmZmZmAkAzMzMzMzMPQDMzMzMzMwdAmpmZmZmZDUCamZmZmZkJQJqZmZmZmQFAAAAAAAAAIUBmZmZmZmYGQGZmZmZmZg5AzczMzMzMEkAAAAAAAAAaQDMzMzMzMxNAZmZmZmZmGEBmZmZmZmYSQGZmZmZmZhpAzczMzMzMDEDNzMzMzMwaQGZmZmZmZhJAAAAAAAAADEAzMzMzMzMbQDMzMzMzMwtAMzMzMzMzEUCamZmZmZkbQJqZmZmZmRFAZmZmZmZmCkAAAAAAAAAcQJqZmZmZmQlAZmZmZmZmEEBmZmZmZmYcQM3MzMzMzBBAZmZmZmZmGEDNzMzMzMwQQJqZmZmZmRdAzczMzMzMFEDNzMzMzMwaQGZmZmZmZhBAmpmZmZmZEUAAAAAAAAAcQGZmZmZmZhZAMzMzMzMzF0DNzMzMzMwaQM3MzMzMzBhAzczMzMzMEkCamZmZmZkRQJqZmZmZmRVAzczMzMzMFkAzMzMzMzMbQJqZmZmZmRFAMzMzMzMzF0DNzMzMzMwaQM3MzMzMzBJAmpmZmZmZG0AzMzMzMzMRQJqZmZmZmRdAMzMzMzMzG0AzMzMzMzMTQDMzMzMzMxtAmpmZmZmZEUAzMzMzMzMXQM3MzMzMzBpAZmZmZmZmFkCamZmZmZkbQDMzMzMzMxFAmpmZmZmZF0AzMzMzMzMbQM3MzMzMzBJAzczMzMzMGkCamZmZmZkRQJqZmZmZmRdAZmZmZmZmGkDNzMzMzMwWQDMzMzMzMxtA",
          "dtype": "f8"
         },
         "xaxis": "x",
         "y": {
          "bdata": "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",
          "dtype": "f8"
         },
         "yaxis": "y"
        },
        {
         "hovertemplate": "platform=twitter<br>daily_usage=%{x}<br>spleep_hours=%{y}<extra></extra>",
         "legendgroup": "twitter",
         "marker": {
          "color": "#EF553B",
          "symbol": "circle"
         },
         "mode": "markers",
         "name": "twitter",
         "orientation": "v",
         "showlegend": true,
         "type": "scatter",
         "x": {
          "bdata": "zczMzMzMAEBmZmZmZmYOQM3MzMzMzBJAAAAAAAAAEkDNzMzMzMwWQGZmZmZmZhRAMzMzMzMzEUCamZmZmZkXQDMzMzMzMxNAzczMzMzMEEBmZmZmZmYSQAAAAAAAABZAMzMzMzMzE0CamZmZmZkRQAAAAAAAABJAMzMzMzMzFUDNzMzMzMwYQDMzMzMzMxFAZmZmZmZmEkCamZmZmZkVQDMzMzMzMxlAmpmZmZmZEUAAAAAAAAASQDMzMzMzMxVAZmZmZmZmGEDNzMzMzMwQQGZmZmZmZhJAAAAAAAAAFkDNzMzMzMwYQDMzMzMzMxFA",
          "dtype": "f8"
         },
         "xaxis": "x",
         "y": {
          "bdata": "AAAAAAAAHkAzMzMzMzMfQJqZmZmZmR1AZmZmZmZmHkAzMzMzMzMbQGZmZmZmZhxAZmZmZmZmHkBmZmZmZmYaQDMzMzMzMx1AAAAAAAAAHkAzMzMzMzMdQDMzMzMzMxtAZmZmZmZmHECamZmZmZkdQDMzMzMzMx1AMzMzMzMzG0AzMzMzMzMZQAAAAAAAAB5AMzMzMzMzHUAzMzMzMzMbQM3MzMzMzBhAmpmZmZmZHUAzMzMzMzMdQDMzMzMzMxtAmpmZmZmZGUAAAAAAAAAeQDMzMzMzMx1AzczMzMzMGkAzMzMzMzMZQAAAAAAAAB5A",
          "dtype": "f8"
         },
         "yaxis": "y"
        },
        {
         "hovertemplate": "platform=tiktok<br>daily_usage=%{x}<br>spleep_hours=%{y}<extra></extra>",
         "legendgroup": "tiktok",
         "marker": {
          "color": "#00cc96",
          "symbol": "circle"
         },
         "mode": "markers",
         "name": "tiktok",
         "orientation": "v",
         "showlegend": true,
         "type": "scatter",
         "x": {
          "bdata": "AAAAAAAAGEAAAAAAAAAQQAAAAAAAABZAzczMzMzMEEAzMzMzMzMVQM3MzMzMzBZAmpmZmZmZEUCamZmZmZkVQGZmZmZmZhZAAAAAAAAAEkAAAAAAAAAWQAAAAAAAABZAzczMzMzMEkBmZmZmZmYWQJqZmZmZmRVAzczMzMzMEEDNzMzMzMwWQJqZmZmZmRNAAAAAAAAAFkAzMzMzMzMTQDMzMzMzMxVAzczMzMzMEkCamZmZmZkTQJqZmZmZmRVAMzMzMzMzE0AzMzMzMzMXQM3MzMzMzBRAzczMzMzMEkAzMzMzMzMVQM3MzMzMzBZAMzMzMzMzEUCamZmZmZkTQDMzMzMzMxVAMzMzMzMzD0AAAAAAAAASQJqZmZmZmRNAAAAAAAAADEBmZmZmZmYQQAAAAAAAABZAmpmZmZmZFUBmZmZmZmYWQDMzMzMzMxVAzczMzMzMFkDNzMzMzMwUQDMzMzMzMxdAZmZmZmZmFECamZmZmZkXQAAAAAAAABRAAAAAAAAAGECamZmZmZkTQGZmZmZmZhhAMzMzMzMzE0DNzMzMzMwYQM3MzMzMzBJAMzMzMzMzGUBmZmZmZmYSQJqZmZmZmRlAAAAAAAAAEkAzMzMzMzMXQAAAAAAAABxAzczMzMzMFkCamZmZmZkbQGZmZmZmZhZAZmZmZmZmGkDNzMzMzMwUQGZmZmZmZhpAMzMzMzMzFUAzMzMzMzMbQGZmZmZmZhRAAAAAAAAAHECamZmZmZkTQDMzMzMzMxtAZmZmZmZmFECamZmZmZkVQM3MzMzMzBRAzczMzMzMEkAAAAAAAAAcQJqZmZmZmRNAzczMzMzMFEAAAAAAAAAUQAAAAAAAABJAzczMzMzMHEDNzMzMzMwSQAAAAAAAABRAMzMzMzMzE0AzMzMzMzMRQJqZmZmZmR1AAAAAAAAAEkAzMzMzMzMTQGZmZmZmZhJAZmZmZmZmEEBmZmZmZmYeQDMzMzMzMxFAZmZmZmZmEkCamZmZmZkRQDMzMzMzMw9AMzMzMzMzH0BmZmZmZmYQQJqZmZmZmRFAzczMzMzMEECamZmZmZkNQAAAAAAAACBAMzMzMzMzD0DNzMzMzMwQQAAAAAAAABBAAAAAAAAADEBmZmZmZmYgQJqZmZmZmQ1AAAAAAAAAEEBmZmZmZmYOQGZmZmZmZgpAzczMzMzMIEAAAAAAAAAMQGZmZmZmZg5AzczMzMzMDEBmZmZmZmYUQJqZmZmZmQ1AzczMzMzMFEDNzMzMzMwSQDMzMzMzMxVAmpmZmZmZF0CamZmZmZkVQAAAAAAAABJAAAAAAAAAFkDNzMzMzMwWQGZmZmZmZhZAMzMzMzMzEUDNzMzMzMwWQAAAAAAAABZAMzMzMzMzG0AzMzMzMzMZQGZmZmZmZhpAmpmZmZmZG0CamZmZmZkTQDMzMzMzMxlAZmZmZmZmGkBmZmZmZmYYQDMzMzMzMxlAAAAAAAAAHEBmZmZmZmYWQGZmZmZmZhhAzczMzMzMHEDNzMzMzMwWQM3MzMzMzBhAZmZmZmZmHECamZmZmZkZQDMzMzMzMxNAmpmZmZmZGUBmZmZmZmYSQDMzMzMzMxdAMzMzMzMzGUAAAAAAAAAcQDMzMzMzMxlAzczMzMzMEkA=",
          "dtype": "f8"
         },
         "xaxis": "x",
         "y": {
          "bdata": "AAAAAAAAFEAAAAAAAAAaQDMzMzMzMxdAAAAAAAAAGEAAAAAAAAAWQJqZmZmZmRVAmpmZmZmZF0CamZmZmZkVQAAAAAAAABZAMzMzMzMzF0AzMzMzMzMVQGZmZmZmZhZAMzMzMzMzF0DNzMzMzMwUQM3MzMzMzBZAAAAAAAAAGECamZmZmZkVQM3MzMzMzBZAmpmZmZmZFUDNzMzMzMwWQAAAAAAAABZAMzMzMzMzF0DNzMzMzMwWQAAAAAAAABZAzczMzMzMFkCamZmZmZkXQDMzMzMzMxlAMzMzMzMzHUAzMzMzMzMZQM3MzMzMzBZAzczMzMzMHkDNzMzMzMwaQDMzMzMzMxVAMzMzMzMzIEBmZmZmZmYcQJqZmZmZmRNAAAAAAAAAIUAAAAAAAAAeQJqZmZmZmRdAAAAAAAAAGEAzMzMzMzMXQM3MzMzMzBZAZmZmZmZmFkAAAAAAAAAWQJqZmZmZmRVAMzMzMzMzFUDNzMzMzMwUQGZmZmZmZhRAAAAAAAAAFECamZmZmZkTQDMzMzMzMxNAzczMzMzMEkBmZmZmZmYSQAAAAAAAABJAmpmZmZmZEUAzMzMzMzMRQM3MzMzMzBBAZmZmZmZmEEAAAAAAAAAaQDMzMzMzMxdAAAAAAAAAGkDNzMzMzMwWQGZmZmZmZhpAZmZmZmZmFkCamZmZmZkbQAAAAAAAABZAMzMzMzMzG0AzMzMzMzMVQAAAAAAAABxAZmZmZmZmFEDNzMzMzMwcQAAAAAAAABZAzczMzMzMGkAzMzMzMzMbQAAAAAAAABxAzczMzMzMHEAzMzMzMzMVQAAAAAAAABxAAAAAAAAAHEDNzMzMzMwcQJqZmZmZmR1AZmZmZmZmFEDNzMzMzMwcQM3MzMzMzBxAmpmZmZmZHUBmZmZmZmYeQJqZmZmZmRNAmpmZmZmZHUCamZmZmZkdQGZmZmZmZh5AMzMzMzMzH0DNzMzMzMwSQGZmZmZmZh5AZmZmZmZmHkAzMzMzMzMfQAAAAAAAACBAAAAAAAAAEkAzMzMzMzMfQDMzMzMzMx9AAAAAAAAAIEBmZmZmZmYgQDMzMzMzMxFAAAAAAAAAIEAAAAAAAAAgQGZmZmZmZiBAzczMzMzMIEBmZmZmZmYQQGZmZmZmZiBAZmZmZmZmIEDNzMzMzMwgQDMzMzMzMyFAMzMzMzMzD0DNzMzMzMwgQM3MzMzMzCBAMzMzMzMzIUAAAAAAAAAcQJqZmZmZmSBAmpmZmZmZG0AAAAAAAAAeQDMzMzMzMxtAZmZmZmZmGkDNzMzMzMwaQM3MzMzMzB5AZmZmZmZmGkAzMzMzMzMbQAAAAAAAABpAmpmZmZmZH0CamZmZmZkZQDMzMzMzMxtAzczMzMzMGECamZmZmZkZQM3MzMzMzBhAZmZmZmZmGEAzMzMzMzMdQDMzMzMzMxlAzczMzMzMGECamZmZmZkZQDMzMzMzMxlAMzMzMzMzF0DNzMzMzMwaQJqZmZmZmRlAzczMzMzMFkBmZmZmZmYaQDMzMzMzMxlAMzMzMzMzF0DNzMzMzMwYQGZmZmZmZhxAzczMzMzMGEDNzMzMzMwcQGZmZmZmZhpAzczMzMzMGEAzMzMzMzMXQM3MzMzMzBhAzczMzMzMHEA=",
          "dtype": "f8"
         },
         "yaxis": "y"
        },
        {
         "hovertemplate": "platform=facebook<br>daily_usage=%{x}<br>spleep_hours=%{y}<extra></extra>",
         "legendgroup": "facebook",
         "marker": {
          "color": "#ab63fa",
          "symbol": "circle"
         },
         "mode": "markers",
         "name": "facebook",
         "orientation": "v",
         "showlegend": true,
         "type": "scatter",
         "x": {
          "bdata": "AAAAAAAAEkAAAAAAAAAMQJqZmZmZmQlAzczMzMzMDEDNzMzMzMwIQJqZmZmZmQ1AZmZmZmZmCkDNzMzMzMwMQM3MzMzMzAhAmpmZmZmZCUAzMzMzMzMHQGZmZmZmZg5AMzMzMzMzB0DNzMzMzMwSQJqZmZmZmRNAAAAAAAAAGECamZmZmZkXQAAAAAAAABJAZmZmZmZmFEAAAAAAAAAWQGZmZmZmZhBAzczMzMzMEkBmZmZmZmYUQJqZmZmZmQ1AMzMzMzMzEUDNzMzMzMwSQDMzMzMzMxNAZmZmZmZmFEDNzMzMzMwUQAAAAAAAABRAZmZmZmZmFECamZmZmZkTQAAAAAAAABRAMzMzMzMzE0CamZmZmZkTQM3MzMzMzBJAMzMzMzMzE0BmZmZmZmYSQM3MzMzMzBJAAAAAAAAAEkBmZmZmZmYSQJqZmZmZmRFAAAAAAAAAEkAzMzMzMzMRQJqZmZmZmRFAzczMzMzMEEDNzMzMzMwQQM3MzMzMzBJAZmZmZmZmFkBmZmZmZmYQQDMzMzMzMxNAmpmZmZmZFUAAAAAAAAAQQDMzMzMzMxFAzczMzMzMFECamZmZmZkNQJqZmZmZmRFAAAAAAAAAFEAAAAAAAAAMQM3MzMzMzBBAMzMzMzMzE0BmZmZmZmYKQAAAAAAAABBAZmZmZmZmEkDNzMzMzMwIQGZmZmZmZhBAMzMzMzMzD0BmZmZmZmYOQJqZmZmZmQ1AzczMzMzMDEAAAAAAAAAMQDMzMzMzMwtAZmZmZmZmCkCamZmZmZkJQM3MzMzMzAhAAAAAAAAACEAzMzMzMzMHQGZmZmZmZgZAmpmZmZmZBUDNzMzMzMwEQAAAAAAAAARAMzMzMzMzA0BmZmZmZmYCQM3MzMzMzBBAZmZmZmZmEEAAAAAAAAASQAAAAAAAABBAmpmZmZmZEUAzMzMzMzMPQGZmZmZmZg5AzczMzMzMEECamZmZmZkNQM3MzMzMzAxAzczMzMzMHEAAAAAAAAAaQJqZmZmZmRNAmpmZmZmZGUAzMzMzMzMRQM3MzMzMzBhAmpmZmZmZGUAAAAAAAAASQGZmZmZmZhxAAAAAAAAAGkBmZmZmZmYSQAAAAAAAABpAAAAAAAAAEkCamZmZmZkZQM3MzMzMzBhAmpmZmZmZGUBmZmZmZmYSQDMzMzMzMxlAzczMzMzMEkAAAAAAAAAaQAAAAAAAABJAzczMzMzMEkBmZmZmZmYYQM3MzMzMzBxAzczMzMzMGEAzMzMzMzMTQAAAAAAAABpAAAAAAAAAEkAzMzMzMzMTQM3MzMzMzBhA",
          "dtype": "f8"
         },
         "xaxis": "x",
         "y": {
          "bdata": "AAAAAAAAGEDNzMzMzMwaQJqZmZmZmRtAzczMzMzMGkAzMzMzMzMbQGZmZmZmZhpAzczMzMzMGkAAAAAAAAAaQGZmZmZmZhxAMzMzMzMzG0AAAAAAAAAcQGZmZmZmZhpAAAAAAAAAHEAzMzMzMzMXQGZmZmZmZhxAMzMzMzMzF0CamZmZmZkXQAAAAAAAAB5AAAAAAAAAGkAAAAAAAAAWQJqZmZmZmR9AmpmZmZmZG0BmZmZmZmYUQJqZmZmZmSBAMzMzMzMzHUDNzMzMzMwSQM3MzMzMzBxAAAAAAAAAHEBmZmZmZmYcQDMzMzMzMx1AmpmZmZmZHUAAAAAAAAAeQGZmZmZmZh5AzczMzMzMHkAzMzMzMzMfQJqZmZmZmR9AAAAAAAAAIEAzMzMzMzMgQGZmZmZmZiBAmpmZmZmZIEDNzMzMzMwgQAAAAAAAACFAMzMzMzMzIUBmZmZmZmYhQJqZmZmZmSFAzczMzMzMIUAzMzMzMzMfQJqZmZmZmR1AZmZmZmZmGkDNzMzMzMweQM3MzMzMzBxAAAAAAAAAGkBmZmZmZmYeQAAAAAAAAB5AmpmZmZmZGUAzMzMzMzMfQJqZmZmZmR1AZmZmZmZmGkAAAAAAAAAgQGZmZmZmZh5AMzMzMzMzG0BmZmZmZmYgQDMzMzMzMx9AAAAAAAAAHEDNzMzMzMwgQDMzMzMzMx9AmpmZmZmZH0AAAAAAAAAgQDMzMzMzMyBAZmZmZmZmIECamZmZmZkgQM3MzMzMzCBAAAAAAAAAIUAzMzMzMzMhQGZmZmZmZiFAmpmZmZmZIUDNzMzMzMwhQAAAAAAAACJAMzMzMzMzIkBmZmZmZmYiQJqZmZmZmSJAzczMzMzMIkAAAAAAAAAjQJqZmZmZmR9AAAAAAAAAIEDNzMzMzMweQDMzMzMzMyBAMzMzMzMzH0BmZmZmZmYgQJqZmZmZmSBAAAAAAAAAIEDNzMzMzMwgQAAAAAAAACFAmpmZmZmZF0BmZmZmZmYYQDMzMzMzMx1AMzMzMzMzGUAAAAAAAAAeQDMzMzMzMxlAzczMzMzMGECamZmZmZkdQM3MzMzMzBZAZmZmZmZmGEDNzMzMzMwcQM3MzMzMzBhAMzMzMzMzHUDNzMzMzMwYQDMzMzMzMxlAzczMzMzMGEDNzMzMzMwcQM3MzMzMzBhAzczMzMzMHEBmZmZmZmYYQDMzMzMzMx1AzczMzMzMHECamZmZmZkZQM3MzMzMzBZAMzMzMzMzGUBmZmZmZmYcQGZmZmZmZhhAMzMzMzMzHUBmZmZmZmYcQDMzMzMzMxlA",
          "dtype": "f8"
         },
         "yaxis": "y"
        },
        {
         "hovertemplate": "platform=whatsapp<br>daily_usage=%{x}<br>spleep_hours=%{y}<extra></extra>",
         "legendgroup": "whatsapp",
         "marker": {
          "color": "#FFA15A",
          "symbol": "circle"
         },
         "mode": "markers",
         "name": "whatsapp",
         "orientation": "v",
         "showlegend": true,
         "type": "scatter",
         "x": {
          "bdata": "MzMzMzMzF0BmZmZmZmYWQJqZmZmZmRdAzczMzMzMFkAAAAAAAAAYQDMzMzMzMxdAZmZmZmZmGECamZmZmZkXQM3MzMzMzBhAAAAAAAAAGEAzMzMzMzMZQGZmZmZmZhhAmpmZmZmZGUDNzMzMzMwYQAAAAAAAABpAMzMzMzMzGUBmZmZmZmYaQJqZmZmZmRlAzczMzMzMGkAAAAAAAAAaQDMzMzMzMxtAZmZmZmZmGkCamZmZmZkbQM3MzMzMzBpAAAAAAAAAHEAzMzMzMzMbQGZmZmZmZhxAmpmZmZmZG0DNzMzMzMwcQAAAAAAAABxAMzMzMzMzHUBmZmZmZmYcQJqZmZmZmR1AzczMzMzMHEAAAAAAAAAeQDMzMzMzMx1AzczMzMzMGEAAAAAAAAAWQDMzMzMzMxtAZmZmZmZmFkCamZmZmZkbQAAAAAAAABhAzczMzMzMFkAAAAAAAAAcQDMzMzMzMxdAZmZmZmZmHEAzMzMzMzMXQJqZmZmZmRdAzczMzMzMHEAAAAAAAAAYQDMzMzMzMx1AZmZmZmZmFkBmZmZmZmYYQJqZmZmZmR1A",
          "dtype": "f8"
         },
         "xaxis": "x",
         "y": {
          "bdata": "AAAAAAAAGkBmZmZmZmYaQJqZmZmZmRlAAAAAAAAAGkAzMzMzMzMZQJqZmZmZmRlAzczMzMzMGEAzMzMzMzMZQGZmZmZmZhhAzczMzMzMGEAAAAAAAAAYQGZmZmZmZhhAmpmZmZmZF0AAAAAAAAAYQDMzMzMzMxdAmpmZmZmZF0DNzMzMzMwWQDMzMzMzMxdAZmZmZmZmFkDNzMzMzMwWQAAAAAAAABZAZmZmZmZmFkCamZmZmZkVQAAAAAAAABZAMzMzMzMzFUCamZmZmZkVQM3MzMzMzBRAMzMzMzMzFUBmZmZmZmYUQM3MzMzMzBRAAAAAAAAAFEBmZmZmZmYUQJqZmZmZmRNAAAAAAAAAFEAzMzMzMzMTQJqZmZmZmRNAMzMzMzMzGUAzMzMzMzMbQAAAAAAAABhAzczMzMzMGkCamZmZmZkXQAAAAAAAABpAZmZmZmZmGkAzMzMzMzMXQAAAAAAAABpAzczMzMzMFkDNzMzMzMwaQJqZmZmZmRlAZmZmZmZmFkAzMzMzMzMZQAAAAAAAABZAmpmZmZmZG0DNzMzMzMwYQJqZmZmZmRVA",
          "dtype": "f8"
         },
         "yaxis": "y"
        }
       ],
       "layout": {
        "legend": {
         "title": {
          "text": "platform"
         },
         "tracegroupgap": 0
        },
        "template": {
         "data": {
          "bar": [
           {
            "error_x": {
             "color": "#2a3f5f"
            },
            "error_y": {
             "color": "#2a3f5f"
            },
            "marker": {
             "line": {
              "color": "#E5ECF6",
              "width": 0.5
             },
             "pattern": {
              "fillmode": "overlay",
              "size": 10,
              "solidity": 0.2
             }
            },
            "type": "bar"
           }
          ],
          "barpolar": [
           {
            "marker": {
             "line": {
              "color": "#E5ECF6",
              "width": 0.5
             },
             "pattern": {
              "fillmode": "overlay",
              "size": 10,
              "solidity": 0.2
             }
            },
            "type": "barpolar"
           }
          ],
          "carpet": [
           {
            "aaxis": {
             "endlinecolor": "#2a3f5f",
             "gridcolor": "white",
             "linecolor": "white",
             "minorgridcolor": "white",
             "startlinecolor": "#2a3f5f"
            },
            "baxis": {
             "endlinecolor": "#2a3f5f",
             "gridcolor": "white",
             "linecolor": "white",
             "minorgridcolor": "white",
             "startlinecolor": "#2a3f5f"
            },
            "type": "carpet"
           }
          ],
          "choropleth": [
           {
            "colorbar": {
             "outlinewidth": 0,
             "ticks": ""
            },
            "type": "choropleth"
           }
          ],
          "contour": [
           {
            "colorbar": {
             "outlinewidth": 0,
             "ticks": ""
            },
            "colorscale": [
             [
              0,
              "#0d0887"
             ],
             [
              0.1111111111111111,
              "#46039f"
             ],
             [
              0.2222222222222222,
              "#7201a8"
             ],
             [
              0.3333333333333333,
              "#9c179e"
             ],
             [
              0.4444444444444444,
              "#bd3786"
             ],
             [
              0.5555555555555556,
              "#d8576b"
             ],
             [
              0.6666666666666666,
              "#ed7953"
             ],
             [
              0.7777777777777778,
              "#fb9f3a"
             ],
             [
              0.8888888888888888,
              "#fdca26"
             ],
             [
              1,
              "#f0f921"
             ]
            ],
            "type": "contour"
           }
          ],
          "contourcarpet": [
           {
            "colorbar": {
             "outlinewidth": 0,
             "ticks": ""
            },
            "type": "contourcarpet"
           }
          ],
          "heatmap": [
           {
            "colorbar": {
             "outlinewidth": 0,
             "ticks": ""
            },
            "colorscale": [
             [
              0,
              "#0d0887"
             ],
             [
              0.1111111111111111,
              "#46039f"
             ],
             [
              0.2222222222222222,
              "#7201a8"
             ],
             [
              0.3333333333333333,
              "#9c179e"
             ],
             [
              0.4444444444444444,
              "#bd3786"
             ],
             [
              0.5555555555555556,
              "#d8576b"
             ],
             [
              0.6666666666666666,
              "#ed7953"
             ],
             [
              0.7777777777777778,
              "#fb9f3a"
             ],
             [
              0.8888888888888888,
              "#fdca26"
             ],
             [
              1,
              "#f0f921"
             ]
            ],
            "type": "heatmap"
           }
          ],
          "histogram": [
           {
            "marker": {
             "pattern": {
              "fillmode": "overlay",
              "size": 10,
              "solidity": 0.2
             }
            },
            "type": "histogram"
           }
          ],
          "histogram2d": [
           {
            "colorbar": {
             "outlinewidth": 0,
             "ticks": ""
            },
            "colorscale": [
             [
              0,
              "#0d0887"
             ],
             [
              0.1111111111111111,
              "#46039f"
             ],
             [
              0.2222222222222222,
              "#7201a8"
             ],
             [
              0.3333333333333333,
              "#9c179e"
             ],
             [
              0.4444444444444444,
              "#bd3786"
             ],
             [
              0.5555555555555556,
              "#d8576b"
             ],
             [
              0.6666666666666666,
              "#ed7953"
             ],
             [
              0.7777777777777778,
              "#fb9f3a"
             ],
             [
              0.8888888888888888,
              "#fdca26"
             ],
             [
              1,
              "#f0f921"
             ]
            ],
            "type": "histogram2d"
           }
          ],
          "histogram2dcontour": [
           {
            "colorbar": {
             "outlinewidth": 0,
             "ticks": ""
            },
            "colorscale": [
             [
              0,
              "#0d0887"
             ],
             [
              0.1111111111111111,
              "#46039f"
             ],
             [
              0.2222222222222222,
              "#7201a8"
             ],
             [
              0.3333333333333333,
              "#9c179e"
             ],
             [
              0.4444444444444444,
              "#bd3786"
             ],
             [
              0.5555555555555556,
              "#d8576b"
             ],
             [
              0.6666666666666666,
              "#ed7953"
             ],
             [
              0.7777777777777778,
              "#fb9f3a"
             ],
             [
              0.8888888888888888,
              "#fdca26"
             ],
             [
              1,
              "#f0f921"
             ]
            ],
            "type": "histogram2dcontour"
           }
          ],
          "mesh3d": [
           {
            "colorbar": {
             "outlinewidth": 0,
             "ticks": ""
            },
            "type": "mesh3d"
           }
          ],
          "parcoords": [
           {
            "line": {
             "colorbar": {
              "outlinewidth": 0,
              "ticks": ""
             }
            },
            "type": "parcoords"
           }
          ],
          "pie": [
           {
            "automargin": true,
            "type": "pie"
           }
          ],
          "scatter": [
           {
            "fillpattern": {
             "fillmode": "overlay",
             "size": 10,
             "solidity": 0.2
            },
            "type": "scatter"
           }
          ],
          "scatter3d": [
           {
            "line": {
             "colorbar": {
              "outlinewidth": 0,
              "ticks": ""
             }
            },
            "marker": {
             "colorbar": {
              "outlinewidth": 0,
              "ticks": ""
             }
            },
            "type": "scatter3d"
           }
          ],
          "scattercarpet": [
           {
            "marker": {
             "colorbar": {
              "outlinewidth": 0,
              "ticks": ""
             }
            },
            "type": "scattercarpet"
           }
          ],
          "scattergeo": [
           {
            "marker": {
             "colorbar": {
              "outlinewidth": 0,
              "ticks": ""
             }
            },
            "type": "scattergeo"
           }
          ],
          "scattergl": [
           {
            "marker": {
             "colorbar": {
              "outlinewidth": 0,
              "ticks": ""
             }
            },
            "type": "scattergl"
           }
          ],
          "scattermap": [
           {
            "marker": {
             "colorbar": {
              "outlinewidth": 0,
              "ticks": ""
             }
            },
            "type": "scattermap"
           }
          ],
          "scattermapbox": [
           {
            "marker": {
             "colorbar": {
              "outlinewidth": 0,
              "ticks": ""
             }
            },
            "type": "scattermapbox"
           }
          ],
          "scatterpolar": [
           {
            "marker": {
             "colorbar": {
              "outlinewidth": 0,
              "ticks": ""
             }
            },
            "type": "scatterpolar"
           }
          ],
          "scatterpolargl": [
           {
            "marker": {
             "colorbar": {
              "outlinewidth": 0,
              "ticks": ""
             }
            },
            "type": "scatterpolargl"
           }
          ],
          "scatterternary": [
           {
            "marker": {
             "colorbar": {
              "outlinewidth": 0,
              "ticks": ""
             }
            },
            "type": "scatterternary"
           }
          ],
          "surface": [
           {
            "colorbar": {
             "outlinewidth": 0,
             "ticks": ""
            },
            "colorscale": [
             [
              0,
              "#0d0887"
             ],
             [
              0.1111111111111111,
              "#46039f"
             ],
             [
              0.2222222222222222,
              "#7201a8"
             ],
             [
              0.3333333333333333,
              "#9c179e"
             ],
             [
              0.4444444444444444,
              "#bd3786"
             ],
             [
              0.5555555555555556,
              "#d8576b"
             ],
             [
              0.6666666666666666,
              "#ed7953"
             ],
             [
              0.7777777777777778,
              "#fb9f3a"
             ],
             [
              0.8888888888888888,
              "#fdca26"
             ],
             [
              1,
              "#f0f921"
             ]
            ],
            "type": "surface"
           }
          ],
          "table": [
           {
            "cells": {
             "fill": {
              "color": "#EBF0F8"
             },
             "line": {
              "color": "white"
             }
            },
            "header": {
             "fill": {
              "color": "#C8D4E3"
             },
             "line": {
              "color": "white"
             }
            },
            "type": "table"
           }
          ]
         },
         "layout": {
          "annotationdefaults": {
           "arrowcolor": "#2a3f5f",
           "arrowhead": 0,
           "arrowwidth": 1
          },
          "autotypenumbers": "strict",
          "coloraxis": {
           "colorbar": {
            "outlinewidth": 0,
            "ticks": ""
           }
          },
          "colorscale": {
           "diverging": [
            [
             0,
             "#8e0152"
            ],
            [
             0.1,
             "#c51b7d"
            ],
            [
             0.2,
             "#de77ae"
            ],
            [
             0.3,
             "#f1b6da"
            ],
            [
             0.4,
             "#fde0ef"
            ],
            [
             0.5,
             "#f7f7f7"
            ],
            [
             0.6,
             "#e6f5d0"
            ],
            [
             0.7,
             "#b8e186"
            ],
            [
             0.8,
             "#7fbc41"
            ],
            [
             0.9,
             "#4d9221"
            ],
            [
             1,
             "#276419"
            ]
           ],
           "sequential": [
            [
             0,
             "#0d0887"
            ],
            [
             0.1111111111111111,
             "#46039f"
            ],
            [
             0.2222222222222222,
             "#7201a8"
            ],
            [
             0.3333333333333333,
             "#9c179e"
            ],
            [
             0.4444444444444444,
             "#bd3786"
            ],
            [
             0.5555555555555556,
             "#d8576b"
            ],
            [
             0.6666666666666666,
             "#ed7953"
            ],
            [
             0.7777777777777778,
             "#fb9f3a"
            ],
            [
             0.8888888888888888,
             "#fdca26"
            ],
            [
             1,
             "#f0f921"
            ]
           ],
           "sequentialminus": [
            [
             0,
             "#0d0887"
            ],
            [
             0.1111111111111111,
             "#46039f"
            ],
            [
             0.2222222222222222,
             "#7201a8"
            ],
            [
             0.3333333333333333,
             "#9c179e"
            ],
            [
             0.4444444444444444,
             "#bd3786"
            ],
            [
             0.5555555555555556,
             "#d8576b"
            ],
            [
             0.6666666666666666,
             "#ed7953"
            ],
            [
             0.7777777777777778,
             "#fb9f3a"
            ],
            [
             0.8888888888888888,
             "#fdca26"
            ],
            [
             1,
             "#f0f921"
            ]
           ]
          },
          "colorway": [
           "#636efa",
           "#EF553B",
           "#00cc96",
           "#ab63fa",
           "#FFA15A",
           "#19d3f3",
           "#FF6692",
           "#B6E880",
           "#FF97FF",
           "#FECB52"
          ],
          "font": {
           "color": "#2a3f5f"
          },
          "geo": {
           "bgcolor": "white",
           "lakecolor": "white",
           "landcolor": "#E5ECF6",
           "showlakes": true,
           "showland": true,
           "subunitcolor": "white"
          },
          "hoverlabel": {
           "align": "left"
          },
          "hovermode": "closest",
          "mapbox": {
           "style": "light"
          },
          "paper_bgcolor": "white",
          "plot_bgcolor": "#E5ECF6",
          "polar": {
           "angularaxis": {
            "gridcolor": "white",
            "linecolor": "white",
            "ticks": ""
           },
           "bgcolor": "#E5ECF6",
           "radialaxis": {
            "gridcolor": "white",
            "linecolor": "white",
            "ticks": ""
           }
          },
          "scene": {
           "xaxis": {
            "backgroundcolor": "#E5ECF6",
            "gridcolor": "white",
            "gridwidth": 2,
            "linecolor": "white",
            "showbackground": true,
            "ticks": "",
            "zerolinecolor": "white"
           },
           "yaxis": {
            "backgroundcolor": "#E5ECF6",
            "gridcolor": "white",
            "gridwidth": 2,
            "linecolor": "white",
            "showbackground": true,
            "ticks": "",
            "zerolinecolor": "white"
           },
           "zaxis": {
            "backgroundcolor": "#E5ECF6",
            "gridcolor": "white",
            "gridwidth": 2,
            "linecolor": "white",
            "showbackground": true,
            "ticks": "",
            "zerolinecolor": "white"
           }
          },
          "shapedefaults": {
           "line": {
            "color": "#2a3f5f"
           }
          },
          "ternary": {
           "aaxis": {
            "gridcolor": "white",
            "linecolor": "white",
            "ticks": ""
           },
           "baxis": {
            "gridcolor": "white",
            "linecolor": "white",
            "ticks": ""
           },
           "bgcolor": "#E5ECF6",
           "caxis": {
            "gridcolor": "white",
            "linecolor": "white",
            "ticks": ""
           }
          },
          "title": {
           "x": 0.05
          },
          "xaxis": {
           "automargin": true,
           "gridcolor": "white",
           "linecolor": "white",
           "ticks": "",
           "title": {
            "standoff": 15
           },
           "zerolinecolor": "white",
           "zerolinewidth": 2
          },
          "yaxis": {
           "automargin": true,
           "gridcolor": "white",
           "linecolor": "white",
           "ticks": "",
           "title": {
            "standoff": 15
           },
           "zerolinecolor": "white",
           "zerolinewidth": 2
          }
         }
        },
        "title": {
         "text": "Relación entre uso diario y horas de sueño por plataforma"
        },
        "xaxis": {
         "anchor": "y",
         "domain": [
          0,
          1
         ],
         "title": {
          "text": "daily_usage"
         }
        },
        "yaxis": {
         "anchor": "x",
         "domain": [
          0,
          1
         ],
         "title": {
          "text": "spleep_hours"
         }
        }
       }
      }
     },
     "metadata": {},
     "output_type": "display_data"
    },
    {
     "name": "stdout",
     "output_type": "stream",
     "text": [
      "Correlación:  -0.79\n"
     ]
    }
   ],
   "source": [
    "## dispersión de uso diario y horas de sueño por plataforma\n",
    "fig = px.scatter(df[ df['platform'].isin(top_platform.index) ], x=\"daily_usage\", y='spleep_hours', color='platform', title='Relación entre uso diario y horas de sueño por plataforma')\n",
    "\n",
    "fig.show()\n",
    "\n",
    "## Correlación\n",
    "print('Correlación: ', round(df['daily_usage'].corr(df['spleep_hours']), 2) )"
   ]
  },
  {
   "cell_type": "markdown",
   "id": "349cfe46",
   "metadata": {},
   "source": [
    "- El uso de plataformas implica destinar tiempo a dicha actividad. Como incrementan el tiempo invertido en redes sociales, es de esperarse que afecte el tiempo dedicado a otras áreas. En este caso, se aprecia una fuerte correlación negativa entre el uso diario y las horas de sueño."
   ]
  },
  {
   "cell_type": "code",
   "execution_count": 12,
   "id": "4f9313da",
   "metadata": {},
   "outputs": [
    {
     "name": "stdout",
     "output_type": "stream",
     "text": [
      "Promedio de puntuación de salud mental por plataforma\n",
      "platform\n",
      "twitter      6.833333\n",
      "facebook     6.715447\n",
      "instagram    6.124498\n",
      "tiktok       5.714286\n",
      "whatsapp     5.537037\n",
      "Name: mental_health, dtype: float64\n"
     ]
    },
    {
     "data": {
      "application/vnd.plotly.v1+json": {
       "config": {
        "plotlyServerURL": "https://plot.ly"
       },
       "data": [
        {
         "hovertemplate": "platform=instagram<br>daily_usage=%{x}<br>mental_health=%{y}<extra></extra>",
         "legendgroup": "instagram",
         "marker": {
          "color": "#636efa",
          "symbol": "circle"
         },
         "mode": "markers",
         "name": "instagram",
         "orientation": "v",
         "showlegend": true,
         "type": "scatter",
         "x": {
          "bdata": "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",
          "dtype": "f8"
         },
         "xaxis": "x",
         "y": {
          "bdata": "BgQHBQUGBQUGBQUGBQUGBQYGBQUGBQUGBQYFBQgGBQgGBQgGBQgGBQgGBQgGBQgGBQgGBQUFBQUFBQUFBQUFBQUFBQUFBQUFCAYGCAQHBQYIBAcFBggEBwUGCAQHBQYIBAcFBggEBwYHCAYHBgcIBQcGCAYHBgcIBQcGCAYHBgcIBQcGCAYHBgcIBQcGCAYHBgcIBQcGCAYHBgcIBQcGCAYHBgcIBQcGCAYHBgcIBQcGCAYHBgcIBQcIBwUHBgcFCAUHCAUIBwUHCAUIBwUHBQcGBgUHBwQGBgQFBwcGBgQHBgUHBAcGBQcEBwYFBgQHBgUHBAcGBQYE",
          "dtype": "i1"
         },
         "yaxis": "y"
        },
        {
         "hovertemplate": "platform=twitter<br>daily_usage=%{x}<br>mental_health=%{y}<extra></extra>",
         "legendgroup": "twitter",
         "marker": {
          "color": "#EF553B",
          "symbol": "circle"
         },
         "mode": "markers",
         "name": "twitter",
         "orientation": "v",
         "showlegend": true,
         "type": "scatter",
         "x": {
          "bdata": "zczMzMzMAEBmZmZmZmYOQM3MzMzMzBJAAAAAAAAAEkDNzMzMzMwWQGZmZmZmZhRAMzMzMzMzEUCamZmZmZkXQDMzMzMzMxNAzczMzMzMEEBmZmZmZmYSQAAAAAAAABZAMzMzMzMzE0CamZmZmZkRQAAAAAAAABJAMzMzMzMzFUDNzMzMzMwYQDMzMzMzMxFAZmZmZmZmEkCamZmZmZkVQDMzMzMzMxlAmpmZmZmZEUAAAAAAAAASQDMzMzMzMxVAZmZmZmZmGEDNzMzMzMwQQGZmZmZmZhJAAAAAAAAAFkDNzMzMzMwYQDMzMzMzMxFA",
          "dtype": "f8"
         },
         "xaxis": "x",
         "y": {
          "bdata": "CAgHCAYHCAYHCAcGBwgHBgUIBwYFCAcGBQgHBgUI",
          "dtype": "i1"
         },
         "yaxis": "y"
        },
        {
         "hovertemplate": "platform=tiktok<br>daily_usage=%{x}<br>mental_health=%{y}<extra></extra>",
         "legendgroup": "tiktok",
         "marker": {
          "color": "#00cc96",
          "symbol": "circle"
         },
         "mode": "markers",
         "name": "tiktok",
         "orientation": "v",
         "showlegend": true,
         "type": "scatter",
         "x": {
          "bdata": "AAAAAAAAGEAAAAAAAAAQQAAAAAAAABZAzczMzMzMEEAzMzMzMzMVQM3MzMzMzBZAmpmZmZmZEUCamZmZmZkVQGZmZmZmZhZAAAAAAAAAEkAAAAAAAAAWQAAAAAAAABZAzczMzMzMEkBmZmZmZmYWQJqZmZmZmRVAzczMzMzMEEDNzMzMzMwWQJqZmZmZmRNAAAAAAAAAFkAzMzMzMzMTQDMzMzMzMxVAzczMzMzMEkCamZmZmZkTQJqZmZmZmRVAMzMzMzMzE0AzMzMzMzMXQM3MzMzMzBRAzczMzMzMEkAzMzMzMzMVQM3MzMzMzBZAMzMzMzMzEUCamZmZmZkTQDMzMzMzMxVAMzMzMzMzD0AAAAAAAAASQJqZmZmZmRNAAAAAAAAADEBmZmZmZmYQQAAAAAAAABZAmpmZmZmZFUBmZmZmZmYWQDMzMzMzMxVAzczMzMzMFkDNzMzMzMwUQDMzMzMzMxdAZmZmZmZmFECamZmZmZkXQAAAAAAAABRAAAAAAAAAGECamZmZmZkTQGZmZmZmZhhAMzMzMzMzE0DNzMzMzMwYQM3MzMzMzBJAMzMzMzMzGUBmZmZmZmYSQJqZmZmZmRlAAAAAAAAAEkAzMzMzMzMXQAAAAAAAABxAzczMzMzMFkCamZmZmZkbQGZmZmZmZhZAZmZmZmZmGkDNzMzMzMwUQGZmZmZmZhpAMzMzMzMzFUAzMzMzMzMbQGZmZmZmZhRAAAAAAAAAHECamZmZmZkTQDMzMzMzMxtAZmZmZmZmFECamZmZmZkVQM3MzMzMzBRAzczMzMzMEkAAAAAAAAAcQJqZmZmZmRNAzczMzMzMFEAAAAAAAAAUQAAAAAAAABJAzczMzMzMHEDNzMzMzMwSQAAAAAAAABRAMzMzMzMzE0AzMzMzMzMRQJqZmZmZmR1AAAAAAAAAEkAzMzMzMzMTQGZmZmZmZhJAZmZmZmZmEEBmZmZmZmYeQDMzMzMzMxFAZmZmZmZmEkCamZmZmZkRQDMzMzMzMw9AMzMzMzMzH0BmZmZmZmYQQJqZmZmZmRFAzczMzMzMEECamZmZmZkNQAAAAAAAACBAMzMzMzMzD0DNzMzMzMwQQAAAAAAAABBAAAAAAAAADEBmZmZmZmYgQJqZmZmZmQ1AAAAAAAAAEEBmZmZmZmYOQGZmZmZmZgpAzczMzMzMIEAAAAAAAAAMQGZmZmZmZg5AzczMzMzMDEBmZmZmZmYUQJqZmZmZmQ1AzczMzMzMFEDNzMzMzMwSQDMzMzMzMxVAmpmZmZmZF0CamZmZmZkVQAAAAAAAABJAAAAAAAAAFkDNzMzMzMwWQGZmZmZmZhZAMzMzMzMzEUDNzMzMzMwWQAAAAAAAABZAMzMzMzMzG0AzMzMzMzMZQGZmZmZmZhpAmpmZmZmZG0CamZmZmZkTQDMzMzMzMxlAZmZmZmZmGkBmZmZmZmYYQDMzMzMzMxlAAAAAAAAAHEBmZmZmZmYWQGZmZmZmZhhAzczMzMzMHEDNzMzMzMwWQM3MzMzMzBhAZmZmZmZmHECamZmZmZkZQDMzMzMzMxNAmpmZmZmZGUBmZmZmZmYSQDMzMzMzMxdAMzMzMzMzGUAAAAAAAAAcQDMzMzMzMxlAzczMzMzMEkA=",
          "dtype": "f8"
         },
         "xaxis": "x",
         "y": {
          "bdata": "BQcGBgUFBgUFBgUFBgUFBgUGBQYFBgYFBgYGBwUGBwUGBwUGBwUGBgYGBgYGBgYGBgYGBgYGBgYGBgYEBQQFBAUEBQQFBAUFBgYGBwUGBgYHBQYGBgcFBgYGBwUGBgYHBQYGBgcFBgYGBwUGBgYHBQYGBgYIBgcGBgYHBgYGBwYGBQUFBQcFBQUFBAYFBAYFBAUHBQcGBQQFBw==",
          "dtype": "i1"
         },
         "yaxis": "y"
        },
        {
         "hovertemplate": "platform=facebook<br>daily_usage=%{x}<br>mental_health=%{y}<extra></extra>",
         "legendgroup": "facebook",
         "marker": {
          "color": "#ab63fa",
          "symbol": "circle"
         },
         "mode": "markers",
         "name": "facebook",
         "orientation": "v",
         "showlegend": true,
         "type": "scatter",
         "x": {
          "bdata": "AAAAAAAAEkAAAAAAAAAMQJqZmZmZmQlAzczMzMzMDEDNzMzMzMwIQJqZmZmZmQ1AZmZmZmZmCkDNzMzMzMwMQM3MzMzMzAhAmpmZmZmZCUAzMzMzMzMHQGZmZmZmZg5AMzMzMzMzB0DNzMzMzMwSQJqZmZmZmRNAAAAAAAAAGECamZmZmZkXQAAAAAAAABJAZmZmZmZmFEAAAAAAAAAWQGZmZmZmZhBAzczMzMzMEkBmZmZmZmYUQJqZmZmZmQ1AMzMzMzMzEUDNzMzMzMwSQDMzMzMzMxNAZmZmZmZmFEDNzMzMzMwUQAAAAAAAABRAZmZmZmZmFECamZmZmZkTQAAAAAAAABRAMzMzMzMzE0CamZmZmZkTQM3MzMzMzBJAMzMzMzMzE0BmZmZmZmYSQM3MzMzMzBJAAAAAAAAAEkBmZmZmZmYSQJqZmZmZmRFAAAAAAAAAEkAzMzMzMzMRQJqZmZmZmRFAzczMzMzMEEDNzMzMzMwQQM3MzMzMzBJAZmZmZmZmFkBmZmZmZmYQQDMzMzMzMxNAmpmZmZmZFUAAAAAAAAAQQDMzMzMzMxFAzczMzMzMFECamZmZmZkNQJqZmZmZmRFAAAAAAAAAFEAAAAAAAAAMQM3MzMzMzBBAMzMzMzMzE0BmZmZmZmYKQAAAAAAAABBAZmZmZmZmEkDNzMzMzMwIQGZmZmZmZhBAMzMzMzMzD0BmZmZmZmYOQJqZmZmZmQ1AzczMzMzMDEAAAAAAAAAMQDMzMzMzMwtAZmZmZmZmCkCamZmZmZkJQM3MzMzMzAhAAAAAAAAACEAzMzMzMzMHQGZmZmZmZgZAmpmZmZmZBUDNzMzMzMwEQAAAAAAAAARAMzMzMzMzA0BmZmZmZmYCQM3MzMzMzBBAZmZmZmZmEEAAAAAAAAASQAAAAAAAABBAmpmZmZmZEUAzMzMzMzMPQGZmZmZmZg5AzczMzMzMEECamZmZmZkNQM3MzMzMzAxAzczMzMzMHEAAAAAAAAAaQJqZmZmZmRNAmpmZmZmZGUAzMzMzMzMRQM3MzMzMzBhAmpmZmZmZGUAAAAAAAAASQGZmZmZmZhxAAAAAAAAAGkBmZmZmZmYSQAAAAAAAABpAAAAAAAAAEkCamZmZmZkZQM3MzMzMzBhAmpmZmZmZGUBmZmZmZmYSQDMzMzMzMxlAzczMzMzMEkAAAAAAAAAaQAAAAAAAABJAzczMzMzMEkBmZmZmZmYYQM3MzMzMzBxAzczMzMzMGEAzMzMzMzMTQAAAAAAAABpAAAAAAAAAEkAzMzMzMzMTQM3MzMzMzBhA",
          "dtype": "f8"
         },
         "xaxis": "x",
         "y": {
          "bdata": "BgcHBwcHBwcHBwcHBwYHBQYHBQYHBQYHBQYHBwcHBwcHBwcHBwcHBwcHBwcHBwcHBggHBggHBggHBggHBggHBggICAgICAgICAgICAgICAgICAgHBwcHBwcHBwcHBAUHBQcFBQcEBQcFBwUFBQcFBwUHBwUEBQcFBwcF",
          "dtype": "i1"
         },
         "yaxis": "y"
        },
        {
         "hovertemplate": "platform=whatsapp<br>daily_usage=%{x}<br>mental_health=%{y}<extra></extra>",
         "legendgroup": "whatsapp",
         "marker": {
          "color": "#FFA15A",
          "symbol": "circle"
         },
         "mode": "markers",
         "name": "whatsapp",
         "orientation": "v",
         "showlegend": true,
         "type": "scatter",
         "x": {
          "bdata": "MzMzMzMzF0BmZmZmZmYWQJqZmZmZmRdAzczMzMzMFkAAAAAAAAAYQDMzMzMzMxdAZmZmZmZmGECamZmZmZkXQM3MzMzMzBhAAAAAAAAAGEAzMzMzMzMZQGZmZmZmZhhAmpmZmZmZGUDNzMzMzMwYQAAAAAAAABpAMzMzMzMzGUBmZmZmZmYaQJqZmZmZmRlAzczMzMzMGkAAAAAAAAAaQDMzMzMzMxtAZmZmZmZmGkCamZmZmZkbQM3MzMzMzBpAAAAAAAAAHEAzMzMzMzMbQGZmZmZmZhxAmpmZmZmZG0DNzMzMzMwcQAAAAAAAABxAMzMzMzMzHUBmZmZmZmYcQJqZmZmZmR1AzczMzMzMHEAAAAAAAAAeQDMzMzMzMx1AzczMzMzMGEAAAAAAAAAWQDMzMzMzMxtAZmZmZmZmFkCamZmZmZkbQAAAAAAAABhAzczMzMzMFkAAAAAAAAAcQDMzMzMzMxdAZmZmZmZmHEAzMzMzMzMXQJqZmZmZmRdAzczMzMzMHEAAAAAAAAAYQDMzMzMzMx1AZmZmZmZmFkBmZmZmZmYYQJqZmZmZmR1A",
          "dtype": "f8"
         },
         "xaxis": "x",
         "y": {
          "bdata": "BQYFBgUGBQYFBgUGBQYFBgUGBQYFBgUGBQYFBgUGBQYFBgUGBgYFBgUGBgUGBQYGBQYFBgYF",
          "dtype": "i1"
         },
         "yaxis": "y"
        }
       ],
       "layout": {
        "legend": {
         "title": {
          "text": "platform"
         },
         "tracegroupgap": 0
        },
        "template": {
         "data": {
          "bar": [
           {
            "error_x": {
             "color": "#2a3f5f"
            },
            "error_y": {
             "color": "#2a3f5f"
            },
            "marker": {
             "line": {
              "color": "#E5ECF6",
              "width": 0.5
             },
             "pattern": {
              "fillmode": "overlay",
              "size": 10,
              "solidity": 0.2
             }
            },
            "type": "bar"
           }
          ],
          "barpolar": [
           {
            "marker": {
             "line": {
              "color": "#E5ECF6",
              "width": 0.5
             },
             "pattern": {
              "fillmode": "overlay",
              "size": 10,
              "solidity": 0.2
             }
            },
            "type": "barpolar"
           }
          ],
          "carpet": [
           {
            "aaxis": {
             "endlinecolor": "#2a3f5f",
             "gridcolor": "white",
             "linecolor": "white",
             "minorgridcolor": "white",
             "startlinecolor": "#2a3f5f"
            },
            "baxis": {
             "endlinecolor": "#2a3f5f",
             "gridcolor": "white",
             "linecolor": "white",
             "minorgridcolor": "white",
             "startlinecolor": "#2a3f5f"
            },
            "type": "carpet"
           }
          ],
          "choropleth": [
           {
            "colorbar": {
             "outlinewidth": 0,
             "ticks": ""
            },
            "type": "choropleth"
           }
          ],
          "contour": [
           {
            "colorbar": {
             "outlinewidth": 0,
             "ticks": ""
            },
            "colorscale": [
             [
              0,
              "#0d0887"
             ],
             [
              0.1111111111111111,
              "#46039f"
             ],
             [
              0.2222222222222222,
              "#7201a8"
             ],
             [
              0.3333333333333333,
              "#9c179e"
             ],
             [
              0.4444444444444444,
              "#bd3786"
             ],
             [
              0.5555555555555556,
              "#d8576b"
             ],
             [
              0.6666666666666666,
              "#ed7953"
             ],
             [
              0.7777777777777778,
              "#fb9f3a"
             ],
             [
              0.8888888888888888,
              "#fdca26"
             ],
             [
              1,
              "#f0f921"
             ]
            ],
            "type": "contour"
           }
          ],
          "contourcarpet": [
           {
            "colorbar": {
             "outlinewidth": 0,
             "ticks": ""
            },
            "type": "contourcarpet"
           }
          ],
          "heatmap": [
           {
            "colorbar": {
             "outlinewidth": 0,
             "ticks": ""
            },
            "colorscale": [
             [
              0,
              "#0d0887"
             ],
             [
              0.1111111111111111,
              "#46039f"
             ],
             [
              0.2222222222222222,
              "#7201a8"
             ],
             [
              0.3333333333333333,
              "#9c179e"
             ],
             [
              0.4444444444444444,
              "#bd3786"
             ],
             [
              0.5555555555555556,
              "#d8576b"
             ],
             [
              0.6666666666666666,
              "#ed7953"
             ],
             [
              0.7777777777777778,
              "#fb9f3a"
             ],
             [
              0.8888888888888888,
              "#fdca26"
             ],
             [
              1,
              "#f0f921"
             ]
            ],
            "type": "heatmap"
           }
          ],
          "histogram": [
           {
            "marker": {
             "pattern": {
              "fillmode": "overlay",
              "size": 10,
              "solidity": 0.2
             }
            },
            "type": "histogram"
           }
          ],
          "histogram2d": [
           {
            "colorbar": {
             "outlinewidth": 0,
             "ticks": ""
            },
            "colorscale": [
             [
              0,
              "#0d0887"
             ],
             [
              0.1111111111111111,
              "#46039f"
             ],
             [
              0.2222222222222222,
              "#7201a8"
             ],
             [
              0.3333333333333333,
              "#9c179e"
             ],
             [
              0.4444444444444444,
              "#bd3786"
             ],
             [
              0.5555555555555556,
              "#d8576b"
             ],
             [
              0.6666666666666666,
              "#ed7953"
             ],
             [
              0.7777777777777778,
              "#fb9f3a"
             ],
             [
              0.8888888888888888,
              "#fdca26"
             ],
             [
              1,
              "#f0f921"
             ]
            ],
            "type": "histogram2d"
           }
          ],
          "histogram2dcontour": [
           {
            "colorbar": {
             "outlinewidth": 0,
             "ticks": ""
            },
            "colorscale": [
             [
              0,
              "#0d0887"
             ],
             [
              0.1111111111111111,
              "#46039f"
             ],
             [
              0.2222222222222222,
              "#7201a8"
             ],
             [
              0.3333333333333333,
              "#9c179e"
             ],
             [
              0.4444444444444444,
              "#bd3786"
             ],
             [
              0.5555555555555556,
              "#d8576b"
             ],
             [
              0.6666666666666666,
              "#ed7953"
             ],
             [
              0.7777777777777778,
              "#fb9f3a"
             ],
             [
              0.8888888888888888,
              "#fdca26"
             ],
             [
              1,
              "#f0f921"
             ]
            ],
            "type": "histogram2dcontour"
           }
          ],
          "mesh3d": [
           {
            "colorbar": {
             "outlinewidth": 0,
             "ticks": ""
            },
            "type": "mesh3d"
           }
          ],
          "parcoords": [
           {
            "line": {
             "colorbar": {
              "outlinewidth": 0,
              "ticks": ""
             }
            },
            "type": "parcoords"
           }
          ],
          "pie": [
           {
            "automargin": true,
            "type": "pie"
           }
          ],
          "scatter": [
           {
            "fillpattern": {
             "fillmode": "overlay",
             "size": 10,
             "solidity": 0.2
            },
            "type": "scatter"
           }
          ],
          "scatter3d": [
           {
            "line": {
             "colorbar": {
              "outlinewidth": 0,
              "ticks": ""
             }
            },
            "marker": {
             "colorbar": {
              "outlinewidth": 0,
              "ticks": ""
             }
            },
            "type": "scatter3d"
           }
          ],
          "scattercarpet": [
           {
            "marker": {
             "colorbar": {
              "outlinewidth": 0,
              "ticks": ""
             }
            },
            "type": "scattercarpet"
           }
          ],
          "scattergeo": [
           {
            "marker": {
             "colorbar": {
              "outlinewidth": 0,
              "ticks": ""
             }
            },
            "type": "scattergeo"
           }
          ],
          "scattergl": [
           {
            "marker": {
             "colorbar": {
              "outlinewidth": 0,
              "ticks": ""
             }
            },
            "type": "scattergl"
           }
          ],
          "scattermap": [
           {
            "marker": {
             "colorbar": {
              "outlinewidth": 0,
              "ticks": ""
             }
            },
            "type": "scattermap"
           }
          ],
          "scattermapbox": [
           {
            "marker": {
             "colorbar": {
              "outlinewidth": 0,
              "ticks": ""
             }
            },
            "type": "scattermapbox"
           }
          ],
          "scatterpolar": [
           {
            "marker": {
             "colorbar": {
              "outlinewidth": 0,
              "ticks": ""
             }
            },
            "type": "scatterpolar"
           }
          ],
          "scatterpolargl": [
           {
            "marker": {
             "colorbar": {
              "outlinewidth": 0,
              "ticks": ""
             }
            },
            "type": "scatterpolargl"
           }
          ],
          "scatterternary": [
           {
            "marker": {
             "colorbar": {
              "outlinewidth": 0,
              "ticks": ""
             }
            },
            "type": "scatterternary"
           }
          ],
          "surface": [
           {
            "colorbar": {
             "outlinewidth": 0,
             "ticks": ""
            },
            "colorscale": [
             [
              0,
              "#0d0887"
             ],
             [
              0.1111111111111111,
              "#46039f"
             ],
             [
              0.2222222222222222,
              "#7201a8"
             ],
             [
              0.3333333333333333,
              "#9c179e"
             ],
             [
              0.4444444444444444,
              "#bd3786"
             ],
             [
              0.5555555555555556,
              "#d8576b"
             ],
             [
              0.6666666666666666,
              "#ed7953"
             ],
             [
              0.7777777777777778,
              "#fb9f3a"
             ],
             [
              0.8888888888888888,
              "#fdca26"
             ],
             [
              1,
              "#f0f921"
             ]
            ],
            "type": "surface"
           }
          ],
          "table": [
           {
            "cells": {
             "fill": {
              "color": "#EBF0F8"
             },
             "line": {
              "color": "white"
             }
            },
            "header": {
             "fill": {
              "color": "#C8D4E3"
             },
             "line": {
              "color": "white"
             }
            },
            "type": "table"
           }
          ]
         },
         "layout": {
          "annotationdefaults": {
           "arrowcolor": "#2a3f5f",
           "arrowhead": 0,
           "arrowwidth": 1
          },
          "autotypenumbers": "strict",
          "coloraxis": {
           "colorbar": {
            "outlinewidth": 0,
            "ticks": ""
           }
          },
          "colorscale": {
           "diverging": [
            [
             0,
             "#8e0152"
            ],
            [
             0.1,
             "#c51b7d"
            ],
            [
             0.2,
             "#de77ae"
            ],
            [
             0.3,
             "#f1b6da"
            ],
            [
             0.4,
             "#fde0ef"
            ],
            [
             0.5,
             "#f7f7f7"
            ],
            [
             0.6,
             "#e6f5d0"
            ],
            [
             0.7,
             "#b8e186"
            ],
            [
             0.8,
             "#7fbc41"
            ],
            [
             0.9,
             "#4d9221"
            ],
            [
             1,
             "#276419"
            ]
           ],
           "sequential": [
            [
             0,
             "#0d0887"
            ],
            [
             0.1111111111111111,
             "#46039f"
            ],
            [
             0.2222222222222222,
             "#7201a8"
            ],
            [
             0.3333333333333333,
             "#9c179e"
            ],
            [
             0.4444444444444444,
             "#bd3786"
            ],
            [
             0.5555555555555556,
             "#d8576b"
            ],
            [
             0.6666666666666666,
             "#ed7953"
            ],
            [
             0.7777777777777778,
             "#fb9f3a"
            ],
            [
             0.8888888888888888,
             "#fdca26"
            ],
            [
             1,
             "#f0f921"
            ]
           ],
           "sequentialminus": [
            [
             0,
             "#0d0887"
            ],
            [
             0.1111111111111111,
             "#46039f"
            ],
            [
             0.2222222222222222,
             "#7201a8"
            ],
            [
             0.3333333333333333,
             "#9c179e"
            ],
            [
             0.4444444444444444,
             "#bd3786"
            ],
            [
             0.5555555555555556,
             "#d8576b"
            ],
            [
             0.6666666666666666,
             "#ed7953"
            ],
            [
             0.7777777777777778,
             "#fb9f3a"
            ],
            [
             0.8888888888888888,
             "#fdca26"
            ],
            [
             1,
             "#f0f921"
            ]
           ]
          },
          "colorway": [
           "#636efa",
           "#EF553B",
           "#00cc96",
           "#ab63fa",
           "#FFA15A",
           "#19d3f3",
           "#FF6692",
           "#B6E880",
           "#FF97FF",
           "#FECB52"
          ],
          "font": {
           "color": "#2a3f5f"
          },
          "geo": {
           "bgcolor": "white",
           "lakecolor": "white",
           "landcolor": "#E5ECF6",
           "showlakes": true,
           "showland": true,
           "subunitcolor": "white"
          },
          "hoverlabel": {
           "align": "left"
          },
          "hovermode": "closest",
          "mapbox": {
           "style": "light"
          },
          "paper_bgcolor": "white",
          "plot_bgcolor": "#E5ECF6",
          "polar": {
           "angularaxis": {
            "gridcolor": "white",
            "linecolor": "white",
            "ticks": ""
           },
           "bgcolor": "#E5ECF6",
           "radialaxis": {
            "gridcolor": "white",
            "linecolor": "white",
            "ticks": ""
           }
          },
          "scene": {
           "xaxis": {
            "backgroundcolor": "#E5ECF6",
            "gridcolor": "white",
            "gridwidth": 2,
            "linecolor": "white",
            "showbackground": true,
            "ticks": "",
            "zerolinecolor": "white"
           },
           "yaxis": {
            "backgroundcolor": "#E5ECF6",
            "gridcolor": "white",
            "gridwidth": 2,
            "linecolor": "white",
            "showbackground": true,
            "ticks": "",
            "zerolinecolor": "white"
           },
           "zaxis": {
            "backgroundcolor": "#E5ECF6",
            "gridcolor": "white",
            "gridwidth": 2,
            "linecolor": "white",
            "showbackground": true,
            "ticks": "",
            "zerolinecolor": "white"
           }
          },
          "shapedefaults": {
           "line": {
            "color": "#2a3f5f"
           }
          },
          "ternary": {
           "aaxis": {
            "gridcolor": "white",
            "linecolor": "white",
            "ticks": ""
           },
           "baxis": {
            "gridcolor": "white",
            "linecolor": "white",
            "ticks": ""
           },
           "bgcolor": "#E5ECF6",
           "caxis": {
            "gridcolor": "white",
            "linecolor": "white",
            "ticks": ""
           }
          },
          "title": {
           "x": 0.05
          },
          "xaxis": {
           "automargin": true,
           "gridcolor": "white",
           "linecolor": "white",
           "ticks": "",
           "title": {
            "standoff": 15
           },
           "zerolinecolor": "white",
           "zerolinewidth": 2
          },
          "yaxis": {
           "automargin": true,
           "gridcolor": "white",
           "linecolor": "white",
           "ticks": "",
           "title": {
            "standoff": 15
           },
           "zerolinecolor": "white",
           "zerolinewidth": 2
          }
         }
        },
        "title": {
         "text": "Relación entre uso diario y salud mental plataforma"
        },
        "xaxis": {
         "anchor": "y",
         "domain": [
          0,
          1
         ],
         "title": {
          "text": "daily_usage"
         }
        },
        "yaxis": {
         "anchor": "x",
         "domain": [
          0,
          1
         ],
         "title": {
          "text": "mental_health"
         }
        }
       }
      }
     },
     "metadata": {},
     "output_type": "display_data"
    },
    {
     "name": "stdout",
     "output_type": "stream",
     "text": [
      "Correlación:  -0.8\n"
     ]
    }
   ],
   "source": [
    "print('Promedio de puntuación de salud mental por plataforma')\n",
    "print(df[ df['platform'].isin(top_platform.index) ].groupby('platform')['mental_health'].mean().sort_values(ascending=False))\n",
    "\n",
    "## dispersión de uso diario y salud mental por plataforma\n",
    "fig = px.scatter(df[ df['platform'].isin(top_platform.index) ], x=\"daily_usage\", y='mental_health', color='platform', title='Relación entre uso diario y salud mental plataforma')\n",
    "\n",
    "fig.show()\n",
    "\n",
    "## Correlación\n",
    "print('Correlación: ', round(df['daily_usage'].corr(df['mental_health']), 2) )"
   ]
  },
  {
   "cell_type": "markdown",
   "id": "71643eb2",
   "metadata": {},
   "source": [
    "- Como ya se vio, el tiempo invertido en redes sociales como tiktok y whatsapp es más alto que en el resto. Aquí también puede apreciarse.\n",
    "\n",
    "- Hay una correlación negativa entre el uso de redes sociales y la salud mental autopercibida. Claro que también hay una fuerte correlación entre la salud mental percibida y las horas de sueño.\n",
    "\n",
    "- Los estudiantes que se perciben con una mejor salud mental son también aquellos que se asignan una puntuación de adicción a redes sociales más baja. Son los que duermen más.\n",
    "\n",
    "- El estatus de relación no parece afectar ninguna de las variables significativamente."
   ]
  },
  {
   "cell_type": "code",
   "execution_count": 13,
   "id": "aefbb0c0",
   "metadata": {},
   "outputs": [
    {
     "data": {
      "application/vnd.plotly.v1+json": {
       "config": {
        "plotlyServerURL": "https://plot.ly"
       },
       "data": [
        {
         "hovertemplate": "gender=female<br>daily_usage=%{x}<br>conflicts=%{y}<extra></extra>",
         "legendgroup": "female",
         "marker": {
          "color": "#636efa",
          "symbol": "circle"
         },
         "mode": "markers",
         "name": "female",
         "orientation": "v",
         "showlegend": true,
         "type": "scatter",
         "x": {
          "bdata": "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",
          "dtype": "f8"
         },
         "xaxis": "x",
         "y": {
          "bdata": "AwQFAgECBAMDAwEEBAMEAwEEBAMEAwEEBAMEAwEEAwQDBAMCBAMCBAMBAwEEAwQDAQQBBAMEAwMEAgMEAgMEAgMEAgMEAgMEAgMEAgMEAgMDBAIDBAIDBAIDBAIDBAIDBAIDBAIDBAIDBAIDBAIEAgEDBAIBAwQCAQMEAgEDBAIBAwQCAQMEAgEDBAIBAwQCAQMEAgEDBAIBAwQCAQMEAgMDAgQCAwMCBAIDAwIEAgMDAgQCAwMCBAIDAwIEAgMDAgQCAwMCBAIDAwIEAgMDAgQCAwMCBAIDAwIEAgMDAgQCAwMCBAIDAwIEAgMDAgQCAwMCBAIDAwIEAgMCAwQEAwIDBAQDAgMEBAMCAwQEAwIDBAQDAgMEBAMCAwQEBAQCAwIEBAICAgUEBAICAwQEAwIDAgQFAgICBQQEAwIDBAQDAgMCBAUCAgIFBAQDAgMEBAMCAwIEBQICAgUEBAMCAwQ=",
          "dtype": "i1"
         },
         "yaxis": "y"
        },
        {
         "hovertemplate": "gender=male<br>daily_usage=%{x}<br>conflicts=%{y}<extra></extra>",
         "legendgroup": "male",
         "marker": {
          "color": "#EF553B",
          "symbol": "circle"
         },
         "mode": "markers",
         "name": "male",
         "orientation": "v",
         "showlegend": true,
         "type": "scatter",
         "x": {
          "bdata": "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",
          "dtype": "f8"
         },
         "xaxis": "x",
         "y": {
          "bdata": "AAECAAEDAQIAAQQDAgEAAQQDAQIBAgQDAgIBAgQDAQMBAgEEAwEEAwECBAQDAgIBBAMEAwICAQQCAwQCAwQCAwQCAwQCAwQCAwQCAwQCAwQCAwQCAwQCAwQCAwQCAwQCAwQCAwQCAwQCAwQCAwQDAgMCAwEDAgMCAwIDAQMCAwIDAgMBAwIDAQMCAwEDAgMBAwIDAQMCAwEDAgMBAwIDAQIEAwMDAgQDAwMCBAMDAwIEAwMDAgQDAwMCBAMDAwIEAwMDAgQDAwMCBAMDAwIEAwMDAgQDAwMCBAMDAwIEAwMDAgQDAwMCBAMDAwIEAwMDAgQDAwMCBAMDAwIDAwIDAgMDAgMCAwMCAwIDAwIDAgMDAgMCAwMCAwIDAwIDAgUEBAMCAwQEAwIDAwQEAgICBQQEAwIDBAQDAgMCBAUCAgIFBAQDAgMEBAMCAwIEBQICAgUEBAMCAwQEAwIDAgQFAg==",
          "dtype": "i1"
         },
         "yaxis": "y"
        }
       ],
       "layout": {
        "legend": {
         "title": {
          "text": "gender"
         },
         "tracegroupgap": 0
        },
        "template": {
         "data": {
          "bar": [
           {
            "error_x": {
             "color": "#2a3f5f"
            },
            "error_y": {
             "color": "#2a3f5f"
            },
            "marker": {
             "line": {
              "color": "#E5ECF6",
              "width": 0.5
             },
             "pattern": {
              "fillmode": "overlay",
              "size": 10,
              "solidity": 0.2
             }
            },
            "type": "bar"
           }
          ],
          "barpolar": [
           {
            "marker": {
             "line": {
              "color": "#E5ECF6",
              "width": 0.5
             },
             "pattern": {
              "fillmode": "overlay",
              "size": 10,
              "solidity": 0.2
             }
            },
            "type": "barpolar"
           }
          ],
          "carpet": [
           {
            "aaxis": {
             "endlinecolor": "#2a3f5f",
             "gridcolor": "white",
             "linecolor": "white",
             "minorgridcolor": "white",
             "startlinecolor": "#2a3f5f"
            },
            "baxis": {
             "endlinecolor": "#2a3f5f",
             "gridcolor": "white",
             "linecolor": "white",
             "minorgridcolor": "white",
             "startlinecolor": "#2a3f5f"
            },
            "type": "carpet"
           }
          ],
          "choropleth": [
           {
            "colorbar": {
             "outlinewidth": 0,
             "ticks": ""
            },
            "type": "choropleth"
           }
          ],
          "contour": [
           {
            "colorbar": {
             "outlinewidth": 0,
             "ticks": ""
            },
            "colorscale": [
             [
              0,
              "#0d0887"
             ],
             [
              0.1111111111111111,
              "#46039f"
             ],
             [
              0.2222222222222222,
              "#7201a8"
             ],
             [
              0.3333333333333333,
              "#9c179e"
             ],
             [
              0.4444444444444444,
              "#bd3786"
             ],
             [
              0.5555555555555556,
              "#d8576b"
             ],
             [
              0.6666666666666666,
              "#ed7953"
             ],
             [
              0.7777777777777778,
              "#fb9f3a"
             ],
             [
              0.8888888888888888,
              "#fdca26"
             ],
             [
              1,
              "#f0f921"
             ]
            ],
            "type": "contour"
           }
          ],
          "contourcarpet": [
           {
            "colorbar": {
             "outlinewidth": 0,
             "ticks": ""
            },
            "type": "contourcarpet"
           }
          ],
          "heatmap": [
           {
            "colorbar": {
             "outlinewidth": 0,
             "ticks": ""
            },
            "colorscale": [
             [
              0,
              "#0d0887"
             ],
             [
              0.1111111111111111,
              "#46039f"
             ],
             [
              0.2222222222222222,
              "#7201a8"
             ],
             [
              0.3333333333333333,
              "#9c179e"
             ],
             [
              0.4444444444444444,
              "#bd3786"
             ],
             [
              0.5555555555555556,
              "#d8576b"
             ],
             [
              0.6666666666666666,
              "#ed7953"
             ],
             [
              0.7777777777777778,
              "#fb9f3a"
             ],
             [
              0.8888888888888888,
              "#fdca26"
             ],
             [
              1,
              "#f0f921"
             ]
            ],
            "type": "heatmap"
           }
          ],
          "histogram": [
           {
            "marker": {
             "pattern": {
              "fillmode": "overlay",
              "size": 10,
              "solidity": 0.2
             }
            },
            "type": "histogram"
           }
          ],
          "histogram2d": [
           {
            "colorbar": {
             "outlinewidth": 0,
             "ticks": ""
            },
            "colorscale": [
             [
              0,
              "#0d0887"
             ],
             [
              0.1111111111111111,
              "#46039f"
             ],
             [
              0.2222222222222222,
              "#7201a8"
             ],
             [
              0.3333333333333333,
              "#9c179e"
             ],
             [
              0.4444444444444444,
              "#bd3786"
             ],
             [
              0.5555555555555556,
              "#d8576b"
             ],
             [
              0.6666666666666666,
              "#ed7953"
             ],
             [
              0.7777777777777778,
              "#fb9f3a"
             ],
             [
              0.8888888888888888,
              "#fdca26"
             ],
             [
              1,
              "#f0f921"
             ]
            ],
            "type": "histogram2d"
           }
          ],
          "histogram2dcontour": [
           {
            "colorbar": {
             "outlinewidth": 0,
             "ticks": ""
            },
            "colorscale": [
             [
              0,
              "#0d0887"
             ],
             [
              0.1111111111111111,
              "#46039f"
             ],
             [
              0.2222222222222222,
              "#7201a8"
             ],
             [
              0.3333333333333333,
              "#9c179e"
             ],
             [
              0.4444444444444444,
              "#bd3786"
             ],
             [
              0.5555555555555556,
              "#d8576b"
             ],
             [
              0.6666666666666666,
              "#ed7953"
             ],
             [
              0.7777777777777778,
              "#fb9f3a"
             ],
             [
              0.8888888888888888,
              "#fdca26"
             ],
             [
              1,
              "#f0f921"
             ]
            ],
            "type": "histogram2dcontour"
           }
          ],
          "mesh3d": [
           {
            "colorbar": {
             "outlinewidth": 0,
             "ticks": ""
            },
            "type": "mesh3d"
           }
          ],
          "parcoords": [
           {
            "line": {
             "colorbar": {
              "outlinewidth": 0,
              "ticks": ""
             }
            },
            "type": "parcoords"
           }
          ],
          "pie": [
           {
            "automargin": true,
            "type": "pie"
           }
          ],
          "scatter": [
           {
            "fillpattern": {
             "fillmode": "overlay",
             "size": 10,
             "solidity": 0.2
            },
            "type": "scatter"
           }
          ],
          "scatter3d": [
           {
            "line": {
             "colorbar": {
              "outlinewidth": 0,
              "ticks": ""
             }
            },
            "marker": {
             "colorbar": {
              "outlinewidth": 0,
              "ticks": ""
             }
            },
            "type": "scatter3d"
           }
          ],
          "scattercarpet": [
           {
            "marker": {
             "colorbar": {
              "outlinewidth": 0,
              "ticks": ""
             }
            },
            "type": "scattercarpet"
           }
          ],
          "scattergeo": [
           {
            "marker": {
             "colorbar": {
              "outlinewidth": 0,
              "ticks": ""
             }
            },
            "type": "scattergeo"
           }
          ],
          "scattergl": [
           {
            "marker": {
             "colorbar": {
              "outlinewidth": 0,
              "ticks": ""
             }
            },
            "type": "scattergl"
           }
          ],
          "scattermap": [
           {
            "marker": {
             "colorbar": {
              "outlinewidth": 0,
              "ticks": ""
             }
            },
            "type": "scattermap"
           }
          ],
          "scattermapbox": [
           {
            "marker": {
             "colorbar": {
              "outlinewidth": 0,
              "ticks": ""
             }
            },
            "type": "scattermapbox"
           }
          ],
          "scatterpolar": [
           {
            "marker": {
             "colorbar": {
              "outlinewidth": 0,
              "ticks": ""
             }
            },
            "type": "scatterpolar"
           }
          ],
          "scatterpolargl": [
           {
            "marker": {
             "colorbar": {
              "outlinewidth": 0,
              "ticks": ""
             }
            },
            "type": "scatterpolargl"
           }
          ],
          "scatterternary": [
           {
            "marker": {
             "colorbar": {
              "outlinewidth": 0,
              "ticks": ""
             }
            },
            "type": "scatterternary"
           }
          ],
          "surface": [
           {
            "colorbar": {
             "outlinewidth": 0,
             "ticks": ""
            },
            "colorscale": [
             [
              0,
              "#0d0887"
             ],
             [
              0.1111111111111111,
              "#46039f"
             ],
             [
              0.2222222222222222,
              "#7201a8"
             ],
             [
              0.3333333333333333,
              "#9c179e"
             ],
             [
              0.4444444444444444,
              "#bd3786"
             ],
             [
              0.5555555555555556,
              "#d8576b"
             ],
             [
              0.6666666666666666,
              "#ed7953"
             ],
             [
              0.7777777777777778,
              "#fb9f3a"
             ],
             [
              0.8888888888888888,
              "#fdca26"
             ],
             [
              1,
              "#f0f921"
             ]
            ],
            "type": "surface"
           }
          ],
          "table": [
           {
            "cells": {
             "fill": {
              "color": "#EBF0F8"
             },
             "line": {
              "color": "white"
             }
            },
            "header": {
             "fill": {
              "color": "#C8D4E3"
             },
             "line": {
              "color": "white"
             }
            },
            "type": "table"
           }
          ]
         },
         "layout": {
          "annotationdefaults": {
           "arrowcolor": "#2a3f5f",
           "arrowhead": 0,
           "arrowwidth": 1
          },
          "autotypenumbers": "strict",
          "coloraxis": {
           "colorbar": {
            "outlinewidth": 0,
            "ticks": ""
           }
          },
          "colorscale": {
           "diverging": [
            [
             0,
             "#8e0152"
            ],
            [
             0.1,
             "#c51b7d"
            ],
            [
             0.2,
             "#de77ae"
            ],
            [
             0.3,
             "#f1b6da"
            ],
            [
             0.4,
             "#fde0ef"
            ],
            [
             0.5,
             "#f7f7f7"
            ],
            [
             0.6,
             "#e6f5d0"
            ],
            [
             0.7,
             "#b8e186"
            ],
            [
             0.8,
             "#7fbc41"
            ],
            [
             0.9,
             "#4d9221"
            ],
            [
             1,
             "#276419"
            ]
           ],
           "sequential": [
            [
             0,
             "#0d0887"
            ],
            [
             0.1111111111111111,
             "#46039f"
            ],
            [
             0.2222222222222222,
             "#7201a8"
            ],
            [
             0.3333333333333333,
             "#9c179e"
            ],
            [
             0.4444444444444444,
             "#bd3786"
            ],
            [
             0.5555555555555556,
             "#d8576b"
            ],
            [
             0.6666666666666666,
             "#ed7953"
            ],
            [
             0.7777777777777778,
             "#fb9f3a"
            ],
            [
             0.8888888888888888,
             "#fdca26"
            ],
            [
             1,
             "#f0f921"
            ]
           ],
           "sequentialminus": [
            [
             0,
             "#0d0887"
            ],
            [
             0.1111111111111111,
             "#46039f"
            ],
            [
             0.2222222222222222,
             "#7201a8"
            ],
            [
             0.3333333333333333,
             "#9c179e"
            ],
            [
             0.4444444444444444,
             "#bd3786"
            ],
            [
             0.5555555555555556,
             "#d8576b"
            ],
            [
             0.6666666666666666,
             "#ed7953"
            ],
            [
             0.7777777777777778,
             "#fb9f3a"
            ],
            [
             0.8888888888888888,
             "#fdca26"
            ],
            [
             1,
             "#f0f921"
            ]
           ]
          },
          "colorway": [
           "#636efa",
           "#EF553B",
           "#00cc96",
           "#ab63fa",
           "#FFA15A",
           "#19d3f3",
           "#FF6692",
           "#B6E880",
           "#FF97FF",
           "#FECB52"
          ],
          "font": {
           "color": "#2a3f5f"
          },
          "geo": {
           "bgcolor": "white",
           "lakecolor": "white",
           "landcolor": "#E5ECF6",
           "showlakes": true,
           "showland": true,
           "subunitcolor": "white"
          },
          "hoverlabel": {
           "align": "left"
          },
          "hovermode": "closest",
          "mapbox": {
           "style": "light"
          },
          "paper_bgcolor": "white",
          "plot_bgcolor": "#E5ECF6",
          "polar": {
           "angularaxis": {
            "gridcolor": "white",
            "linecolor": "white",
            "ticks": ""
           },
           "bgcolor": "#E5ECF6",
           "radialaxis": {
            "gridcolor": "white",
            "linecolor": "white",
            "ticks": ""
           }
          },
          "scene": {
           "xaxis": {
            "backgroundcolor": "#E5ECF6",
            "gridcolor": "white",
            "gridwidth": 2,
            "linecolor": "white",
            "showbackground": true,
            "ticks": "",
            "zerolinecolor": "white"
           },
           "yaxis": {
            "backgroundcolor": "#E5ECF6",
            "gridcolor": "white",
            "gridwidth": 2,
            "linecolor": "white",
            "showbackground": true,
            "ticks": "",
            "zerolinecolor": "white"
           },
           "zaxis": {
            "backgroundcolor": "#E5ECF6",
            "gridcolor": "white",
            "gridwidth": 2,
            "linecolor": "white",
            "showbackground": true,
            "ticks": "",
            "zerolinecolor": "white"
           }
          },
          "shapedefaults": {
           "line": {
            "color": "#2a3f5f"
           }
          },
          "ternary": {
           "aaxis": {
            "gridcolor": "white",
            "linecolor": "white",
            "ticks": ""
           },
           "baxis": {
            "gridcolor": "white",
            "linecolor": "white",
            "ticks": ""
           },
           "bgcolor": "#E5ECF6",
           "caxis": {
            "gridcolor": "white",
            "linecolor": "white",
            "ticks": ""
           }
          },
          "title": {
           "x": 0.05
          },
          "xaxis": {
           "automargin": true,
           "gridcolor": "white",
           "linecolor": "white",
           "ticks": "",
           "title": {
            "standoff": 15
           },
           "zerolinecolor": "white",
           "zerolinewidth": 2
          },
          "yaxis": {
           "automargin": true,
           "gridcolor": "white",
           "linecolor": "white",
           "ticks": "",
           "title": {
            "standoff": 15
           },
           "zerolinecolor": "white",
           "zerolinewidth": 2
          }
         }
        },
        "title": {
         "text": "Relación entre uso diario y conflictos generados"
        },
        "xaxis": {
         "anchor": "y",
         "domain": [
          0,
          1
         ],
         "title": {
          "text": "daily_usage"
         }
        },
        "yaxis": {
         "anchor": "x",
         "domain": [
          0,
          1
         ],
         "title": {
          "text": "conflicts"
         }
        }
       }
      }
     },
     "metadata": {},
     "output_type": "display_data"
    },
    {
     "name": "stdout",
     "output_type": "stream",
     "text": [
      "Correlación:  0.8\n"
     ]
    }
   ],
   "source": [
    "## dispersión de uso diario y horas de sueño por plataforma\n",
    "fig = px.scatter(df, x=\"daily_usage\", y='conflicts', color='gender', title='Relación entre uso diario y conflictos generados')\n",
    "\n",
    "fig.show()\n",
    "\n",
    "## Correlación\n",
    "print('Correlación: ', round(df['daily_usage'].corr(df['conflicts']), 2) )"
   ]
  },
  {
   "cell_type": "markdown",
   "id": "7389bfa1",
   "metadata": {},
   "source": [
    "- Existe una fuerte correlación positiva entre el número de conflictos sociales reportados y el uso diaro dedicado a redes sociales.\n",
    "\n",
    "- No se percibe relación entre el genero y número de conflictos o cualquier otra variable numérica.\n",
    "\n",
    "## Concluciones\n",
    "\n",
    "- El parámetro referencia más importante es el tiempo dedicado a redes sociales o 'daily_usage' medido en horas. Esta cantidad es un valor promedio diario estimado por los usuarios, una referencia de peso que coloca el usuario al uso de redes sociales respecto de otras actividades en el día. No es una cantidad medida rigurosamente o directamente desde algún dispositivo.\n",
    "\n",
    "- El tiempo dedicado guarda una fuerte correlación con otras variables tales como:\n",
    "    - Nivel de adicción a redes sociales (positiva, 0.83).\n",
    "    - Horas de sueño promedio diarias (negativa, -0.79).\n",
    "    - Salud mental autopercibida (negativa, -0.8).\n",
    "    - Número de conflictos sociales reportados (positiva, 0.8).\n",
    "\n",
    "- Parece haber una correlación negativa pequeña (-0.11) entre la edad y el uso de redes sociales. Esto puede deberse a la necesidad del estudiante por acreditar satisfactoriamente sus materias por lo que restringen su uso de redes sociales."
   ]
  }
 ],
 "metadata": {
  "kernelspec": {
   "display_name": "ssma_env",
   "language": "python",
   "name": "python3"
  },
  "language_info": {
   "codemirror_mode": {
    "name": "ipython",
    "version": 3
   },
   "file_extension": ".py",
   "mimetype": "text/x-python",
   "name": "python",
   "nbconvert_exporter": "python",
   "pygments_lexer": "ipython3",
   "version": "3.13.5"
  }
 },
 "nbformat": 4,
 "nbformat_minor": 5
}
